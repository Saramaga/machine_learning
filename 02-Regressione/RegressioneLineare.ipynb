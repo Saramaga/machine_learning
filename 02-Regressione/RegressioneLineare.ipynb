{
  "nbformat": 4,
  "nbformat_minor": 0,
  "metadata": {
    "colab": {
      "name": "latestDataAnalisi.ipynb",
      "provenance": [],
      "collapsed_sections": [],
      "toc_visible": true
    },
    "kernelspec": {
      "name": "python3",
      "display_name": "Python 3"
    }
  },
  "cells": [
    {
      "cell_type": "markdown",
      "metadata": {
        "id": "Yn_sFk2N8C9f",
        "colab_type": "text"
      },
      "source": [
        "# Cosa andremo a fare oggi?\n",
        "\n",
        "  * Introduzione alla libreria scikit-learn\n",
        "  * Regressione vs Classificazione \n",
        "  * Regressione Lineare\n",
        "    * Regressione Lineare: Esempio 1: Stima del salario mensile di un individuo basandoci solo sull'etá della persona.\n",
        "    * Regressione Lineare: Esempio 2: Stima del salario mensile di un individuo prima basandoci sull'etá, sul numero di ore di lavoro mensili e sull'indice (1-10) di esperienza della persona.\n",
        "    * Regressione Lineare Esempio 3: Utilizzeremo la regressione lineare per approssimare delle curve nello spazio 2D.\n",
        "  * Scikit-Learn datasets Spiegazione, nozioni su come scaricarli applicazione della regressione lineare a un dataset di scikit-learn (diabetes dataset)\n"
      ]
    },
    {
      "cell_type": "markdown",
      "metadata": {
        "id": "u1uyDVNR-ZYS",
        "colab_type": "text"
      },
      "source": [
        "# Introduzione alla libreria scikit-learn\n",
        "\n",
        "[Scikit-learn](https://scikit-learn.org/stable/) è una libreria di machine learning.\n",
        "* [Sklearn Installation page](https://scikit-learn.org/stable/install.html)  \n",
        "\n",
        "```\n",
        "# Pip packet manager\n",
        "pip install -U scikit-learn\n",
        "# Conda packet manager \n",
        "conda install scikit-learn\n",
        "```"
      ]
    },
    {
      "cell_type": "markdown",
      "metadata": {
        "id": "8Ux8rA9UfvX3",
        "colab_type": "text"
      },
      "source": [
        "# Regressione vs Classificazione\n",
        "Appartengono entrambi alla cateria di \"Supervised Learning\" (Apprendimento Supervisionato). Con ciò intendiamo quella situazione in cui io mi creo un dataset (quindi racconto una serie di dati) e con questi dati cerco di risolvere un problema. Posso risolvere due tipi di problema:\n",
        "\n",
        "## Regressione: Spiegazione      \n",
        "<center><h2>Qualè il valore di?</h2></center>\n",
        "Quando parliamo di regressione vogliamo stimare, predirre un NUMERO usando dei dati precedenemente raccolti. Quello che vogliamo predirre dipende dagli input che abbiamo.\n",
        "\n",
        "### Esempi Regressione:\n",
        "  * Dato il salario mensile delle persone che lavorano in Google e la loro età vogliamo capire (stimare, predirre) quanto guadagnerà marco che ha 20 anni se venisse assunto domani.\n",
        "  * Dati gli ultimi match dell'inter e la qualità degli ultimi acquisti vogliamo stimare il numero di punti che esso otterrà a fine campionato.\n",
        "  * Vogliamo approssimare una curva nello spazio. Cioè data una curva nella spazio 2D vogliamo trovare una funzione matematica capace di approssimarla.\n",
        "  * Vogliamo stimare il numero di anni che un pc appena comprato durerà, analizzando quando normamente dura.\n",
        "  * Vogliamo stimare la qualità di questo corso (da 1 a 10) sulla base delle vostre valutazioni e del numero di ore del corso.\n",
        "  * Vogliamo predirre il numero di studenti che passerà l'esame analizzando il vostro background (1-10), il numero di domande fatte e il numero di esercitazioni che avete risolto correttamente.\n",
        "\n",
        "## Classificazione: Spiegazione\n",
        "<center><h2>Chi tra?</h2></center>\n",
        "Parliamo invece di classificazione quando volgiamo DISTINGUERE (cioè capire se un qualcosa è a o b). Non ci interessa in questa caso avere una percentuale o un indicazione numerica vogliamo differenziare qualcosa. \n",
        "\n",
        "### Esempi Classificazione:\n",
        "\n",
        "  * Quale squadra di calcio vincerà il campionato? Nel campionato italiano ci sono 20 squadre, tra queste 20 voglio indovinare quale vincerà.\n",
        "  * Dati un insieme di data relativi a un paziente vogliamo capire se ha un raffreddore o semplicemente la febbre. (O uno o l'altro)\n",
        "  * Sulla base delle specifiche vogliamo campire se è più adatto come gaming laptop il mac pro, il dex xps o l'msi. Chi tra questi tre pc è più adatto?\n",
        "  * Sulla base del numero di persone assunte, più altre informazione vogliamo capire se è meglio per uno studente incerto inscriversi a giurisprudenza, oppure a ingegneria.\n",
        "  * Basandoci sulle citazioni più famose dei filosi vogliamo capire chi ha è più conosciuto tra Risultati relativi a Immanuel Kant\n",
        "  * Raccogliendo dati di 100 persone che hanno seguito le seguenti diete  (Dieta dissociata, Dieta Mediterranea, Cronodieta, Dieta del biscotto) vogliamo capire quale tra queste è più adatta a me."
      ]
    },
    {
      "cell_type": "markdown",
      "metadata": {
        "id": "vMrBNvnEd_A9",
        "colab_type": "text"
      },
      "source": [
        "# Regressione Lineare\n",
        "\n",
        "Significato:\n",
        "\n",
        "* dato una serie di dati misurati vogliamo trovare una relazione matematica tra i dati misurati e l'output desirato. <br>\n",
        "Vogliamo predirre qualcosa.\n"
      ]
    },
    {
      "cell_type": "markdown",
      "metadata": {
        "id": "kyBkV1yfeM27",
        "colab_type": "text"
      },
      "source": [
        "## Regressione Lineare: Esempio 1: Stima del salario mensile di un individuo basandoci solo sull'etá della persona.\n"
      ]
    },
    {
      "cell_type": "markdown",
      "metadata": {
        "id": "cAFpH3LgE2ni",
        "colab_type": "text"
      },
      "source": [
        "### Spiegazione del Problema\n",
        "Vogliamo predirre il salario di un lavoratore mensile in euro basandoci sulla sua età.\n",
        "\n",
        "Definiamo il problema matematicamente (caso lineare):\n",
        "\n",
        "<h2><center>$Y = w0*1 + w1*X1$</center></h2>\n",
        "\n",
        "  * Y: salario che voglio predire\n",
        "  * X1: età del lavoratore esempio X1=25 anni \n",
        "  * w0 e w1 sono i due parametri da stimare (Sconosciuti)\n",
        "\n",
        "Il problema di regressione consiste nel determinare le variabili sconosciute (a, b) utilizzando un dataset (insieme dei dati raccolti). Una volta indiviudati i parametri a e b saremo in grado di stimare quanto guandagna una persona a noi sconosciuta semplicemente basandoci sulla sue età.\n",
        "\n",
        "* Step 1) Dato un insieme di dati raccolti ( Y e X1) vogliamo stimare i parametri sconosciuti w0 e w1 (sono due numeri)\n",
        "\n",
        "```\n",
        "Dati Raccolti:\n",
        "Y = Salario al mese in euro\n",
        "X1 = Età del lavoratore\n",
        "1) Marco:    Y=1100   X1=19\n",
        "2) Daniele:  Y=1150   X1=21\n",
        "3) Davide:   Y=1155   X1=22\n",
        "4) Marta:    Y=1170   X1=23\n",
        "6) Alessia:  Y=1200   X1=26\n",
        "9) Stella:   Y=1750   X1=33\n",
        "10) Chiara   Y=1640   X1=29  \n",
        "```\n",
        "Extra Tip: É interesante notare che stiamo affrontando un problema di regressione lineare non é necessario applicare \"feature scaling\" cioé scalare gli inputs nel range 0 1. Stiamo cercando di trovare un \"affine map\" che é una composizione lineare. É piú comune scalare i dati quando affrontiamo un problema di classificazione.\n",
        "\n",
        "* Step 2) Vogliamo rispondere alla seguente domanda: \n",
        "  <h2><center>Quanto guadagnerá Giada se ha 25 anni?</center>\n",
        "\n",
        "  Vediamo chiaramente che all'aumentare dell'età aumenta il guadagno e ad occhio possiamo dire che Giada guadagnerà intorno ai 1180 euro. Matematicamente ci stiamo chiedendo il valore di Y (salario di giada) conoscendo la sua età (X1=25 anni) e i due parametri w0 e w1 (ottenuti nello step 1)\n",
        "\n",
        "Andremo a risolvere il sopra citato problema usando scikit-learn library. In particolare ci focalizzero sulla Regressione lineare.\n",
        "\n",
        "\n"
      ]
    },
    {
      "cell_type": "markdown",
      "metadata": {
        "id": "5NBI8v1_edYv",
        "colab_type": "text"
      },
      "source": [
        "### Scikit-Learn Regressione Lineare\n",
        "Dobbiamo capire come scrivere il seguente problema usando la libreria scikit-learn.\n",
        "\n",
        "*  [Linear Model Regression Descrizione]( https://scikit-learn.org/stable/modules/linear_model.html)\n",
        "* [Scikit-Learn Linear Regression Documentazione](https://scikit-learn.org/stable/modules/generated/sklearn.linear_model.LinearRegression.html)\n",
        "\n",
        "<h2><center>$Y = w0*1 + w1*X1 + w2*X2 + ... wN*XN$</center></h2>\n",
        "Dove X0 ... XN rappresentano gli input, nel nostro caso abbiamo solo l`etá ma avremmo potuto avere anche altri valore come il numero di ore di lavoro etc ..\n",
        "Quindi nel nostro caso avremo X1,X2 ...XN =0 e X1 (sarebbe l`etá).\n",
        "Quindi la sopra descritta equazione diventa\n",
        "<h2><center>$Y = w0*1 + w1*X1$</center></h2>"
      ]
    },
    {
      "cell_type": "markdown",
      "metadata": {
        "id": "n5YeNhipelEF",
        "colab_type": "text"
      },
      "source": [
        "\n",
        "### Creiamo il dataset usando numpy\n",
        "Cominciamo importando entrable le librerie scikit-learn e numpy. Sucessivamente andiamo a scrivere il dataset creato usando numpy."
      ]
    },
    {
      "cell_type": "code",
      "metadata": {
        "id": "OPrvcg8r-YmU",
        "colab_type": "code",
        "outputId": "71d1b11b-d868-46ac-9c5e-9da161be677f",
        "colab": {
          "base_uri": "https://localhost:8080/",
          "height": 283
        }
      },
      "source": [
        "#--------------- Importiamo le librerie ---------------------\n",
        "from sklearn import linear_model\n",
        "import numpy as np\n",
        "# -----------------------------------------------------------\n",
        "\n",
        "#------------- Creiamo il dataset usando numpy --------------\n",
        "'''\n",
        "Y = Salario al mese in euro\n",
        "X1 = Età del lavoratore\n",
        "Equazione = Y = b + a*X --> Y = w0 + w1*X1\n",
        "1) Marco:    Y=1100   X1=19  Y=w0*1+w1*X1 --> 1100 = w0*1 + w1*19\n",
        "2) Daniele:  Y=1150   X1=21  Y=w0*1+w1*X1 --> 1150 = w0*1 + w1*21\n",
        "3) Davide:   Y=1155   X1=22  Y=w0*1+w1*X1 --> 1155 = w0*1 + w1*22 \n",
        "4) Marta:    Y=1170   X1=23  Y=w0*1+w1*X1 --> 1170 = w0*1 + w1*23\n",
        "6) Alessia:  Y=1200   X1=26  Y=w0*1+w1*X1 --> 1200 = w0*1 + w1*26\n",
        "9) Stella:   Y=1750   X1=33  Y=w0*1+w1*X1 --> 1750 = w0*1 + w1*33\n",
        "10) Chiara   Y=1640   X1=29  Y=w0*1+w1*X1 --> 1640 = w0*1 + w1*29 \n",
        "'''\n",
        "X= np.array([[1,19],[1,21], [1,22], [1,23], [1,26], [1,33],[1,29]])\n",
        "Y= np.array([[1100],[1150],[1155],[1170],[1200],[1750],[1640]])\n",
        "#Y= np.array([1100,1150,1155,1170,1200,1750,1640])\n",
        "print(\"X input data: \\n\",X, X.shape) \n",
        "print(\"Y output data: \\n\",Y, Y.shape)\n",
        "#------------------------------------------------------------\n",
        "\n"
      ],
      "execution_count": 17,
      "outputs": [
        {
          "output_type": "stream",
          "text": [
            "X input data: \n",
            " [[ 1 19]\n",
            " [ 1 21]\n",
            " [ 1 22]\n",
            " [ 1 23]\n",
            " [ 1 26]\n",
            " [ 1 33]\n",
            " [ 1 29]] (7, 2)\n",
            "Y output data: \n",
            " [[1100]\n",
            " [1150]\n",
            " [1155]\n",
            " [1170]\n",
            " [1200]\n",
            " [1750]\n",
            " [1640]] (7, 1)\n"
          ],
          "name": "stdout"
        }
      ]
    },
    {
      "cell_type": "markdown",
      "metadata": {
        "id": "vyfHCqyWLJ7L",
        "colab_type": "text"
      },
      "source": [
        "### Implementazione Regressione Lineare scikit-learn"
      ]
    },
    {
      "cell_type": "code",
      "metadata": {
        "id": "k4w-qhXoLRbi",
        "colab_type": "code",
        "outputId": "a83f0e91-ee92-451d-a3f2-74ee267d4a1c",
        "colab": {
          "base_uri": "https://localhost:8080/",
          "height": 50
        }
      },
      "source": [
        "# fit_intercept = False significa che dovremmo manualmente inseririe 1 se vogliamo estrarre il parametro b\n",
        "reg = linear_model.LinearRegression(fit_intercept=False, normalize=False)\n",
        "reg.fit(X, Y)\n",
        "\n",
        "print('w0 and w1 ', reg.coef_)\n",
        "w0 = reg.coef_[0][0]\n",
        "w1 = reg.coef_[0][1]\n",
        "\n",
        "# Quanto guadagnerá Giada se ha 25 anni?\n",
        "X_test = np.array([[1,25]]) # creiamo l'input vector\n",
        "Y_pred = reg.predict(X_test) # prediciamo il guandagno\n",
        "Y_pred_ = w0*X_test[0][0] + w1*X_test[0][1] # Y_pred_ = w0*1 + w1*25\n",
        "print('Giada gudagnerà al mese: ', Y_pred, Y_pred_)\n"
      ],
      "execution_count": 18,
      "outputs": [
        {
          "output_type": "stream",
          "text": [
            "w0 and w1  [[56.21316306 50.70235756]]\n",
            "Giada gudagnerà al mese:  [[1323.77210216]] 1323.7721021610998\n"
          ],
          "name": "stdout"
        }
      ]
    },
    {
      "cell_type": "markdown",
      "metadata": {
        "id": "Uv4e_IRchuED",
        "colab_type": "text"
      },
      "source": [
        "### Implementazione Regressione Lineare scikit-learn Classi"
      ]
    },
    {
      "cell_type": "code",
      "metadata": {
        "id": "ymUpuf94NbSe",
        "colab_type": "code",
        "outputId": "c5c87b72-157c-4fbd-d3d6-85d5588d9244",
        "colab": {
          "base_uri": "https://localhost:8080/",
          "height": 66
        }
      },
      "source": [
        "from sklearn import linear_model\n",
        "import numpy as np\n",
        "# Implementazione usando fit_intercept=False , piú vicina alla logica matematica\n",
        "class Dataset:\n",
        "    def create(self):\n",
        "      X= np.array([[1,19],[1,21], [1,22], [1,23], [1,26], [1,33],[1,29]])\n",
        "      Y= np.array([[1100],[1150],[1155],[1170],[1200],[1750],[1640]])\n",
        "      return X,Y\n",
        "\n",
        "class LinearRegressor:\n",
        "    def __init__(self):\n",
        "      # Inizializzazione\n",
        "      self.reg = linear_model.LinearRegression(fit_intercept=False, normalize=False)\n",
        "    def train(self,X,Y):\n",
        "      # Estimate w0, w1 .. wN\n",
        "      self.reg.fit(X,Y)\n",
        "      print(self.reg.intercept_) # Questo deve essere 0 se fit_intercept=false\n",
        "      return self.reg.coef_\n",
        "    def predict(self,X_test,coef_):\n",
        "      Y_pred = self.reg.predict(X_test)\n",
        "      #Y_pred = np.dot(coef_, X_test.T)\n",
        "      return Y_pred\n",
        "\n",
        "myDataset=Dataset()\n",
        "X,Y = myDataset.create()\n",
        "myLinearRegressor = LinearRegressor()\n",
        "coef_ = myLinearRegressor.train(X,Y)\n",
        "print(coef_)\n",
        "# Set input Giada 25 anni Y=w0*1 + w1*X1 --> 1 X1=25 \n",
        "X_test = np.array([[1,25]])  \n",
        "Y_pred = myLinearRegressor.predict(X_test,coef_)\n",
        "print(Y_pred)\n",
        "\n"
      ],
      "execution_count": 19,
      "outputs": [
        {
          "output_type": "stream",
          "text": [
            "0.0\n",
            "[[56.21316306 50.70235756]]\n",
            "[[1323.77210216]]\n"
          ],
          "name": "stdout"
        }
      ]
    },
    {
      "cell_type": "markdown",
      "metadata": {
        "id": "gKkTmeT1T3Zu",
        "colab_type": "text"
      },
      "source": [
        "Nella sezione EXTRA sono presenti:\n",
        "* Implementazione usando fit_intercept=True. Questa implementazione permette di semplicare la scrittura degli input in quanto permette di omettere l'1\n",
        "* Implementazione usando la libreria numpy del Regressore lineare (Least Square-Metodo dei Minimi quadrati). Implementazione piú matematica.\n",
        "\n",
        "<h3>Come doveremmo modificare la creazione dei dati se oltre all'etá della persona avessimo piú informazioni? </h3>\n",
        "Per esempio se conoscessimo anche:\n",
        "\n",
        "* il numero di ore mensili di lavoro\n",
        "* indice di esperienza da 1 a 10\n"
      ]
    },
    {
      "cell_type": "markdown",
      "metadata": {
        "id": "wXvGC3itfpvx",
        "colab_type": "text"
      },
      "source": [
        "## Regressione Lineare: Esempio 2: Stima del salario mensile di un individuo prima basandoci sull'etá, sul numero di ore di lavoro mensili e sull'indice (1-10) di esperienza della persona."
      ]
    },
    {
      "cell_type": "markdown",
      "metadata": {
        "id": "-RP-9x7eAC7R",
        "colab_type": "text"
      },
      "source": [
        "### Spiegazione del Problema\n",
        "\n",
        "Il dataset diventerebbe:\n",
        "\n",
        "```\n",
        "Y = Salario al mese in euro\n",
        "X1 = Età del lavoratore\n",
        "X2 = Numero di ore mensili di lavoro\n",
        "X3 = Indice di esperienza da 1 a 10\n",
        "1) Marco:    Y=1100   X1=19   X2=150  X3=6 \n",
        "2) Daniele:  Y=1150   X1=21   X2=135  X3=8\n",
        "3) Davide:   Y=1155   X1=22   X2=160  X3=5\n",
        "4) Marta:    Y=1170   X1=23   X2=158  X3=7\n",
        "6) Alessia:  Y=1200   X1=26   X2=155  X3=7\n",
        "9) Stella:   Y=1750   X1=33   X2=120  X3=10\n",
        "10) Chiara   Y=1640   X1=29   X2=130  X3=9\n",
        "```\n",
        "L' equazione della regressione lineare diventa:\n",
        "<h2><center>$Y = w0*1 + w1*X1 + w2*X2 + w3*X3$</center></h2>\n",
        "L'obbiettivo é stimare i parametri w0,w1,w2,w3 partendo da un dataset (X1,X2,X3,Y) come il sopra elencato.\n",
        "\n",
        "  <h2><center>Quanto guadagnerá Giada se ha 25 anni, lavora 130 ore al mese ed ha un indice di esperienza uguale a 8?</center>\n",
        "\n",
        "\n",
        "\n",
        "  "
      ]
    },
    {
      "cell_type": "markdown",
      "metadata": {
        "id": "9bDC-kI8fytD",
        "colab_type": "text"
      },
      "source": [
        "### Creiamo il dataset usando numpy"
      ]
    },
    {
      "cell_type": "code",
      "metadata": {
        "id": "2pVoRtRkABIO",
        "colab_type": "code",
        "outputId": "f2d93ee9-61fe-4166-cdd8-22124b599fc0",
        "colab": {
          "base_uri": "https://localhost:8080/",
          "height": 283
        }
      },
      "source": [
        "#--------------- Importiamo le librerie ---------------------\n",
        "from sklearn import linear_model\n",
        "import numpy as np\n",
        "# -----------------------------------------------------------\n",
        "\n",
        "#------------- Creiamo il dataset usando numpy --------------\n",
        "'''\n",
        "Y = Salario al mese in euro\n",
        "X1 = Età del lavoratore\n",
        "X2 = Numero di ore mensili di lavoro\n",
        "X3 = Indice di esperienza da 1 a 10\n",
        "Equazione = Y = w0 + w1*X1 + w2*X2 + w3*X3\n",
        "1) Marco:    Y=1100   X1=19   X2=150   X3=6    Y= w0*1 + w1*X1 + w2*X2 + w3*X3 --> 1100 = w0*1 + w1*19 + w2*150 + w3*6\n",
        "2) Daniele:  Y=1150   X1=21   X2=135   X3=8    Y= w0*1 + w1*X1 + w2*X2 + w3*X3 --> 1100 = w0*1 + w1*21 + w2*135 + w3*8\n",
        "3) Davide:   Y=1155   X1=22   X2=160   X3=5    Y= w0*1 + w1*X1 + w2*X2 + w3*X3 --> 1100 = w0*1 + w1*22 + w2*160 + w3*5 \n",
        "4) Marta:    Y=1170   X1=23   X2=158   X3=7    Y= w0*1 + w1*X1 + w2*X2 + w3*X3 --> 1100 = w0*1 + w1*23 + w2*158 + w3*7\n",
        "6) Alessia:  Y=1200   X1=26   X2=155   X3=7    Y= w0*1 + w1*X1 + w2*X2 + w3*X3 --> 1100 = w0*1 + w1*26 + w2*155 + w3*7\n",
        "9) Stella:   Y=1750   X1=33   X2=120   X3=10   Y= w0*1 + w1*X1 + w2*X2 + w3*X3 --> 1100 = w0*1 + w1*33 + w2*120 + w3*10\n",
        "10) Chiara   Y=1640   X1=29   X2=130   x3=9    Y= w0*1 + w1*X1 + w2*X2 + w3*X3 --> 1100 = w0*1 + w1*29 + w2*130 + w3*9\n",
        "'''\n",
        "\n",
        "X= np.array([[1,19,150,6],[1,21,135,8], [1,22,160,5], [1,23,158,7], [1,26,155,7], [1,33,120,10],[1,29,130,9]])\n",
        "Y= np.array([[1100],[1150],[1155],[1170],[1200],[1750],[1640]])\n",
        "#Y= np.array([1100,1150,1155,1170,1200,1750,1640])\n",
        "print(\"X input data: \\n\",X, X.shape) \n",
        "print(\"Y output data: \\n\",Y, Y.shape)\n",
        "#------------------------------------------------------------"
      ],
      "execution_count": 20,
      "outputs": [
        {
          "output_type": "stream",
          "text": [
            "X input data: \n",
            " [[  1  19 150   6]\n",
            " [  1  21 135   8]\n",
            " [  1  22 160   5]\n",
            " [  1  23 158   7]\n",
            " [  1  26 155   7]\n",
            " [  1  33 120  10]\n",
            " [  1  29 130   9]] (7, 4)\n",
            "Y output data: \n",
            " [[1100]\n",
            " [1150]\n",
            " [1155]\n",
            " [1170]\n",
            " [1200]\n",
            " [1750]\n",
            " [1640]] (7, 1)\n"
          ],
          "name": "stdout"
        }
      ]
    },
    {
      "cell_type": "markdown",
      "metadata": {
        "id": "g9lsyvRciv37",
        "colab_type": "text"
      },
      "source": [
        "### Implementazione Regressione Lineare scikit-learn"
      ]
    },
    {
      "cell_type": "code",
      "metadata": {
        "id": "4byQg8Z2XTlk",
        "colab_type": "code",
        "outputId": "8e605380-480e-4d64-c0b4-84e545b9a8f6",
        "colab": {
          "base_uri": "https://localhost:8080/",
          "height": 50
        }
      },
      "source": [
        "# fit_intercept = False significa che dovremmo manualmente inseririe 1 se vogliamo estrarre il parametro b\n",
        "reg = linear_model.LinearRegression(fit_intercept=False, normalize=False)\n",
        "reg.fit(X, Y)\n",
        "\n",
        "print('w0, w1, w2, w3 ', reg.coef_)\n",
        "w0 = reg.coef_[0][0]\n",
        "w1 = reg.coef_[0][1]\n",
        "w2 = reg.coef_[0][2]\n",
        "w3 = reg.coef_[0][3]\n",
        "\n",
        "# Quanto guadagnerá Giada se ha X1=25 anni, lavora X2=130 ore al mese e ha un\n",
        "# indice di esperienza X3=8 ?\n",
        "X_test = np.array([[1,25,130,8]]) # creiamo l'input vector\n",
        "Y_pred = reg.predict(X_test) # prediciamo il guandagno\n",
        "Y_pred_ = w0*X_test[0][0] + w1*X_test[0][1] + w2*X_test[0][2] + w3*X_test[0][3] # Y_pred_ = w0*1 + w1*25 + w2*130 + w3*8\n",
        "print('Giada gudagnerà al mese: ', Y_pred, Y_pred_)"
      ],
      "execution_count": 21,
      "outputs": [
        {
          "output_type": "stream",
          "text": [
            "w0, w1, w2, w3  [[1989.84032486   43.44020785   -9.68682336  -48.36000551]]\n",
            "Giada gudagnerà al mese:  [[1429.67844041]] 1429.6784404143273\n"
          ],
          "name": "stdout"
        }
      ]
    },
    {
      "cell_type": "markdown",
      "metadata": {
        "id": "c5tx_AkEiykB",
        "colab_type": "text"
      },
      "source": [
        "### Implementazione Regressione Lineare scikit-learn Classi"
      ]
    },
    {
      "cell_type": "code",
      "metadata": {
        "id": "avD2Cu_gZLn_",
        "colab_type": "code",
        "outputId": "2afaa59b-7a57-4840-e433-c2b99a2706e7",
        "colab": {
          "base_uri": "https://localhost:8080/",
          "height": 66
        }
      },
      "source": [
        "from sklearn import linear_model\n",
        "import numpy as np\n",
        "# Implementazione usando fit_intercept=False , piú vicina alla logica matematica\n",
        "class Dataset:\n",
        "    def create(self):\n",
        "      X= np.array([[1,19,150,6],[1,21,135,8], [1,22,160,5], [1,23,158,7], [1,26,155,7], [1,33,120,10],[1,29,130,9]])\n",
        "      Y= np.array([[1100],[1150],[1155],[1170],[1200],[1750],[1640]])\n",
        "      return X,Y\n",
        "\n",
        "class LinearRegressor:\n",
        "    def __init__(self):\n",
        "      # Inizializzazione\n",
        "      self.reg = linear_model.LinearRegression(fit_intercept=False, normalize=False)\n",
        "    def train(self,X,Y):\n",
        "      # Estimate w0, w1 .. wN\n",
        "      self.reg.fit(X,Y)\n",
        "      print(self.reg.intercept_) # Questo deve essere 0 se fit_intercept=false\n",
        "      return self.reg.coef_\n",
        "    def predict(self,X_test,coef_):\n",
        "      Y_pred = self.reg.predict(X_test)\n",
        "      #Y_pred = np.dot(coef_, X_test.T)\n",
        "      return Y_pred\n",
        "\n",
        "myDataset=Dataset()\n",
        "X,Y = myDataset.create()\n",
        "myLinearRegressor = LinearRegressor()\n",
        "coef_ = myLinearRegressor.train(X,Y)\n",
        "print(coef_)\n",
        "# Set input Giada 25 anni Y=w0*1 + w1*X1 --> 1 X1=25 \n",
        "X_test = np.array([[1,25,130,8]])  \n",
        "Y_pred = myLinearRegressor.predict(X_test,coef_)\n",
        "print(Y_pred)"
      ],
      "execution_count": 22,
      "outputs": [
        {
          "output_type": "stream",
          "text": [
            "0.0\n",
            "[[1989.84032486   43.44020785   -9.68682336  -48.36000551]]\n",
            "[[1429.67844041]]\n"
          ],
          "name": "stdout"
        }
      ]
    },
    {
      "cell_type": "markdown",
      "metadata": {
        "id": "DR7WnhOejLVj",
        "colab_type": "text"
      },
      "source": [
        "## Regressione Lineare Esempio 3: Utilizzeremo la regressione lineare per approssimare delle curve nello spazio 2D."
      ]
    },
    {
      "cell_type": "markdown",
      "metadata": {
        "id": "CYkMqHCKhIEw",
        "colab_type": "text"
      },
      "source": [
        "### Visualizzare una curva nello spazio 2D"
      ]
    },
    {
      "cell_type": "code",
      "metadata": {
        "id": "M6sQZe8bjKnM",
        "colab_type": "code",
        "outputId": "dad14742-b2ee-4a0a-f263-20652870f3b0",
        "colab": {
          "base_uri": "https://localhost:8080/",
          "height": 281
        }
      },
      "source": [
        "import matplotlib.pyplot as plt\n",
        "%matplotlib inline\n",
        "import numpy as np\n",
        "\n",
        "X = np.linspace(0,10,100)\n",
        "Y = np.sin(2*X)*np.exp(-0.5*X) + 0.2*np.cos(X)\n",
        "plt.plot(X,Y)"
      ],
      "execution_count": 23,
      "outputs": [
        {
          "output_type": "execute_result",
          "data": {
            "text/plain": [
              "[<matplotlib.lines.Line2D at 0x7ff2a1f10438>]"
            ]
          },
          "metadata": {
            "tags": []
          },
          "execution_count": 23
        },
        {
          "output_type": "display_data",
          "data": {
            "image/png": "[encoded data removed]",
            "text/plain": [
              "<Figure size 432x288 with 1 Axes>"
            ]
          },
          "metadata": {
            "tags": []
          }
        }
      ]
    },
    {
      "cell_type": "markdown",
      "metadata": {
        "id": "bNsdVSZuhMnX",
        "colab_type": "text"
      },
      "source": [
        "### Regressore lineare utilizzato per stimare una curva nello spazio"
      ]
    },
    {
      "cell_type": "code",
      "metadata": {
        "id": "nShmtkpvljZf",
        "colab_type": "code",
        "outputId": "8bf3f83f-1f27-4565-dc34-50b68996319e",
        "colab": {
          "base_uri": "https://localhost:8080/",
          "height": 281
        }
      },
      "source": [
        "from sklearn import linear_model\n",
        "import numpy as np\n",
        "\n",
        "class LinearRegressor:\n",
        "    def __init__(self):\n",
        "      # Inizializzazione\n",
        "      self.reg = linear_model.LinearRegression(fit_intercept=False, normalize=False)\n",
        "    def train(self,X,Y):\n",
        "      # Estimate w0, w1 .. wN\n",
        "      self.reg.fit(X,Y)\n",
        "      return self.reg.coef_\n",
        "    def predict(self,X_test,coef_):\n",
        "      Y_pred = self.reg.predict(X_test)\n",
        "      #Y_pred = np.dot(coef_, X_test.T)\n",
        "      return Y_pred\n",
        "\n",
        "# Creazione dataset\n",
        "X1 = np.linspace(0,10,100)\n",
        "X2 = np.power(X1,2)\n",
        "X3 = np.power(X1,3)\n",
        "X4 = np.power(X1,4)\n",
        "X5 = np.power(X1,5)\n",
        "\n",
        "X_test1 = np.vstack([np.ones(len(X1)), X1]).T\n",
        "X_test2 = np.vstack([np.ones(len(X1)), X1, X2]).T\n",
        "X_test3 = np.vstack([np.ones(len(X1)), X1, X2, X3]).T\n",
        "X_test4 = np.vstack([np.ones(len(X1)), X1, X2, X3, X4]).T\n",
        "X_test5 = np.vstack([np.ones(len(X1)), X1, X2, X3, X4, X5]).T\n",
        "\n",
        "Y = np.sin(2*X1)*np.exp(-0.5*X1) + 0.2*np.cos(X1)\n",
        "\n",
        "myLinearRegressor1 = LinearRegressor()\n",
        "myLinearRegressor2 = LinearRegressor()\n",
        "myLinearRegressor3 = LinearRegressor()\n",
        "myLinearRegressor4 = LinearRegressor()\n",
        "myLinearRegressor5 = LinearRegressor()\n",
        "\n",
        "coef_1 = myLinearRegressor1.train(X_test1,Y)\n",
        "coef_2 = myLinearRegressor2.train(X_test2,Y)\n",
        "coef_3 = myLinearRegressor3.train(X_test3,Y)\n",
        "coef_4 = myLinearRegressor4.train(X_test4,Y)\n",
        "coef_5 = myLinearRegressor5.train(X_test5,Y)\n",
        "\n",
        "Y_pred1 = myLinearRegressor1.predict(X_test1,coef_1)\n",
        "Y_pred2 = myLinearRegressor2.predict(X_test2,coef_2)\n",
        "Y_pred3 = myLinearRegressor3.predict(X_test3,coef_3)\n",
        "Y_pred4 = myLinearRegressor4.predict(X_test4,coef_4)\n",
        "Y_pred5 = myLinearRegressor5.predict(X_test5,coef_5)\n",
        "\n",
        "#print(Y_pred)\n",
        "plt.plot(X1,Y)\n",
        "plt.plot(X1,Y_pred1, label='1')\n",
        "plt.plot(X1,Y_pred2, label='2')\n",
        "plt.plot(X1,Y_pred3, label='3')\n",
        "plt.plot(X1,Y_pred4, label='4')\n",
        "plt.plot(X1,Y_pred5, label='5')\n",
        "plt.legend()\n",
        "\n"
      ],
      "execution_count": 24,
      "outputs": [
        {
          "output_type": "execute_result",
          "data": {
            "text/plain": [
              "<matplotlib.legend.Legend at 0x7ff2a1e85b38>"
            ]
          },
          "metadata": {
            "tags": []
          },
          "execution_count": 24
        },
        {
          "output_type": "display_data",
          "data": {
            "image/png": "[encoded data removed]",
            "text/plain": [
              "<Figure size 432x288 with 1 Axes>"
            ]
          },
          "metadata": {
            "tags": []
          }
        }
      ]
    },
    {
      "cell_type": "markdown",
      "metadata": {
        "id": "tqaFSUZDm8Y1",
        "colab_type": "text"
      },
      "source": [
        "# Scikit-Learn datasets Spiegazione, nozioni su come scaricarli applicazione della regressione lineare a un dataset di scikit-learn (diabetes dataset)\n",
        "\n",
        "Andremo a vedere quali dataset sono disponibili in scikit-learn, come scaricarli e capirne il contenuto.\n",
        "\n",
        "* [Sklearn dataset page](https://scikit-learn.org/stable/datasets/index.html#datasets)\n",
        "\n",
        "I dataset disponibili sono i seguenti: \n",
        "  * [Iris plant dataset](https://scikit-learn.org/stable/modules/generated/sklearn.datasets.load_iris.html#sklearn.datasets.load_iris)\n",
        "  * [Optical recognition of handwritten digits dataset](https://scikit-learn.org/stable/modules/generated/sklearn.datasets.load_digits.html#sklearn.datasets.load_digits)\n",
        "  * [Boston houses price dataset](https://scikit-learn.org/stable/modules/generated/sklearn.datasets.load_boston.html#sklearn.datasets.load_boston)\n",
        "  * [Diabetes dataset](https://scikit-learn.org/stable/modules/generated/sklearn.datasets.load_diabetes.html#sklearn.datasets.load_diabetes)\n",
        "  * [Wine Recognition dataset](https://scikit-learn.org/stable/modules/generated/sklearn.datasets.load_wine.html#sklearn.datasets.load_wine)\n",
        "  * [Breast cancer wisconsin (diagnostic) dataset](https://scikit-learn.org/stable/modules/generated/sklearn.datasets.load_breast_cancer.html#sklearn.datasets.load_breast_cancer)\n",
        "  * [Linnerrud Dataset](https://scikit-learn.org/stable/modules/generated/sklearn.datasets.load_linnerud.html#sklearn.datasets.load_linnerud)\n"
      ]
    },
    {
      "cell_type": "markdown",
      "metadata": {
        "id": "zOEZDwpbh6ae",
        "colab_type": "text"
      },
      "source": [
        "## Importare i dataset da scikit-learn"
      ]
    },
    {
      "cell_type": "code",
      "metadata": {
        "id": "AriwX1cIn2zR",
        "colab_type": "code",
        "outputId": "fa1ffef8-ef4b-4a11-ba14-8169408abe36",
        "colab": {
          "base_uri": "https://localhost:8080/",
          "height": 33
        }
      },
      "source": [
        "# Importare i datasets\n",
        "from sklearn import datasets\n",
        "\n",
        "iris = datasets.load_iris() # Load iris dataset\n",
        "digits = datasets.load_digits() # Load digits dataset\n",
        "boston = datasets.load_boston() # Load boston dataset\n",
        "diabetes = datasets.load_diabetes() # Load diabetes dataset\n",
        "linnerud = datasets.load_linnerud() # Load linnerud dataset\n",
        "wine = datasets.load_wine() # Load wine dataset\n",
        "breast_cancer = datasets.load_breast_cancer() # Load breast_cancer dataset\n",
        "\n",
        "dataset_scelto = diabetes\n",
        "\n",
        "# Check the dataset diabetes\n",
        "#print(dataset_scelto)\n",
        "parametri = dataset_scelto.keys()\n",
        "valore = dataset_scelto.values()\n",
        "print(parametri)"
      ],
      "execution_count": 25,
      "outputs": [
        {
          "output_type": "stream",
          "text": [
            "dict_keys(['data', 'target', 'DESCR', 'feature_names', 'data_filename', 'target_filename'])\n"
          ],
          "name": "stdout"
        }
      ]
    },
    {
      "cell_type": "code",
      "metadata": {
        "id": "MxcIG66un6l4",
        "colab_type": "code",
        "colab": {
          "base_uri": "https://localhost:8080/",
          "height": 1650
        },
        "outputId": "0a67c2e3-85d1-4bdb-bbf6-9bafcb16c833"
      },
      "source": [
        "# Print useful information\n",
        "for name in parametri:\n",
        "  print(\"------------------------------------------\")\n",
        "  print(name , dataset_scelto[name])\n",
        "  print(\"------------------------------------------\")"
      ],
      "execution_count": 26,
      "outputs": [
        {
          "output_type": "stream",
          "text": [
            "------------------------------------------\n",
            "data [[ 0.03807591  0.05068012  0.06169621 ... -0.00259226  0.01990842\n",
            "  -0.01764613]\n",
            " [-0.00188202 -0.04464164 -0.05147406 ... -0.03949338 -0.06832974\n",
            "  -0.09220405]\n",
            " [ 0.08529891  0.05068012  0.04445121 ... -0.00259226  0.00286377\n",
            "  -0.02593034]\n",
            " ...\n",
            " [ 0.04170844  0.05068012 -0.01590626 ... -0.01107952 -0.04687948\n",
            "   0.01549073]\n",
            " [-0.04547248 -0.04464164  0.03906215 ...  0.02655962  0.04452837\n",
            "  -0.02593034]\n",
            " [-0.04547248 -0.04464164 -0.0730303  ... -0.03949338 -0.00421986\n",
            "   0.00306441]]\n",
            "------------------------------------------\n",
            "------------------------------------------\n",
            "target [151.  75. 141. 206. 135.  97. 138.  63. 110. 310. 101.  69. 179. 185.\n",
            " 118. 171. 166. 144.  97. 168.  68.  49.  68. 245. 184. 202. 137.  85.\n",
            " 131. 283. 129.  59. 341.  87.  65. 102. 265. 276. 252.  90. 100.  55.\n",
            "  61.  92. 259.  53. 190. 142.  75. 142. 155. 225.  59. 104. 182. 128.\n",
            "  52.  37. 170. 170.  61. 144.  52. 128.  71. 163. 150.  97. 160. 178.\n",
            "  48. 270. 202. 111.  85.  42. 170. 200. 252. 113. 143.  51.  52. 210.\n",
            "  65. 141.  55. 134.  42. 111.  98. 164.  48.  96.  90. 162. 150. 279.\n",
            "  92.  83. 128. 102. 302. 198.  95.  53. 134. 144. 232.  81. 104.  59.\n",
            " 246. 297. 258. 229. 275. 281. 179. 200. 200. 173. 180.  84. 121. 161.\n",
            "  99. 109. 115. 268. 274. 158. 107.  83. 103. 272.  85. 280. 336. 281.\n",
            " 118. 317. 235.  60. 174. 259. 178. 128.  96. 126. 288.  88. 292.  71.\n",
            " 197. 186.  25.  84.  96. 195.  53. 217. 172. 131. 214.  59.  70. 220.\n",
            " 268. 152.  47.  74. 295. 101. 151. 127. 237. 225.  81. 151. 107.  64.\n",
            " 138. 185. 265. 101. 137. 143. 141.  79. 292. 178.  91. 116.  86. 122.\n",
            "  72. 129. 142.  90. 158.  39. 196. 222. 277.  99. 196. 202. 155.  77.\n",
            " 191.  70.  73.  49.  65. 263. 248. 296. 214. 185.  78.  93. 252. 150.\n",
            "  77. 208.  77. 108. 160.  53. 220. 154. 259.  90. 246. 124.  67.  72.\n",
            " 257. 262. 275. 177.  71.  47. 187. 125.  78.  51. 258. 215. 303. 243.\n",
            "  91. 150. 310. 153. 346.  63.  89.  50.  39. 103. 308. 116. 145.  74.\n",
            "  45. 115. 264.  87. 202. 127. 182. 241.  66.  94. 283.  64. 102. 200.\n",
            " 265.  94. 230. 181. 156. 233.  60. 219.  80.  68. 332. 248.  84. 200.\n",
            "  55.  85.  89.  31. 129.  83. 275.  65. 198. 236. 253. 124.  44. 172.\n",
            " 114. 142. 109. 180. 144. 163. 147.  97. 220. 190. 109. 191. 122. 230.\n",
            " 242. 248. 249. 192. 131. 237.  78. 135. 244. 199. 270. 164.  72.  96.\n",
            " 306.  91. 214.  95. 216. 263. 178. 113. 200. 139. 139.  88. 148.  88.\n",
            " 243.  71.  77. 109. 272.  60.  54. 221.  90. 311. 281. 182. 321.  58.\n",
            " 262. 206. 233. 242. 123. 167.  63. 197.  71. 168. 140. 217. 121. 235.\n",
            " 245.  40.  52. 104. 132.  88.  69. 219.  72. 201. 110.  51. 277.  63.\n",
            " 118.  69. 273. 258.  43. 198. 242. 232. 175.  93. 168. 275. 293. 281.\n",
            "  72. 140. 189. 181. 209. 136. 261. 113. 131. 174. 257.  55.  84.  42.\n",
            " 146. 212. 233.  91. 111. 152. 120.  67. 310.  94. 183.  66. 173.  72.\n",
            "  49.  64.  48. 178. 104. 132. 220.  57.]\n",
            "------------------------------------------\n",
            "------------------------------------------\n",
            "DESCR .. _diabetes_dataset:\n",
            "\n",
            "Diabetes dataset\n",
            "----------------\n",
            "\n",
            "Ten baseline variables, age, sex, body mass index, average blood\n",
            "pressure, and six blood serum measurements were obtained for each of n =\n",
            "442 diabetes patients, as well as the response of interest, a\n",
            "quantitative measure of disease progression one year after baseline.\n",
            "\n",
            "**Data Set Characteristics:**\n",
            "\n",
            "  :Number of Instances: 442\n",
            "\n",
            "  :Number of Attributes: First 10 columns are numeric predictive values\n",
            "\n",
            "  :Target: Column 11 is a quantitative measure of disease progression one year after baseline\n",
            "\n",
            "  :Attribute Information:\n",
            "      - Age\n",
            "      - Sex\n",
            "      - Body mass index\n",
            "      - Average blood pressure\n",
            "      - S1\n",
            "      - S2\n",
            "      - S3\n",
            "      - S4\n",
            "      - S5\n",
            "      - S6\n",
            "\n",
            "Note: Each of these 10 feature variables have been mean centered and scaled by the standard deviation times `n_samples` (i.e. the sum of squares of each column totals 1).\n",
            "\n",
            "Source URL:\n",
            "https://www4.stat.ncsu.edu/~boos/var.select/diabetes.html\n",
            "\n",
            "For more information see:\n",
            "Bradley Efron, Trevor Hastie, Iain Johnstone and Robert Tibshirani (2004) \"Least Angle Regression,\" Annals of Statistics (with discussion), 407-499.\n",
            "(https://web.stanford.edu/~hastie/Papers/LARS/LeastAngle_2002.pdf)\n",
            "------------------------------------------\n",
            "------------------------------------------\n",
            "feature_names ['age', 'sex', 'bmi', 'bp', 's1', 's2', 's3', 's4', 's5', 's6']\n",
            "------------------------------------------\n",
            "------------------------------------------\n",
            "data_filename /usr/local/lib/python3.6/dist-packages/sklearn/datasets/data/diabetes_data.csv.gz\n",
            "------------------------------------------\n",
            "------------------------------------------\n",
            "target_filename /usr/local/lib/python3.6/dist-packages/sklearn/datasets/data/diabetes_target.csv.gz\n",
            "------------------------------------------\n"
          ],
          "name": "stdout"
        }
      ]
    },
    {
      "cell_type": "code",
      "metadata": {
        "id": "CaMILK_4oTWL",
        "colab_type": "code",
        "outputId": "17bfaaac-aba9-4d45-888a-860fbcb9737a",
        "colab": {
          "base_uri": "https://localhost:8080/",
          "height": 50
        }
      },
      "source": [
        "# Get Data\n",
        "data = dataset_scelto['data'] # or  data = iris.get('data')\n",
        "print(type(data), data.shape)\n",
        "# Get Target\n",
        "target = dataset_scelto['target']\n",
        "print(type(target), target.shape)\n",
        "\n",
        "# Print data\n",
        "#print(data)\n",
        "#print(target)"
      ],
      "execution_count": 27,
      "outputs": [
        {
          "output_type": "stream",
          "text": [
            "<class 'numpy.ndarray'> (442, 10)\n",
            "<class 'numpy.ndarray'> (442,)\n"
          ],
          "name": "stdout"
        }
      ]
    },
    {
      "cell_type": "markdown",
      "metadata": {
        "id": "riJw3UjziBct",
        "colab_type": "text"
      },
      "source": [
        "## Visualizzare il contenuto del dataset usando pandas"
      ]
    },
    {
      "cell_type": "code",
      "metadata": {
        "id": "GhkYQ4CYpCXb",
        "colab_type": "code",
        "colab": {
          "base_uri": "https://localhost:8080/",
          "height": 406
        },
        "outputId": "d19d4ae1-14fe-44cb-e79e-972d6e081ea2"
      },
      "source": [
        "import pandas as pd\n",
        "# visualize machine laerning data https://machinelearningmastery.com/visualize-machine-learning-data-python-pandas/\n",
        "# might be cool: https://towardsdatascience.com/data-visualization-for-machine-learning-and-data-science-a45178970be7\n",
        "\n",
        "# Create csv file\n",
        "df = pd.DataFrame(data=dataset_scelto['data'], columns = dataset_scelto['feature_names'])\n",
        "df.to_csv('dataset_scelto.csv', sep = ',', index = False)\n",
        "df"
      ],
      "execution_count": 28,
      "outputs": [
        {
          "output_type": "execute_result",
          "data": {
            "text/html": [
              "<div>\n",
              "<style scoped>\n",
              "    .dataframe tbody tr th:only-of-type {\n",
              "        vertical-align: middle;\n",
              "    }\n",
              "\n",
              "    .dataframe tbody tr th {\n",
              "        vertical-align: top;\n",
              "    }\n",
              "\n",
              "    .dataframe thead th {\n",
              "        text-align: right;\n",
              "    }\n",
              "</style>\n",
              "<table border=\"1\" class=\"dataframe\">\n",
              "  <thead>\n",
              "    <tr style=\"text-align: right;\">\n",
              "      <th></th>\n",
              "      <th>age</th>\n",
              "      <th>sex</th>\n",
              "      <th>bmi</th>\n",
              "      <th>bp</th>\n",
              "      <th>s1</th>\n",
              "      <th>s2</th>\n",
              "      <th>s3</th>\n",
              "      <th>s4</th>\n",
              "      <th>s5</th>\n",
              "      <th>s6</th>\n",
              "    </tr>\n",
              "  </thead>\n",
              "  <tbody>\n",
              "    <tr>\n",
              "      <th>0</th>\n",
              "      <td>0.038076</td>\n",
              "      <td>0.050680</td>\n",
              "      <td>0.061696</td>\n",
              "      <td>0.021872</td>\n",
              "      <td>-0.044223</td>\n",
              "      <td>-0.034821</td>\n",
              "      <td>-0.043401</td>\n",
              "      <td>-0.002592</td>\n",
              "      <td>0.019908</td>\n",
              "      <td>-0.017646</td>\n",
              "    </tr>\n",
              "    <tr>\n",
              "      <th>1</th>\n",
              "      <td>-0.001882</td>\n",
              "      <td>-0.044642</td>\n",
              "      <td>-0.051474</td>\n",
              "      <td>-0.026328</td>\n",
              "      <td>-0.008449</td>\n",
              "      <td>-0.019163</td>\n",
              "      <td>0.074412</td>\n",
              "      <td>-0.039493</td>\n",
              "      <td>-0.068330</td>\n",
              "      <td>-0.092204</td>\n",
              "    </tr>\n",
              "    <tr>\n",
              "      <th>2</th>\n",
              "      <td>0.085299</td>\n",
              "      <td>0.050680</td>\n",
              "      <td>0.044451</td>\n",
              "      <td>-0.005671</td>\n",
              "      <td>-0.045599</td>\n",
              "      <td>-0.034194</td>\n",
              "      <td>-0.032356</td>\n",
              "      <td>-0.002592</td>\n",
              "      <td>0.002864</td>\n",
              "      <td>-0.025930</td>\n",
              "    </tr>\n",
              "    <tr>\n",
              "      <th>3</th>\n",
              "      <td>-0.089063</td>\n",
              "      <td>-0.044642</td>\n",
              "      <td>-0.011595</td>\n",
              "      <td>-0.036656</td>\n",
              "      <td>0.012191</td>\n",
              "      <td>0.024991</td>\n",
              "      <td>-0.036038</td>\n",
              "      <td>0.034309</td>\n",
              "      <td>0.022692</td>\n",
              "      <td>-0.009362</td>\n",
              "    </tr>\n",
              "    <tr>\n",
              "      <th>4</th>\n",
              "      <td>0.005383</td>\n",
              "      <td>-0.044642</td>\n",
              "      <td>-0.036385</td>\n",
              "      <td>0.021872</td>\n",
              "      <td>0.003935</td>\n",
              "      <td>0.015596</td>\n",
              "      <td>0.008142</td>\n",
              "      <td>-0.002592</td>\n",
              "      <td>-0.031991</td>\n",
              "      <td>-0.046641</td>\n",
              "    </tr>\n",
              "    <tr>\n",
              "      <th>...</th>\n",
              "      <td>...</td>\n",
              "      <td>...</td>\n",
              "      <td>...</td>\n",
              "      <td>...</td>\n",
              "      <td>...</td>\n",
              "      <td>...</td>\n",
              "      <td>...</td>\n",
              "      <td>...</td>\n",
              "      <td>...</td>\n",
              "      <td>...</td>\n",
              "    </tr>\n",
              "    <tr>\n",
              "      <th>437</th>\n",
              "      <td>0.041708</td>\n",
              "      <td>0.050680</td>\n",
              "      <td>0.019662</td>\n",
              "      <td>0.059744</td>\n",
              "      <td>-0.005697</td>\n",
              "      <td>-0.002566</td>\n",
              "      <td>-0.028674</td>\n",
              "      <td>-0.002592</td>\n",
              "      <td>0.031193</td>\n",
              "      <td>0.007207</td>\n",
              "    </tr>\n",
              "    <tr>\n",
              "      <th>438</th>\n",
              "      <td>-0.005515</td>\n",
              "      <td>0.050680</td>\n",
              "      <td>-0.015906</td>\n",
              "      <td>-0.067642</td>\n",
              "      <td>0.049341</td>\n",
              "      <td>0.079165</td>\n",
              "      <td>-0.028674</td>\n",
              "      <td>0.034309</td>\n",
              "      <td>-0.018118</td>\n",
              "      <td>0.044485</td>\n",
              "    </tr>\n",
              "    <tr>\n",
              "      <th>439</th>\n",
              "      <td>0.041708</td>\n",
              "      <td>0.050680</td>\n",
              "      <td>-0.015906</td>\n",
              "      <td>0.017282</td>\n",
              "      <td>-0.037344</td>\n",
              "      <td>-0.013840</td>\n",
              "      <td>-0.024993</td>\n",
              "      <td>-0.011080</td>\n",
              "      <td>-0.046879</td>\n",
              "      <td>0.015491</td>\n",
              "    </tr>\n",
              "    <tr>\n",
              "      <th>440</th>\n",
              "      <td>-0.045472</td>\n",
              "      <td>-0.044642</td>\n",
              "      <td>0.039062</td>\n",
              "      <td>0.001215</td>\n",
              "      <td>0.016318</td>\n",
              "      <td>0.015283</td>\n",
              "      <td>-0.028674</td>\n",
              "      <td>0.026560</td>\n",
              "      <td>0.044528</td>\n",
              "      <td>-0.025930</td>\n",
              "    </tr>\n",
              "    <tr>\n",
              "      <th>441</th>\n",
              "      <td>-0.045472</td>\n",
              "      <td>-0.044642</td>\n",
              "      <td>-0.073030</td>\n",
              "      <td>-0.081414</td>\n",
              "      <td>0.083740</td>\n",
              "      <td>0.027809</td>\n",
              "      <td>0.173816</td>\n",
              "      <td>-0.039493</td>\n",
              "      <td>-0.004220</td>\n",
              "      <td>0.003064</td>\n",
              "    </tr>\n",
              "  </tbody>\n",
              "</table>\n",
              "<p>442 rows × 10 columns</p>\n",
              "</div>"
            ],
            "text/plain": [
              "          age       sex       bmi  ...        s4        s5        s6\n",
              "0    0.038076  0.050680  0.061696  ... -0.002592  0.019908 -0.017646\n",
              "1   -0.001882 -0.044642 -0.051474  ... -0.039493 -0.068330 -0.092204\n",
              "2    0.085299  0.050680  0.044451  ... -0.002592  0.002864 -0.025930\n",
              "3   -0.089063 -0.044642 -0.011595  ...  0.034309  0.022692 -0.009362\n",
              "4    0.005383 -0.044642 -0.036385  ... -0.002592 -0.031991 -0.046641\n",
              "..        ...       ...       ...  ...       ...       ...       ...\n",
              "437  0.041708  0.050680  0.019662  ... -0.002592  0.031193  0.007207\n",
              "438 -0.005515  0.050680 -0.015906  ...  0.034309 -0.018118  0.044485\n",
              "439  0.041708  0.050680 -0.015906  ... -0.011080 -0.046879  0.015491\n",
              "440 -0.045472 -0.044642  0.039062  ...  0.026560  0.044528 -0.025930\n",
              "441 -0.045472 -0.044642 -0.073030  ... -0.039493 -0.004220  0.003064\n",
              "\n",
              "[442 rows x 10 columns]"
            ]
          },
          "metadata": {
            "tags": []
          },
          "execution_count": 28
        }
      ]
    },
    {
      "cell_type": "code",
      "metadata": {
        "id": "Ss4tzny4ulWY",
        "colab_type": "code",
        "colab": {
          "base_uri": "https://localhost:8080/",
          "height": 287
        },
        "outputId": "da5be68d-9785-4e8a-899c-e0a9219b1bb8"
      },
      "source": [
        "df.describe()"
      ],
      "execution_count": 29,
      "outputs": [
        {
          "output_type": "execute_result",
          "data": {
            "text/html": [
              "<div>\n",
              "<style scoped>\n",
              "    .dataframe tbody tr th:only-of-type {\n",
              "        vertical-align: middle;\n",
              "    }\n",
              "\n",
              "    .dataframe tbody tr th {\n",
              "        vertical-align: top;\n",
              "    }\n",
              "\n",
              "    .dataframe thead th {\n",
              "        text-align: right;\n",
              "    }\n",
              "</style>\n",
              "<table border=\"1\" class=\"dataframe\">\n",
              "  <thead>\n",
              "    <tr style=\"text-align: right;\">\n",
              "      <th></th>\n",
              "      <th>age</th>\n",
              "      <th>sex</th>\n",
              "      <th>bmi</th>\n",
              "      <th>bp</th>\n",
              "      <th>s1</th>\n",
              "      <th>s2</th>\n",
              "      <th>s3</th>\n",
              "      <th>s4</th>\n",
              "      <th>s5</th>\n",
              "      <th>s6</th>\n",
              "    </tr>\n",
              "  </thead>\n",
              "  <tbody>\n",
              "    <tr>\n",
              "      <th>count</th>\n",
              "      <td>4.420000e+02</td>\n",
              "      <td>4.420000e+02</td>\n",
              "      <td>4.420000e+02</td>\n",
              "      <td>4.420000e+02</td>\n",
              "      <td>4.420000e+02</td>\n",
              "      <td>4.420000e+02</td>\n",
              "      <td>4.420000e+02</td>\n",
              "      <td>4.420000e+02</td>\n",
              "      <td>4.420000e+02</td>\n",
              "      <td>4.420000e+02</td>\n",
              "    </tr>\n",
              "    <tr>\n",
              "      <th>mean</th>\n",
              "      <td>-3.634285e-16</td>\n",
              "      <td>1.308343e-16</td>\n",
              "      <td>-8.045349e-16</td>\n",
              "      <td>1.281655e-16</td>\n",
              "      <td>-8.835316e-17</td>\n",
              "      <td>1.327024e-16</td>\n",
              "      <td>-4.574646e-16</td>\n",
              "      <td>3.777301e-16</td>\n",
              "      <td>-3.830854e-16</td>\n",
              "      <td>-3.412882e-16</td>\n",
              "    </tr>\n",
              "    <tr>\n",
              "      <th>std</th>\n",
              "      <td>4.761905e-02</td>\n",
              "      <td>4.761905e-02</td>\n",
              "      <td>4.761905e-02</td>\n",
              "      <td>4.761905e-02</td>\n",
              "      <td>4.761905e-02</td>\n",
              "      <td>4.761905e-02</td>\n",
              "      <td>4.761905e-02</td>\n",
              "      <td>4.761905e-02</td>\n",
              "      <td>4.761905e-02</td>\n",
              "      <td>4.761905e-02</td>\n",
              "    </tr>\n",
              "    <tr>\n",
              "      <th>min</th>\n",
              "      <td>-1.072256e-01</td>\n",
              "      <td>-4.464164e-02</td>\n",
              "      <td>-9.027530e-02</td>\n",
              "      <td>-1.123996e-01</td>\n",
              "      <td>-1.267807e-01</td>\n",
              "      <td>-1.156131e-01</td>\n",
              "      <td>-1.023071e-01</td>\n",
              "      <td>-7.639450e-02</td>\n",
              "      <td>-1.260974e-01</td>\n",
              "      <td>-1.377672e-01</td>\n",
              "    </tr>\n",
              "    <tr>\n",
              "      <th>25%</th>\n",
              "      <td>-3.729927e-02</td>\n",
              "      <td>-4.464164e-02</td>\n",
              "      <td>-3.422907e-02</td>\n",
              "      <td>-3.665645e-02</td>\n",
              "      <td>-3.424784e-02</td>\n",
              "      <td>-3.035840e-02</td>\n",
              "      <td>-3.511716e-02</td>\n",
              "      <td>-3.949338e-02</td>\n",
              "      <td>-3.324879e-02</td>\n",
              "      <td>-3.317903e-02</td>\n",
              "    </tr>\n",
              "    <tr>\n",
              "      <th>50%</th>\n",
              "      <td>5.383060e-03</td>\n",
              "      <td>-4.464164e-02</td>\n",
              "      <td>-7.283766e-03</td>\n",
              "      <td>-5.670611e-03</td>\n",
              "      <td>-4.320866e-03</td>\n",
              "      <td>-3.819065e-03</td>\n",
              "      <td>-6.584468e-03</td>\n",
              "      <td>-2.592262e-03</td>\n",
              "      <td>-1.947634e-03</td>\n",
              "      <td>-1.077698e-03</td>\n",
              "    </tr>\n",
              "    <tr>\n",
              "      <th>75%</th>\n",
              "      <td>3.807591e-02</td>\n",
              "      <td>5.068012e-02</td>\n",
              "      <td>3.124802e-02</td>\n",
              "      <td>3.564384e-02</td>\n",
              "      <td>2.835801e-02</td>\n",
              "      <td>2.984439e-02</td>\n",
              "      <td>2.931150e-02</td>\n",
              "      <td>3.430886e-02</td>\n",
              "      <td>3.243323e-02</td>\n",
              "      <td>2.791705e-02</td>\n",
              "    </tr>\n",
              "    <tr>\n",
              "      <th>max</th>\n",
              "      <td>1.107267e-01</td>\n",
              "      <td>5.068012e-02</td>\n",
              "      <td>1.705552e-01</td>\n",
              "      <td>1.320442e-01</td>\n",
              "      <td>1.539137e-01</td>\n",
              "      <td>1.987880e-01</td>\n",
              "      <td>1.811791e-01</td>\n",
              "      <td>1.852344e-01</td>\n",
              "      <td>1.335990e-01</td>\n",
              "      <td>1.356118e-01</td>\n",
              "    </tr>\n",
              "  </tbody>\n",
              "</table>\n",
              "</div>"
            ],
            "text/plain": [
              "                age           sex  ...            s5            s6\n",
              "count  4.420000e+02  4.420000e+02  ...  4.420000e+02  4.420000e+02\n",
              "mean  -3.634285e-16  1.308343e-16  ... -3.830854e-16 -3.412882e-16\n",
              "std    4.761905e-02  4.761905e-02  ...  4.761905e-02  4.761905e-02\n",
              "min   -1.072256e-01 -4.464164e-02  ... -1.260974e-01 -1.377672e-01\n",
              "25%   -3.729927e-02 -4.464164e-02  ... -3.324879e-02 -3.317903e-02\n",
              "50%    5.383060e-03 -4.464164e-02  ... -1.947634e-03 -1.077698e-03\n",
              "75%    3.807591e-02  5.068012e-02  ...  3.243323e-02  2.791705e-02\n",
              "max    1.107267e-01  5.068012e-02  ...  1.335990e-01  1.356118e-01\n",
              "\n",
              "[8 rows x 10 columns]"
            ]
          },
          "metadata": {
            "tags": []
          },
          "execution_count": 29
        }
      ]
    },
    {
      "cell_type": "code",
      "metadata": {
        "id": "ZLmclNWUuapE",
        "colab_type": "code",
        "colab": {
          "base_uri": "https://localhost:8080/",
          "height": 863
        },
        "outputId": "6120bef4-e1a5-4060-e098-54d90e813574"
      },
      "source": [
        "import matplotlib.pyplot as plt\n",
        "plt.rcParams['figure.figsize'] = [20, 15]\n",
        "# Plot input data\n",
        "df.plot(kind='hist', subplots=True, layout=(4,3))\n",
        "plt.show()"
      ],
      "execution_count": 30,
      "outputs": [
        {
          "output_type": "display_data",
          "data": {
            "image/png": "[encoded data removed]",
            "text/plain": [
              "<Figure size 1440x1080 with 12 Axes>"
            ]
          },
          "metadata": {
            "tags": []
          }
        }
      ]
    },
    {
      "cell_type": "markdown",
      "metadata": {
        "id": "msX19t2RiJns",
        "colab_type": "text"
      },
      "source": [
        "## Applicare la regressione lineare al dataset diabetes\n",
        "Usiamo fit_intercet=False. L'implementazione con fit_intercept = True la trovate negli Extra"
      ]
    },
    {
      "cell_type": "code",
      "metadata": {
        "id": "qQHsRqGQv0NP",
        "colab_type": "code",
        "outputId": "e63874aa-5258-4b58-efcb-65dbd3b0c2a0",
        "colab": {
          "base_uri": "https://localhost:8080/",
          "height": 945
        }
      },
      "source": [
        "# Creiamo il regressore lineare\n",
        "# Esempio interessante: https://scikit-learn.org/stable/auto_examples/linear_model/plot_ols.html\n",
        "# Implementazione Intercept FALSE , see Extra Advance for Intercept True\n",
        "class LinearRegressor:\n",
        "    def __init__(self):\n",
        "      # Inizializzazione\n",
        "      self.reg = linear_model.LinearRegression(fit_intercept=False, normalize=False)\n",
        "    def train(self,X,Y):\n",
        "      # Estimate w0, w1 .. wN\n",
        "      self.reg.fit(X,Y)\n",
        "      return self.reg.coef_\n",
        "    def predict(self,X_test,coef_):\n",
        "      Y_pred = self.reg.predict(X_test)\n",
        "      #Y_pred = np.dot(coef_, X_test.T) \n",
        "      return Y_pred\n",
        "\n",
        "# Creiamoil dataset\n",
        "data = dataset_scelto['data'] \n",
        "target = dataset_scelto['target']\n",
        "x_train = data[:-20]\n",
        "\n",
        "X_train = np.vstack([np.ones(len(x_train)), x_train.T]).T\n",
        "Y_train = target[:-20]\n",
        "x_test = data[-20:]\n",
        "X_test = np.vstack([np.ones(len(x_test)), x_test.T]).T\n",
        "Y_test = target[-20:]\n",
        "\n",
        "print(\" X Train shape: \",X_train.shape)\n",
        "print(\"Y Train shape: \", Y_train.shape)\n",
        "\n",
        "# Creiamo Regressore Lineare\n",
        "myLinearRegressor = LinearRegressor()\n",
        "coef_ = myLinearRegressor.train(X_train,Y_train)\n",
        "# Cosa vogliamo predirre\n",
        "Y_pred = myLinearRegressor.predict(X_test, coef_)\n",
        "\n",
        "# Plot\n",
        "print(Y_test.shape)\n",
        "print(Y_pred.shape)\n",
        "length = Y_pred.shape[0] # 20\n",
        "index_bar = np.linspace(0,length,length)\n",
        "plt.plot(index_bar, Y_test, label='Test')\n",
        "plt.plot(index_bar, Y_pred, label='Prediction')\n",
        "plt.legend()\n"
      ],
      "execution_count": 31,
      "outputs": [
        {
          "output_type": "stream",
          "text": [
            " X Train shape:  (422, 11)\n",
            "Y Train shape:  (422,)\n",
            "(20,)\n",
            "(20,)\n"
          ],
          "name": "stdout"
        },
        {
          "output_type": "execute_result",
          "data": {
            "text/plain": [
              "<matplotlib.legend.Legend at 0x7ff2a3b3f828>"
            ]
          },
          "metadata": {
            "tags": []
          },
          "execution_count": 31
        },
        {
          "output_type": "display_data",
          "data": {
            "image/png": "[encoded data removed]",
            "text/plain": [
              "<Figure size 1440x1080 with 1 Axes>"
            ]
          },
          "metadata": {
            "tags": []
          }
        }
      ]
    },
    {
      "cell_type": "markdown",
      "metadata": {
        "id": "sc1f3O7uTJbS",
        "colab_type": "text"
      },
      "source": [
        "# Extra Informazioni (Avanzate)"
      ]
    },
    {
      "cell_type": "markdown",
      "metadata": {
        "id": "doMRLNIIgOyg",
        "colab_type": "text"
      },
      "source": [
        "## Scikit-Learn  Regressione Lineare fit_intercept=True senza classi"
      ]
    },
    {
      "cell_type": "code",
      "metadata": {
        "id": "eAu9d9f5V27H",
        "colab_type": "code",
        "outputId": "1529c2da-c868-4393-d20d-15a59b5d35dc",
        "colab": {
          "base_uri": "https://localhost:8080/",
          "height": 66
        }
      },
      "source": [
        "#---------------------------------------------------------------------\n",
        "#--------------------   SCIKIT-LEARN REGRESSORE LINEARE  -------------\n",
        "#---------------------------------------------------------------------\n",
        "#--------------- Implementazione usando fit_intercept=True\n",
        "# Implementazione piú semplice da scrivere ma meno vicina alla logica matematica\n",
        "\n",
        "from sklearn import linear_model\n",
        "import numpy as np\n",
        "\n",
        "# Linear Model Regression Description https://scikit-learn.org/stable/modules/linear_model.html\n",
        "# Scikit Documentazione https://scikit-learn.org/stable/modules/generated/sklearn.linear_model.LinearRegression.html\n",
        "\n",
        "# Appraoch Linear model: Y=b+aX \n",
        "# fit_intercept = True significa che il parametro b è automaticamente settato a 1 e la sua stima sarà inserita in intercept_\n",
        "reg = linear_model.LinearRegression(fit_intercept=True, normalize=False)\n",
        "\n",
        "# Y e X\n",
        "x = np.array([19,21,22,23,26,33,29])\n",
        "#X = np.vstack([np.ones(len(x)),x]).T\n",
        "X = np.array([[19],[21], [22], [23], [26], [33],[29]])\n",
        "Y = np.array([1100,1150,1155,1170,1200,1750,1640])\n",
        "#print(X)\n",
        "#print(Y)\n",
        "\n",
        "reg.fit(X, Y)\n",
        "\n",
        "# Get w0 and w1\n",
        "w0 = reg.intercept_\n",
        "w1 = reg.coef_\n",
        "\n",
        "print('w0: ', reg.coef_)\n",
        "print('w1: ', reg.intercept_)\n",
        "\n",
        "X_test = np.array([[25]]) # giada ha 25 anni\n",
        "Y_pred = reg.predict(X_test)\n",
        "Y_pred_ = w0 + w1*X_test \n",
        "print('Giada gudagnerà al mese: ', Y_pred, Y_pred_)"
      ],
      "execution_count": 32,
      "outputs": [
        {
          "output_type": "stream",
          "text": [
            "w0:  [50.70235756]\n",
            "w1:  56.21316306483277\n",
            "Giada gudagnerà al mese:  [1323.77210216] [[1323.77210216]]\n"
          ],
          "name": "stdout"
        }
      ]
    },
    {
      "cell_type": "markdown",
      "metadata": {
        "id": "aDBozb0ngYtN",
        "colab_type": "text"
      },
      "source": [
        "## Scikit-Learn  Regressione Lineare fit_intercept=True con classi"
      ]
    },
    {
      "cell_type": "code",
      "metadata": {
        "id": "vjnBmjBhc_7l",
        "colab_type": "code",
        "outputId": "bf3aa3b1-9e9a-42b8-a128-2b85c46f431d",
        "colab": {
          "base_uri": "https://localhost:8080/",
          "height": 66
        }
      },
      "source": [
        "#---------------------------------------------------------------------\n",
        "#---------------- CLASSE SCIKIT-LEARN REGRESSORE LINEARE -------------\n",
        "#---------------------------------------------------------------------\n",
        "#--------------- Implementazione usando fit_intercept=True\n",
        "# Implementazione piú semplice da scrivere ma meno vicina alla logica matematica\n",
        "\n",
        "from sklearn import linear_model\n",
        "import numpy as np\n",
        "\n",
        "class Dataset:\n",
        "    def create(self):\n",
        "      X= np.array([[19],[21], [22], [23], [26], [33],[29]])\n",
        "      Y= np.array([[1100],[1150],[1155],[1170],[1200],[1750],[1640]])\n",
        "      return X,Y\n",
        "\n",
        "class LinearRegressor:\n",
        "    def __init__(self):\n",
        "      # Inizializzazione\n",
        "      self.reg = linear_model.LinearRegression(fit_intercept=True, normalize=False)\n",
        "    def train(self,X,Y):\n",
        "      # Estimate w0, w1 .. wN\n",
        "      self.reg.fit(X,Y)\n",
        "      print(self.reg.intercept_) # Questo deve essere diverso da 0 se fit_intercept=True\n",
        "      return self.reg.coef_, self.reg.intercept_\n",
        "    def predict(self,X_test,coef_, intercept_):\n",
        "      Y_pred = self.reg.predict(X_test)\n",
        "      #Y_pred = np.dot(coef_, X_test.T) + intercept_\n",
        "      return Y_pred\n",
        "\n",
        "myDataset=Dataset()\n",
        "X,Y = myDataset.create()\n",
        "myLinearRegressor = LinearRegressor()\n",
        "# coef_ rappresenta w1,w2, ... wN , intercept_ rappresenta w0\n",
        "coef_, intercept_ = myLinearRegressor.train(X,Y)\n",
        "print(coef_, intercept_)\n",
        "# Set input Giada 25 anni Y=w0*1 + w1*X1 --> 1 X1=25 \n",
        "X_test = np.array([[25]])  \n",
        "Y_pred = myLinearRegressor.predict(X_test,coef_, intercept_)\n",
        "print(Y_pred)\n",
        "\n"
      ],
      "execution_count": 33,
      "outputs": [
        {
          "output_type": "stream",
          "text": [
            "[56.21316306]\n",
            "[[50.70235756]] [56.21316306]\n",
            "[[1323.77210216]]\n"
          ],
          "name": "stdout"
        }
      ]
    },
    {
      "cell_type": "markdown",
      "metadata": {
        "id": "LFjRzxWSglzP",
        "colab_type": "text"
      },
      "source": [
        "## Regressione Lineare implementata usando numpy (calcolo matriciale)"
      ]
    },
    {
      "cell_type": "code",
      "metadata": {
        "id": "qHh83zaKUo48",
        "colab_type": "code",
        "outputId": "17311387-2b0f-4629-c895-c7a488aaa8b7",
        "colab": {
          "base_uri": "https://localhost:8080/",
          "height": 50
        }
      },
      "source": [
        "# Implementazione regressore lineare usando solo numpy\n",
        "#---------------------------------------------------------------------\n",
        "#---------------- IMPLEMENTAZIONE REGRESSORE LINEARE NUMPY -----------\n",
        "#---------------------------------------------------------------------\n",
        "# Link Utile Least square with numpy: https://mmas.github.io/least-squares-fitting-numpy-scipy\n",
        "\n",
        "'''\n",
        "[Y1]       [1 X1]\n",
        "[Y2]       [1 X2]   [w0]\n",
        "[Y3]   =   [1 X3]   [w1] \n",
        "...        ......\n",
        "[YN]       [1 XN]\n",
        "\n",
        "Y = Xbeta\n",
        "Nx1 = Nx2 x 2x 1\n",
        "beta = ( (XT*X)∧-1 )*XT*Y  (Least square)\n",
        "'''\n",
        "import numpy as np\n",
        "\n",
        "# Construct Input Matrices\n",
        "x = np.array([19,21,22,23,26,33,29])\n",
        "X = np.vstack([np.ones(len(x)), x]).T\n",
        "Y = np.vstack(np.array([1100,1150,1155,1170,1200,1750,1640]))\n",
        "#print(X)\n",
        "#print(Y)\n",
        "\n",
        "# Solve Least square Matematicall (Matrix product)\n",
        "# beta = ( (XT*X)∧-1 )*XT*Y  (Least square)\n",
        "coeff = np.dot(np.linalg.inv(np.dot(X.T, X)), np.dot(X.T, Y))\n",
        "print(\"Coefficienti: \", coeff.T)\n",
        "w0 = coeff[0]\n",
        "w1  = coeff[1]\n",
        "\n",
        "# Different approach Using Numpy Functions\n",
        "#coeff_2 = np.linalg.lstsq(X, Y)[0]\n",
        "#print(\"Coefficient caso 2: \", coeff_2)\n",
        "#a  = coeff_2[0]\n",
        "#b = coeff_2[1]\n",
        "\n",
        "X_test = 25\n",
        "Y_pred = w0 + w1*X_test \n",
        "print('Giada (25 anni) gudagnerà al mese: ', Y_pred)"
      ],
      "execution_count": 34,
      "outputs": [
        {
          "output_type": "stream",
          "text": [
            "Coefficienti:  [[56.21316306 50.70235756]]\n",
            "Giada (25 anni) gudagnerà al mese:  [1323.77210216]\n"
          ],
          "name": "stdout"
        }
      ]
    },
    {
      "cell_type": "markdown",
      "metadata": {
        "id": "cqnd8QzrguFa",
        "colab_type": "text"
      },
      "source": [
        "## Come trasformare python dizionari in  python array e viceversa"
      ]
    },
    {
      "cell_type": "code",
      "metadata": {
        "id": "MINUt7HkrTF5",
        "colab_type": "code",
        "outputId": "eb965f16-ebfd-4181-8dba-9de7e1cfc2cd",
        "colab": {
          "base_uri": "https://localhost:8080/",
          "height": 533
        }
      },
      "source": [
        "#---------------------------------------------------------------------\n",
        "#---------------- Trasformare dizionari in Array --------- -----------\n",
        "#---------------------------------------------------------------------\n",
        "# Usiamo Le funzioni\n",
        "# Importare i datasets\n",
        "\n",
        "from sklearn import datasets\n",
        "\n",
        "iris = datasets.load_iris() # Load iris dataset\n",
        "digits = datasets.load_digits() # Load digits dataset\n",
        "boston = datasets.load_boston() # Load boston dataset\n",
        "diabetes = datasets.load_diabetes() # Load diabetes dataset\n",
        "linnerud = datasets.load_linnerud() # Load linnerud dataset\n",
        "wine = datasets.load_wine() # Load wine dataset\n",
        "breast_cancer = datasets.load_breast_cancer() # Load breast_cancer dataset\n",
        "\n",
        "dataset_scelto = iris\n",
        "\n",
        "def approccio_1(dataset_scelto):\n",
        "  # --------------------- Approccio 1\n",
        "  # Get dictionar keys, value\n",
        "  print(dataset_scelto.keys())\n",
        "  list_keys = []\n",
        "  list_values = []\n",
        "  for key in dataset_scelto:\n",
        "    list_keys.append(key)\n",
        "    print(key)\n",
        "    value = dataset_scelto[key]\n",
        "    list_values.append(value)\n",
        "  print(\"All keys inside array \", list_keys) \n",
        "  #print(\"All values inside array \", list_values) \n",
        "\n",
        "  # Convert list to numpy array\n",
        "  print(\"----------------------------------\")\n",
        "  array_keys = np.asarray(list_keys)\n",
        "  array_values = np.array(list_values)\n",
        "  print(type(array_keys), array_keys.shape, array_keys[0].shape)\n",
        "  print(type(array_values), array_values.shape,array_values[0].shape)\n",
        "\n",
        "  # Going deeper inside data shape\n",
        "  print(\"----------------------------------\")\n",
        "  for i in range(0,len(array_keys)):\n",
        "    if isinstance(array_values[i],np.ndarray):\n",
        "      print(array_keys[i], type(array_values[i]), array_values[i].shape )\n",
        "    else:\n",
        "      print(array_keys[i], type(array_values[i]))\n",
        "    \n",
        "  # Other Useful Solutions\n",
        "  '''\n",
        "  for value in diabetes.values():\n",
        "    print(value) \n",
        "\n",
        "  for key, value in diabetes.items():\n",
        "    print(key, value)\n",
        "  '''\n",
        "\n",
        "def approccio_2(dataset_scelto):\n",
        "  #--------------------- Approccio 2\n",
        "  # Convert a dictionary to an array of string\n",
        "  list_keys = list(dataset_scelto.keys())\n",
        "  list_values = list(dataset_scelto.values())\n",
        "  #print(list_keys)\n",
        "  print(type(list_keys))\n",
        "  #print(list_values)\n",
        "  print(type(list_values))\n",
        "  # Convert list as numpy narray\n",
        "  array_keys = np.asarray(list_keys)\n",
        "  array_values = np.array(list_values)\n",
        "  print(type(array_keys))\n",
        "  print(type(array_values))\n",
        "  # Covert back numpy ndarray to list\n",
        "  new_list_keys = array_keys.tolist()\n",
        "  new_list_values = array_values.tolist()\n",
        "  print(type(new_list_keys))\n",
        "  print(type(new_list_values))\n",
        "  # Check if the list are equal\n",
        "  if list_keys == new_list_keys and list_values==new_list_values: \n",
        "    print (\"The lists are identical\") \n",
        "  else : \n",
        "    print (\"The lists are not identical\")\n",
        "\n",
        "print(\"-----------------------------\")\n",
        "print(\"-------- Approach 1 ---------\")\n",
        "print(\"-----------------------------\")\n",
        "approccio_1(dataset_scelto)\n",
        "print(\"-----------------------------\")\n",
        "print(\"-------- Approach 2 ---------\")\n",
        "print(\"-----------------------------\")\n",
        "approccio_2(dataset_scelto)\n"
      ],
      "execution_count": 35,
      "outputs": [
        {
          "output_type": "stream",
          "text": [
            "-----------------------------\n",
            "-------- Approach 1 ---------\n",
            "-----------------------------\n",
            "dict_keys(['data', 'target', 'target_names', 'DESCR', 'feature_names', 'filename'])\n",
            "data\n",
            "target\n",
            "target_names\n",
            "DESCR\n",
            "feature_names\n",
            "filename\n",
            "All keys inside array  ['data', 'target', 'target_names', 'DESCR', 'feature_names', 'filename']\n",
            "----------------------------------\n",
            "<class 'numpy.ndarray'> (6,) ()\n",
            "<class 'numpy.ndarray'> (6,) (150, 4)\n",
            "----------------------------------\n",
            "data <class 'numpy.ndarray'> (150, 4)\n",
            "target <class 'numpy.ndarray'> (150,)\n",
            "target_names <class 'numpy.ndarray'> (3,)\n",
            "DESCR <class 'str'>\n",
            "feature_names <class 'list'>\n",
            "filename <class 'str'>\n",
            "-----------------------------\n",
            "-------- Approach 2 ---------\n",
            "-----------------------------\n",
            "<class 'list'>\n",
            "<class 'list'>\n",
            "<class 'numpy.ndarray'>\n",
            "<class 'numpy.ndarray'>\n",
            "<class 'list'>\n",
            "<class 'list'>\n",
            "The lists are identical\n"
          ],
          "name": "stdout"
        }
      ]
    },
    {
      "cell_type": "markdown",
      "metadata": {
        "id": "fup1sa_Tg4q1",
        "colab_type": "text"
      },
      "source": [
        "## Scikit-Learn Regressione Lineare applicata al dataset Diabetes"
      ]
    },
    {
      "cell_type": "code",
      "metadata": {
        "id": "CoNNXTSG1HPT",
        "colab_type": "code",
        "outputId": "5fdda491-7fb7-400a-b826-8dabee5e1b84",
        "colab": {
          "base_uri": "https://localhost:8080/",
          "height": 692
        }
      },
      "source": [
        "#-----------------------------------------------------------------------------------------------\n",
        "#----------------SCIKIT-LEARN REGRESSORE LINEARE APPLICATA A UN DATASET (DIABETES) -------------\n",
        "#-----------------------------------------------------------------------------------------------\n",
        "#--------------- Implementazione usando fit_intercept=True\n",
        "# Implementazione piú semplice da scrivere ma meno vicina alla logica matematica\n",
        "\n",
        "# Importare i datasets\n",
        "from sklearn import datasets\n",
        "import matplotlib.pyplot as plt\n",
        "plt.rcParams['figure.figsize'] = [15, 10]\n",
        "\n",
        "iris = datasets.load_iris() # Load iris dataset\n",
        "digits = datasets.load_digits() # Load digits dataset\n",
        "boston = datasets.load_boston() # Load boston dataset\n",
        "diabetes = datasets.load_diabetes() # Load diabetes dataset\n",
        "linnerud = datasets.load_linnerud() # Load linnerud dataset\n",
        "wine = datasets.load_wine() # Load wine dataset\n",
        "breast_cancer = datasets.load_breast_cancer() # Load breast_cancer dataset\n",
        "\n",
        "dataset_scelto = diabetes\n",
        "\n",
        "# Check the dataset diabetes\n",
        "#print(dataset_scelto)\n",
        "parametri = dataset_scelto.keys()\n",
        "valore = dataset_scelto.values()\n",
        "print(parametri)\n",
        "\n",
        "\n",
        "# Creiamo il regressore lineare\n",
        "# Esempio interessante: https://scikit-learn.org/stable/auto_examples/linear_model/plot_ols.html\n",
        "class LinearRegressor:\n",
        "    def __init__(self):\n",
        "      # Inizializzazione\n",
        "      self.reg = linear_model.LinearRegression(fit_intercept=True, normalize=False)\n",
        "    def train(self,X,Y):\n",
        "      # Estimate w0, w1 .. wN\n",
        "      self.reg.fit(X,Y)\n",
        "      return self.reg.coef_, self.reg.intercept_\n",
        "    def predict(self,X_test,coef_, intercept_):\n",
        "      Y_pred = self.reg.predict(X_test)\n",
        "      #Y_pred = np.dot(coef_, X_test.T) + intercept_\n",
        "      return Y_pred\n",
        "\n",
        "# Creiamoil dataset\n",
        "data = dataset_scelto['data'] \n",
        "target = dataset_scelto['target']\n",
        "X_train = data[:-20]\n",
        "Y_train = target[:-20]\n",
        "X_test = data[-20:]\n",
        "Y_test = target[-20:]\n",
        "\n",
        "print(\" X Train shape: \",X_train.shape)\n",
        "print(\"Y Train shape: \", Y_train.shape)\n",
        "\n",
        "# Creiamo Regressore Lineare\n",
        "myLinearRegressor = LinearRegressor()\n",
        "coef_, intercept_ = myLinearRegressor.train(X_train,Y_train)\n",
        "# Cosa vogliamo predirre\n",
        "Y_pred = myLinearRegressor.predict(X_test, coef_, intercept_)\n",
        "\n",
        "# Plot\n",
        "print(Y_test.shape)\n",
        "print(Y_pred.shape)\n",
        "length = Y_pred.shape[0] # 20\n",
        "index_bar = np.linspace(0,length,length)\n",
        "plt.plot(index_bar, Y_test, label='Test')\n",
        "plt.plot(index_bar, Y_pred, label='Prediction')\n",
        "plt.legend()"
      ],
      "execution_count": 37,
      "outputs": [
        {
          "output_type": "stream",
          "text": [
            "dict_keys(['data', 'target', 'DESCR', 'feature_names', 'data_filename', 'target_filename'])\n",
            " X Train shape:  (422, 10)\n",
            "Y Train shape:  (422,)\n",
            "(20,)\n",
            "(20,)\n"
          ],
          "name": "stdout"
        },
        {
          "output_type": "execute_result",
          "data": {
            "text/plain": [
              "<matplotlib.legend.Legend at 0x7ff2a3a905f8>"
            ]
          },
          "metadata": {
            "tags": []
          },
          "execution_count": 37
        },
        {
          "output_type": "display_data",
          "data": {
            "image/png": "[encoded data removed]",
            "text/plain": [
              "<Figure size 1080x720 with 1 Axes>"
            ]
          },
          "metadata": {
            "tags": []
          }
        }
      ]
    }
  ]
}