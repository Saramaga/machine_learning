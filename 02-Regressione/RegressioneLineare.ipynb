{
  "nbformat": 4,
  "nbformat_minor": 0,
  "metadata": {
    "colab": {
      "name": "latestDataAnalisi.ipynb",
      "provenance": [],
      "collapsed_sections": []
    },
    "kernelspec": {
      "name": "python3",
      "display_name": "Python 3"
    }
  },
  "cells": [
    {
      "cell_type": "markdown",
      "metadata": {
        "id": "Yn_sFk2N8C9f",
        "colab_type": "text"
      },
      "source": [
        "# Cosa andremo a fare oggi?\n",
        "\n",
        "  * Introduzione alla libreria scikit-learn\n",
        "  * Regressione vs Classificazione \n",
        "  * Regressione Lineare\n",
        "    * Regressione Lineare: Esempio 1: Stima del salario mensile di un individuo basandoci solo sull'etá della persona.\n",
        "    * Regressione Lineare: Esempio 2: Stima del salario mensile di un individuo prima basandoci sull'etá, sul numero di ore di lavoro mensili e sull'indice (1-10) di esperienza della persona.\n",
        "    * Regressione Lineare Esempio 3: Utilizzeremo la regressione lineare per approssimare delle curve nello spazio 2D.\n",
        "  * Scikit-Learn datasets Spiegazione, nozioni su come scaricarli applicazione della regressione lineare a un dataset di scikit-learn (diabetes dataset)\n"
      ]
    },
    {
      "cell_type": "markdown",
      "metadata": {
        "id": "u1uyDVNR-ZYS",
        "colab_type": "text"
      },
      "source": [
        "# Introduzione alla libreria scikit-learn\n",
        "\n",
        "[Scikit-learn](https://scikit-learn.org/stable/) è una libreria di machine learning.\n",
        "* [Sklearn Installation page](https://scikit-learn.org/stable/install.html)  \n",
        "\n",
        "```\n",
        "# Pip packet manager\n",
        "pip install -U scikit-learn\n",
        "# Conda packet manager \n",
        "conda install scikit-learn\n",
        "```"
      ]
    },
    {
      "cell_type": "markdown",
      "metadata": {
        "id": "8Ux8rA9UfvX3",
        "colab_type": "text"
      },
      "source": [
        "# Regressione vs Classificazione\n",
        "Appartengono entrambi alla cateria di \"Supervised Learning\" (Apprendimento Supervisionato). Con ciò intendiamo quella situazione in cui io mi creo un dataset (quindi racconto una serie di dati) e con questi dati cerco di risolvere un problema. Posso risolvere due tipi di problema:\n",
        "\n",
        "## Regressione: Spiegazione      \n",
        "<center><h2>Qualè il valore di?</h2></center>\n",
        "Quando parliamo di regressione vogliamo stimare, predirre un NUMERO usando dei dati precedenemente raccolti. Quello che vogliamo predirre dipende dagli input che abbiamo.\n",
        "\n",
        "### Esempi Regressione:\n",
        "  * Dato il salario mensile delle persone che lavorano in Google e la loro età vogliamo capire (stimare, predirre) quanto guadagnerà marco che ha 20 anni se venisse assunto domani.\n",
        "  * Dati gli ultimi match dell'inter e la qualità degli ultimi acquisti vogliamo stimare il numero di punti che esso otterrà a fine campionato.\n",
        "  * Vogliamo approssimare una curva nello spazio. Cioè data una curva nella spazio 2D vogliamo trovare una funzione matematica capace di approssimarla.\n",
        "  * Vogliamo stimare il numero di anni che un pc appena comprato durerà, analizzando quando normamente dura.\n",
        "  * Vogliamo stimare la qualità di questo corso (da 1 a 10) sulla base delle vostre valutazioni e del numero di ore del corso.\n",
        "  * Vogliamo predirre il numero di studenti che passerà l'esame analizzando il vostro background (1-10), il numero di domande fatte e il numero di esercitazioni che avete risolto correttamente.\n",
        "\n",
        "## Classificazione: Spiegazione\n",
        "<center><h2>Chi tra?</h2></center>\n",
        "Parliamo invece di classificazione quando volgiamo DISTINGUERE (cioè capire se un qualcosa è a o b). Non ci interessa in questa caso avere una percentuale o un indicazione numerica vogliamo differenziare qualcosa. \n",
        "\n",
        "### Esempi Classificazione:\n",
        "\n",
        "  * Quale squadra di calcio vincerà il campionato? Nel campionato italiano ci sono 20 squadre, tra queste 20 voglio indovinare quale vincerà.\n",
        "  * Dati un insieme di data relativi a un paziente vogliamo capire se ha un raffreddore o semplicemente la febbre. (O uno o l'altro)\n",
        "  * Sulla base delle specifiche vogliamo campire se è più adatto come gaming laptop il mac pro, il dex xps o l'msi. Chi tra questi tre pc è più adatto?\n",
        "  * Sulla base del numero di persone assunte, più altre informazione vogliamo capire se è meglio per uno studente incerto inscriversi a giurisprudenza, oppure a ingegneria.\n",
        "  * Basandoci sulle citazioni più famose dei filosi vogliamo capire chi ha è più conosciuto tra Risultati relativi a Immanuel Kant\n",
        "  * Raccogliendo dati di 100 persone che hanno seguito le seguenti diete  (Dieta dissociata, Dieta Mediterranea, Cronodieta, Dieta del biscotto) vogliamo capire quale tra queste è più adatta a me."
      ]
    },
    {
      "cell_type": "markdown",
      "metadata": {
        "id": "cAFpH3LgE2ni",
        "colab_type": "text"
      },
      "source": [
        "# Regressione Lineare\n",
        "\n",
        "Significato:\n",
        "\n",
        "* dato una serie di dati misurati vogliamo trovare una relazione matematica tra i dati misurati e l'output desirato. <br>\n",
        "Vogliamo predirre qualcosa.\n",
        "\n",
        "## Regressione Lineare: Esempio 1: Stima del salario mensile di un individuo basandoci solo sull'etá della persona.\n",
        "\n",
        "#### ----> Spiegazione del Problema\n",
        "Vogliamo predirre il salario di un lavoratore mensile in euro basandoci sulla sua età.\n",
        "\n",
        "Definiamo il problema matematicamente (caso lineare):\n",
        "\n",
        "<h2><center>$Y = w0*1 + w1*X1$</center></h2>\n",
        "\n",
        "  * Y: salario che voglio predire\n",
        "  * X1: età del lavoratore esempio X1=25 anni \n",
        "  * w0 e w1 sono i due parametri da stimare (Sconosciuti)\n",
        "\n",
        "Il problema di regressione consiste nel determinare le variabili sconosciute (a, b) utilizzando un dataset (insieme dei dati raccolti). Una volta indiviudati i parametri a e b saremo in grado di stimare quanto guandagna una persona a noi sconosciuta semplicemente basandoci sulla sue età.\n",
        "\n",
        "* Step 1) Dato un insieme di dati raccolti ( Y e X1) vogliamo stimare i parametri sconosciuti w0 e w1 (sono due numeri)\n",
        "\n",
        "```\n",
        "Dati Raccolti:\n",
        "Y = Salario al mese in euro\n",
        "X1 = Età del lavoratore\n",
        "1) Marco:    Y=1100   X1=19\n",
        "2) Daniele:  Y=1150   X1=21\n",
        "3) Davide:   Y=1155   X1=22\n",
        "4) Marta:    Y=1170   X1=23\n",
        "6) Alessia:  Y=1200   X1=26\n",
        "9) Stella:   Y=1750   X1=33\n",
        "10) Chiara   Y=1640   X1=29  \n",
        "```\n",
        "Extra Tip: É interesante notare che stiamo affrontando un problema di regressione lineare non é necessario applicare \"feature scaling\" cioé scalare gli inputs nel range 0 1. Stiamo cercando di trovare un \"affine map\" che é una composizione lineare. É piú comune scalare i dati quando affrontiamo un problema di classificazione.\n",
        "\n",
        "* Step 2) Vogliamo rispondere alla seguente domanda: \n",
        "  <h2><center>Quanto guadagnerá Giada se ha 25 anni?</center>\n",
        "\n",
        "  Vediamo chiaramente che all'aumentare dell'età aumenta il guadagno e ad occhio possiamo dire che Giada guadagnerà intorno ai 1180 euro. Matematicamente ci stiamo chiedendo il valore di Y (salario di giada) conoscendo la sua età (X1=25 anni) e i due parametri w0 e w1 (ottenuti nello step 1)\n",
        "\n",
        "Andremo a risolvere il sopra citato problema usando scikit-learn library. In particolare ci focalizzero sulla Regressione lineare.\n",
        "\n",
        "#### ----> Scikit-Learn Regressione Lineare\n",
        "Dobbiamo capire come scrivere il seguente problema usando la libreria scikit-learn.\n",
        "\n",
        "*  [Linear Model Regression Descrizione]( https://scikit-learn.org/stable/modules/linear_model.html)\n",
        "* [Scikit-Learn Linear Regression Documentazione](https://scikit-learn.org/stable/modules/generated/sklearn.linear_model.LinearRegression.html)\n",
        "\n",
        "<h2><center>$Y = w0*1 + w1*X1 + w2*X2 + ... wN*XN$</center></h2>\n",
        "Dove X0 ... XN rappresentano gli input, nel nostro caso abbiamo solo l`etá ma avremmo potuto avere anche altri valore come il numero di ore di lavoro etc ..\n",
        "Quindi nel nostro caso avremo X1,X2 ...XN =0 e X1 (sarebbe l`etá).\n",
        "Quindi la sopra descritta equazione diventa\n",
        "<h2><center>$Y = w0*1 + w1*X1$</center></h2>\n",
        "\n",
        "#### ----> Creiamo il dataset usando numpy\n",
        "Cominciamo importando entrable le librerie scikit-learn e numpy. Sucessivamente andiamo a scrivere il dataset creato usando numpy.\n",
        "\n"
      ]
    },
    {
      "cell_type": "code",
      "metadata": {
        "id": "OPrvcg8r-YmU",
        "colab_type": "code",
        "outputId": "66e15c37-1080-4541-be0f-204bc3b5c141",
        "colab": {
          "base_uri": "https://localhost:8080/",
          "height": 289
        }
      },
      "source": [
        "#--------------- Importiamo le librerie ---------------------\n",
        "from sklearn import linear_model\n",
        "import numpy as np\n",
        "# -----------------------------------------------------------\n",
        "\n",
        "#------------- Creiamo il dataset usando numpy --------------\n",
        "'''\n",
        "Y = Salario al mese in euro\n",
        "X1 = Età del lavoratore\n",
        "Equazione = Y = b + a*X --> Y = w0 + w1*X1\n",
        "1) Marco:    Y=1100   X1=19  Y=w0*1+w1*X1 --> 1100 = w0*1 + w1*19\n",
        "2) Daniele:  Y=1150   X1=21  Y=w0*1+w1*X1 --> 1150 = w0*1 + w1*21\n",
        "3) Davide:   Y=1155   X1=22  Y=w0*1+w1*X1 --> 1155 = w0*1 + w1*22 \n",
        "4) Marta:    Y=1170   X1=23  Y=w0*1+w1*X1 --> 1170 = w0*1 + w1*23\n",
        "6) Alessia:  Y=1200   X1=26  Y=w0*1+w1*X1 --> 1200 = w0*1 + w1*26\n",
        "9) Stella:   Y=1750   X1=33  Y=w0*1+w1*X1 --> 1750 = w0*1 + w1*33\n",
        "10) Chiara   Y=1640   X1=29  Y=w0*1+w1*X1 --> 1640 = w0*1 + w1*29 \n",
        "'''\n",
        "X= np.array([[1,19],[1,21], [1,22], [1,23], [1,26], [1,33],[1,29]])\n",
        "Y= np.array([[1100],[1150],[1155],[1170],[1200],[1750],[1640]])\n",
        "#Y= np.array([1100,1150,1155,1170,1200,1750,1640])\n",
        "print(\"X input data: \\n\",X, X.shape) \n",
        "print(\"Y output data: \\n\",Y, Y.shape)\n",
        "#------------------------------------------------------------\n",
        "\n"
      ],
      "execution_count": 0,
      "outputs": [
        {
          "output_type": "stream",
          "text": [
            "X input data: \n",
            " [[ 1 19]\n",
            " [ 1 21]\n",
            " [ 1 22]\n",
            " [ 1 23]\n",
            " [ 1 26]\n",
            " [ 1 33]\n",
            " [ 1 29]] (7, 2)\n",
            "Y output data: \n",
            " [[1100]\n",
            " [1150]\n",
            " [1155]\n",
            " [1170]\n",
            " [1200]\n",
            " [1750]\n",
            " [1640]] (7, 1)\n"
          ],
          "name": "stdout"
        }
      ]
    },
    {
      "cell_type": "markdown",
      "metadata": {
        "id": "vyfHCqyWLJ7L",
        "colab_type": "text"
      },
      "source": [
        "#### ----> Implementazione Regressione Lineare scikit-learn"
      ]
    },
    {
      "cell_type": "code",
      "metadata": {
        "id": "k4w-qhXoLRbi",
        "colab_type": "code",
        "outputId": "8fe27e67-5927-437f-a038-43bb0706d806",
        "colab": {
          "base_uri": "https://localhost:8080/",
          "height": 51
        }
      },
      "source": [
        "# fit_intercept = False significa che dovremmo manualmente inseririe 1 se vogliamo estrarre il parametro b\n",
        "reg = linear_model.LinearRegression(fit_intercept=False, normalize=False)\n",
        "reg.fit(X, Y)\n",
        "\n",
        "print('w0 and w1 ', reg.coef_)\n",
        "w0 = reg.coef_[0][0]\n",
        "w1 = reg.coef_[0][1]\n",
        "\n",
        "# Quanto guadagnerá Giada se ha 25 anni?\n",
        "X_test = np.array([[1,25]]) # creiamo l'input vector\n",
        "Y_pred = reg.predict(X_test) # prediciamo il guandagno\n",
        "Y_pred_ = w0*X_test[0][0] + w1*X_test[0][1] # Y_pred_ = w0*1 + w1*25\n",
        "print('Giada gudagnerà al mese: ', Y_pred, Y_pred_)\n"
      ],
      "execution_count": 0,
      "outputs": [
        {
          "output_type": "stream",
          "text": [
            "w0 and w1  [[56.21316306 50.70235756]]\n",
            "Giada gudagnerà al mese:  [[1323.77210216]] 1323.7721021610998\n"
          ],
          "name": "stdout"
        }
      ]
    },
    {
      "cell_type": "markdown",
      "metadata": {
        "id": "Uv4e_IRchuED",
        "colab_type": "text"
      },
      "source": [
        "#### ----> Implementazione Regressione Lineare scikit-learn Classi"
      ]
    },
    {
      "cell_type": "code",
      "metadata": {
        "id": "ymUpuf94NbSe",
        "colab_type": "code",
        "outputId": "29b0d1ba-f00e-45af-e683-18e57c138d3b",
        "colab": {
          "base_uri": "https://localhost:8080/",
          "height": 68
        }
      },
      "source": [
        "from sklearn import linear_model\n",
        "import numpy as np\n",
        "# Implementazione usando fit_intercept=False , piú vicina alla logica matematica\n",
        "class Dataset:\n",
        "    def create(self):\n",
        "      X= np.array([[1,19],[1,21], [1,22], [1,23], [1,26], [1,33],[1,29]])\n",
        "      Y= np.array([[1100],[1150],[1155],[1170],[1200],[1750],[1640]])\n",
        "      return X,Y\n",
        "\n",
        "class LinearRegressor:\n",
        "    def __init__(self):\n",
        "      # Inizializzazione\n",
        "      self.reg = linear_model.LinearRegression(fit_intercept=False, normalize=False)\n",
        "    def train(self,X,Y):\n",
        "      # Estimate w0, w1 .. wN\n",
        "      self.reg.fit(X,Y)\n",
        "      print(self.reg.intercept_) # Questo deve essere 0 se fit_intercept=false\n",
        "      return self.reg.coef_\n",
        "    def predict(self,X_test,coef_):\n",
        "      #Y_pred = self.reg.predict(X_test)\n",
        "      Y_pred = np.dot(coef_, X_test.T)\n",
        "      return Y_pred\n",
        "\n",
        "myDataset=Dataset()\n",
        "X,Y = myDataset.create()\n",
        "myLinearRegressor = LinearRegressor()\n",
        "coef_ = myLinearRegressor.train(X,Y)\n",
        "print(coef_)\n",
        "# Set input Giada 25 anni Y=w0*1 + w1*X1 --> 1 X1=25 \n",
        "X_test = np.array([[1,25]])  \n",
        "Y_pred = myLinearRegressor.predict(X_test,coef_)\n",
        "print(Y_pred)\n",
        "\n"
      ],
      "execution_count": 0,
      "outputs": [
        {
          "output_type": "stream",
          "text": [
            "0.0\n",
            "[[56.21316306 50.70235756]]\n",
            "[[1323.77210216]]\n"
          ],
          "name": "stdout"
        }
      ]
    },
    {
      "cell_type": "markdown",
      "metadata": {
        "id": "gKkTmeT1T3Zu",
        "colab_type": "text"
      },
      "source": [
        "Nella sezione EXTRA sono presenti:\n",
        "* Implementazione usando fit_intercept=True. Questa implementazione permette di semplicare la scrittura degli input in quanto permette di omettere l'1\n",
        "* Implementazione usando la libreria numpy del Regressore lineare (Least Square-Metodo dei Minimi quadrati). Implementazione piú matematica."
      ]
    },
    {
      "cell_type": "markdown",
      "metadata": {
        "id": "-RP-9x7eAC7R",
        "colab_type": "text"
      },
      "source": [
        "<h3>Come doveremmo modificare la creazione dei dati se oltre all'etá della persona avessimo piú informazioni? </h3>\n",
        "Per esempio se conoscessimo anche:\n",
        "\n",
        "* il numero di ore mensili di lavoro\n",
        "* indice di esperienza da 1 a 10\n",
        "\n",
        "## Regressione Lineare: Esempio 2: Stima del salario mensile di un individuo prima basandoci sull'etá, sul numero di ore di lavoro mensili e sull'indice (1-10) di esperienza della persona.\n",
        "\n",
        "\n",
        "Il dataset diventerebbe:\n",
        "\n",
        "```\n",
        "Y = Salario al mese in euro\n",
        "X1 = Età del lavoratore\n",
        "X2 = Numero di ore mensili di lavoro\n",
        "X3 = Indice di esperienza da 1 a 10\n",
        "1) Marco:    Y=1100   X1=19   X2=150  X3=6 \n",
        "2) Daniele:  Y=1150   X1=21   X2=135  X3=8\n",
        "3) Davide:   Y=1155   X1=22   X2=160  X3=5\n",
        "4) Marta:    Y=1170   X1=23   X2=158  X3=7\n",
        "6) Alessia:  Y=1200   X1=26   X2=155  X3=7\n",
        "9) Stella:   Y=1750   X1=33   X2=120  X3=10\n",
        "10) Chiara   Y=1640   X1=29   X2=130  X3=9\n",
        "```\n",
        "L' equazione della regressione lineare diventa:\n",
        "<h2><center>$Y = w0*1 + w1*X1 + w2*X2 + w3*X3$</center></h2>\n",
        "L'obbiettivo é stimare i parametri w0,w1,w2,w3 partendo da un dataset (X1,X2,X3,Y) come il sopra elencato.\n",
        "\n",
        "  <h2><center>Quanto guadagnerá Giada se ha 25 anni, lavora 130 ore al mese ed ha un indice di esperienza uguale a 8?</center>\n",
        "\n",
        "#### ----> Creiamo il dataset usando numpy\n",
        "\n",
        "  "
      ]
    },
    {
      "cell_type": "code",
      "metadata": {
        "id": "2pVoRtRkABIO",
        "colab_type": "code",
        "outputId": "54983b18-ed92-4906-975e-5277cf9d3919",
        "colab": {
          "base_uri": "https://localhost:8080/",
          "height": 289
        }
      },
      "source": [
        "#--------------- Importiamo le librerie ---------------------\n",
        "from sklearn import linear_model\n",
        "import numpy as np\n",
        "# -----------------------------------------------------------\n",
        "\n",
        "#------------- Creiamo il dataset usando numpy --------------\n",
        "'''\n",
        "Y = Salario al mese in euro\n",
        "X1 = Età del lavoratore\n",
        "X2 = Numero di ore mensili di lavoro\n",
        "X3 = Indice di esperienza da 1 a 10\n",
        "Equazione = Y = w0 + w1*X1 + w2*X2 + w3*X3\n",
        "1) Marco:    Y=1100   X1=19   X2=150   X3=6    Y= w0*1 + w1*X1 + w2*X2 + w3*X3 --> 1100 = w0*1 + w1*19 + w2*150 + w3*6\n",
        "2) Daniele:  Y=1150   X1=21   X2=135   X3=8    Y= w0*1 + w1*X1 + w2*X2 + w3*X3 --> 1100 = w0*1 + w1*21 + w2*135 + w3*8\n",
        "3) Davide:   Y=1155   X1=22   X2=160   X3=5    Y= w0*1 + w1*X1 + w2*X2 + w3*X3 --> 1100 = w0*1 + w1*22 + w2*160 + w3*5 \n",
        "4) Marta:    Y=1170   X1=23   X2=158   X3=7    Y= w0*1 + w1*X1 + w2*X2 + w3*X3 --> 1100 = w0*1 + w1*23 + w2*158 + w3*7\n",
        "6) Alessia:  Y=1200   X1=26   X2=155   X3=7    Y= w0*1 + w1*X1 + w2*X2 + w3*X3 --> 1100 = w0*1 + w1*26 + w2*155 + w3*7\n",
        "9) Stella:   Y=1750   X1=33   X2=120   X3=10   Y= w0*1 + w1*X1 + w2*X2 + w3*X3 --> 1100 = w0*1 + w1*33 + w2*120 + w3*10\n",
        "10) Chiara   Y=1640   X1=29   X2=130   x3=9    Y= w0*1 + w1*X1 + w2*X2 + w3*X3 --> 1100 = w0*1 + w1*29 + w2*130 + w3*9\n",
        "'''\n",
        "\n",
        "X= np.array([[1,19,150,6],[1,21,135,8], [1,22,160,5], [1,23,158,7], [1,26,155,7], [1,33,120,10],[1,29,130,9]])\n",
        "Y= np.array([[1100],[1150],[1155],[1170],[1200],[1750],[1640]])\n",
        "#Y= np.array([1100,1150,1155,1170,1200,1750,1640])\n",
        "print(\"X input data: \\n\",X, X.shape) \n",
        "print(\"Y output data: \\n\",Y, Y.shape)\n",
        "#------------------------------------------------------------"
      ],
      "execution_count": 0,
      "outputs": [
        {
          "output_type": "stream",
          "text": [
            "X input data: \n",
            " [[  1  19 150   6]\n",
            " [  1  21 135   8]\n",
            " [  1  22 160   5]\n",
            " [  1  23 158   7]\n",
            " [  1  26 155   7]\n",
            " [  1  33 120  10]\n",
            " [  1  29 130   9]] (7, 4)\n",
            "Y output data: \n",
            " [[1100]\n",
            " [1150]\n",
            " [1155]\n",
            " [1170]\n",
            " [1200]\n",
            " [1750]\n",
            " [1640]] (7, 1)\n"
          ],
          "name": "stdout"
        }
      ]
    },
    {
      "cell_type": "markdown",
      "metadata": {
        "id": "g9lsyvRciv37",
        "colab_type": "text"
      },
      "source": [
        "#### ----> Implementazione Regressione Lineare scikit-learn"
      ]
    },
    {
      "cell_type": "code",
      "metadata": {
        "id": "4byQg8Z2XTlk",
        "colab_type": "code",
        "outputId": "1419a190-c4b2-4469-e002-fdabe56f53b8",
        "colab": {
          "base_uri": "https://localhost:8080/",
          "height": 51
        }
      },
      "source": [
        "# fit_intercept = False significa che dovremmo manualmente inseririe 1 se vogliamo estrarre il parametro b\n",
        "reg = linear_model.LinearRegression(fit_intercept=False, normalize=False)\n",
        "reg.fit(X, Y)\n",
        "\n",
        "print('w0, w1, w2, w3 ', reg.coef_)\n",
        "w0 = reg.coef_[0][0]\n",
        "w1 = reg.coef_[0][1]\n",
        "w2 = reg.coef_[0][2]\n",
        "w3 = reg.coef_[0][3]\n",
        "\n",
        "# Quanto guadagnerá Giada se ha X1=25 anni, lavora X2=130 ore al mese e ha un\n",
        "# indice di esperienza X3=8 ?\n",
        "X_test = np.array([[1,25,130,8]]) # creiamo l'input vector\n",
        "Y_pred = reg.predict(X_test) # prediciamo il guandagno\n",
        "Y_pred_ = w0*X_test[0][0] + w1*X_test[0][1] + w2*X_test[0][2] + w3*X_test[0][3] # Y_pred_ = w0*1 + w1*25 + w2*130 + w3*8\n",
        "print('Giada gudagnerà al mese: ', Y_pred, Y_pred_)"
      ],
      "execution_count": 0,
      "outputs": [
        {
          "output_type": "stream",
          "text": [
            "w0, w1, w2, w3  [[1989.84032486   43.44020785   -9.68682336  -48.36000551]]\n",
            "Giada gudagnerà al mese:  [[1429.67844041]] 1429.6784404143273\n"
          ],
          "name": "stdout"
        }
      ]
    },
    {
      "cell_type": "markdown",
      "metadata": {
        "id": "c5tx_AkEiykB",
        "colab_type": "text"
      },
      "source": [
        "#### ----> Implementazione Regressione Lineare scikit-learn Classi"
      ]
    },
    {
      "cell_type": "code",
      "metadata": {
        "id": "avD2Cu_gZLn_",
        "colab_type": "code",
        "outputId": "6bc1330e-ef02-418e-f28d-63acfa967c8c",
        "colab": {
          "base_uri": "https://localhost:8080/",
          "height": 68
        }
      },
      "source": [
        "from sklearn import linear_model\n",
        "import numpy as np\n",
        "# Implementazione usando fit_intercept=False , piú vicina alla logica matematica\n",
        "class Dataset:\n",
        "    def create(self):\n",
        "      X= np.array([[1,19,150,6],[1,21,135,8], [1,22,160,5], [1,23,158,7], [1,26,155,7], [1,33,120,10],[1,29,130,9]])\n",
        "      Y= np.array([[1100],[1150],[1155],[1170],[1200],[1750],[1640]])\n",
        "      return X,Y\n",
        "\n",
        "class LinearRegressor:\n",
        "    def __init__(self):\n",
        "      # Inizializzazione\n",
        "      self.reg = linear_model.LinearRegression(fit_intercept=False, normalize=False)\n",
        "    def train(self,X,Y):\n",
        "      # Estimate w0, w1 .. wN\n",
        "      self.reg.fit(X,Y)\n",
        "      print(self.reg.intercept_) # Questo deve essere 0 se fit_intercept=false\n",
        "      return self.reg.coef_\n",
        "    def predict(self,X_test,coef_):\n",
        "      #Y_pred = self.reg.predict(X_test)\n",
        "      Y_pred = np.dot(coef_, X_test.T)\n",
        "      return Y_pred\n",
        "\n",
        "myDataset=Dataset()\n",
        "X,Y = myDataset.create()\n",
        "myLinearRegressor = LinearRegressor()\n",
        "coef_ = myLinearRegressor.train(X,Y)\n",
        "print(coef_)\n",
        "# Set input Giada 25 anni Y=w0*1 + w1*X1 --> 1 X1=25 \n",
        "X_test = np.array([[1,25,130,8]])  \n",
        "Y_pred = myLinearRegressor.predict(X_test,coef_)\n",
        "print(Y_pred)"
      ],
      "execution_count": 0,
      "outputs": [
        {
          "output_type": "stream",
          "text": [
            "0.0\n",
            "[[1989.84032486   43.44020785   -9.68682336  -48.36000551]]\n",
            "[[1429.67844041]]\n"
          ],
          "name": "stdout"
        }
      ]
    },
    {
      "cell_type": "markdown",
      "metadata": {
        "id": "DR7WnhOejLVj",
        "colab_type": "text"
      },
      "source": [
        "# Regressione Lineare Esempio 3: Utilizzeremo la regressione lineare per approssimare delle curve nello spazio 2D."
      ]
    },
    {
      "cell_type": "code",
      "metadata": {
        "id": "M6sQZe8bjKnM",
        "colab_type": "code",
        "outputId": "3b4088a8-b19b-4442-a6fc-ebeb5fd268cc",
        "colab": {
          "base_uri": "https://localhost:8080/",
          "height": 281
        }
      },
      "source": [
        "import matplotlib.pyplot as plt\n",
        "%matplotlib inline\n",
        "import numpy as np\n",
        "\n",
        "X = np.linspace(0,10,100)\n",
        "Y = np.sin(2*X)*np.exp(-0.5*X) + 0.2*np.cos(X)\n",
        "plt.plot(X,Y)"
      ],
      "execution_count": 9,
      "outputs": [
        {
          "output_type": "execute_result",
          "data": {
            "text/plain": [
              "[<matplotlib.lines.Line2D at 0x7f21b817d160>]"
            ]
          },
          "metadata": {
            "tags": []
          },
          "execution_count": 9
        },
        {
          "output_type": "display_data",
          "data": {
            "image/png": "[encoded data removed]",
            "text/plain": [
              "<Figure size 432x288 with 1 Axes>"
            ]
          },
          "metadata": {
            "tags": []
          }
        }
      ]
    },
    {
      "cell_type": "code",
      "metadata": {
        "id": "nShmtkpvljZf",
        "colab_type": "code",
        "outputId": "11dcc9d1-c8a2-40e8-f801-6b7b941d1d11",
        "colab": {
          "base_uri": "https://localhost:8080/",
          "height": 281
        }
      },
      "source": [
        "from sklearn import linear_model\n",
        "import numpy as np\n",
        "\n",
        "class LinearRegressor:\n",
        "    def __init__(self):\n",
        "      # Inizializzazione\n",
        "      self.reg = linear_model.LinearRegression(fit_intercept=False, normalize=False)\n",
        "    def train(self,X,Y):\n",
        "      # Estimate w0, w1 .. wN\n",
        "      self.reg.fit(X,Y)\n",
        "      return self.reg.coef_\n",
        "    def predict(self,X_test,coef_):\n",
        "      Y_pred = self.reg.predict(X_test)\n",
        "      #Y_pred = np.dot(coef_, X_test.T)\n",
        "      return Y_pred\n",
        "\n",
        "# Creazione dataset\n",
        "X1 = np.linspace(0,10,100)\n",
        "X2 = np.power(X1,2)\n",
        "X3 = np.power(X1,3)\n",
        "X4 = np.power(X1,4)\n",
        "X5 = np.power(X1,5)\n",
        "\n",
        "X_test1 = np.vstack([np.ones(len(X1)), X1]).T\n",
        "X_test2 = np.vstack([np.ones(len(X1)), X1, X2]).T\n",
        "X_test3 = np.vstack([np.ones(len(X1)), X1, X2, X3]).T\n",
        "X_test4 = np.vstack([np.ones(len(X1)), X1, X2, X3, X4]).T\n",
        "X_test5 = np.vstack([np.ones(len(X1)), X1, X2, X3, X4, X5]).T\n",
        "\n",
        "Y = np.sin(2*X1)*np.exp(-0.5*X1) + 0.2*np.cos(X1)\n",
        "\n",
        "myLinearRegressor1 = LinearRegressor()\n",
        "myLinearRegressor2 = LinearRegressor()\n",
        "myLinearRegressor3 = LinearRegressor()\n",
        "myLinearRegressor4 = LinearRegressor()\n",
        "myLinearRegressor5 = LinearRegressor()\n",
        "\n",
        "coef_1 = myLinearRegressor1.train(X_test1,Y)\n",
        "coef_2 = myLinearRegressor2.train(X_test2,Y)\n",
        "coef_3 = myLinearRegressor3.train(X_test3,Y)\n",
        "coef_4 = myLinearRegressor4.train(X_test4,Y)\n",
        "coef_5 = myLinearRegressor5.train(X_test5,Y)\n",
        "\n",
        "Y_pred1 = myLinearRegressor1.predict(X_test1,coef_1)\n",
        "Y_pred2 = myLinearRegressor2.predict(X_test2,coef_2)\n",
        "Y_pred3 = myLinearRegressor3.predict(X_test3,coef_3)\n",
        "Y_pred4 = myLinearRegressor4.predict(X_test4,coef_4)\n",
        "Y_pred5 = myLinearRegressor5.predict(X_test5,coef_5)\n",
        "\n",
        "#print(Y_pred)\n",
        "plt.plot(X1,Y)\n",
        "plt.plot(X1,Y_pred1, label='1')\n",
        "plt.plot(X1,Y_pred2, label='2')\n",
        "plt.plot(X1,Y_pred3, label='3')\n",
        "plt.plot(X1,Y_pred4, label='4')\n",
        "plt.plot(X1,Y_pred5, label='5')\n",
        "plt.legend()\n",
        "\n"
      ],
      "execution_count": 11,
      "outputs": [
        {
          "output_type": "execute_result",
          "data": {
            "text/plain": [
              "<matplotlib.legend.Legend at 0x7f21a5740400>"
            ]
          },
          "metadata": {
            "tags": []
          },
          "execution_count": 11
        },
        {
          "output_type": "display_data",
          "data": {
            "image/png": "[encoded data removed]",
            "text/plain": [
              "<Figure size 432x288 with 1 Axes>"
            ]
          },
          "metadata": {
            "tags": []
          }
        }
      ]
    },
    {
      "cell_type": "markdown",
      "metadata": {
        "id": "tqaFSUZDm8Y1",
        "colab_type": "text"
      },
      "source": [
        "# Scikit-Learn datasets Spiegazione, nozioni su come scaricarli applicazione della regressione lineare a un dataset di scikit-learn (diabetes dataset)\n",
        "\n",
        "Andremo a vedere quali dataset sono disponibili in scikit-learn, come scaricarli e capirne il contenuto.\n",
        "\n",
        "* [Sklearn dataset page](https://scikit-learn.org/stable/datasets/index.html#datasets)\n",
        "\n",
        "I dataset disponibili sono i seguenti: \n",
        "  * [Iris plant dataset](https://scikit-learn.org/stable/modules/generated/sklearn.datasets.load_iris.html#sklearn.datasets.load_iris)\n",
        "  * [Optical recognition of handwritten digits dataset](https://scikit-learn.org/stable/modules/generated/sklearn.datasets.load_digits.html#sklearn.datasets.load_digits)\n",
        "  * [Boston houses price dataset](https://scikit-learn.org/stable/modules/generated/sklearn.datasets.load_boston.html#sklearn.datasets.load_boston)\n",
        "  * [Diabetes dataset](https://scikit-learn.org/stable/modules/generated/sklearn.datasets.load_diabetes.html#sklearn.datasets.load_diabetes)\n",
        "  * [Wine Recognition dataset](https://scikit-learn.org/stable/modules/generated/sklearn.datasets.load_wine.html#sklearn.datasets.load_wine)\n",
        "  * [Breast cancer wisconsin (diagnostic) dataset](https://scikit-learn.org/stable/modules/generated/sklearn.datasets.load_breast_cancer.html#sklearn.datasets.load_breast_cancer)\n",
        "  * [Linnerrud Dataset](https://scikit-learn.org/stable/modules/generated/sklearn.datasets.load_linnerud.html#sklearn.datasets.load_linnerud)\n"
      ]
    },
    {
      "cell_type": "code",
      "metadata": {
        "id": "AriwX1cIn2zR",
        "colab_type": "code",
        "colab": {
          "base_uri": "https://localhost:8080/",
          "height": 33
        },
        "outputId": "0af6926c-2bee-4917-b04a-71ea35b48547"
      },
      "source": [
        "# Importare i datasets\n",
        "from sklearn import datasets\n",
        "\n",
        "iris = datasets.load_iris() # Load iris dataset\n",
        "digits = datasets.load_digits() # Load digits dataset\n",
        "boston = datasets.load_boston() # Load boston dataset\n",
        "diabetes = datasets.load_diabetes() # Load diabetes dataset\n",
        "linnerud = datasets.load_linnerud() # Load linnerud dataset\n",
        "wine = datasets.load_wine() # Load wine dataset\n",
        "breast_cancer = datasets.load_breast_cancer() # Load breast_cancer dataset\n",
        "\n",
        "dataset_scelto = diabetes\n",
        "\n",
        "# Check the dataset diabetes\n",
        "#print(dataset_scelto)\n",
        "parametri = dataset_scelto.keys()\n",
        "valore = dataset_scelto.values()\n",
        "print(parametri)"
      ],
      "execution_count": 59,
      "outputs": [
        {
          "output_type": "stream",
          "text": [
            "dict_keys(['data', 'target', 'DESCR', 'feature_names', 'data_filename', 'target_filename'])\n"
          ],
          "name": "stdout"
        }
      ]
    },
    {
      "cell_type": "code",
      "metadata": {
        "id": "MxcIG66un6l4",
        "colab_type": "code",
        "colab": {}
      },
      "source": [
        "# Print useful information\n",
        "for name in parametri:\n",
        "  print(\"------------------------------------------\")\n",
        "  print(name , dataset_scelto[name])\n",
        "  print(\"------------------------------------------\")"
      ],
      "execution_count": 0,
      "outputs": []
    },
    {
      "cell_type": "code",
      "metadata": {
        "id": "CaMILK_4oTWL",
        "colab_type": "code",
        "colab": {
          "base_uri": "https://localhost:8080/",
          "height": 50
        },
        "outputId": "49ef6631-33d0-4f4c-8d66-c66bb2a0d844"
      },
      "source": [
        "# Get Data\n",
        "data = dataset_scelto['data'] # or  data = iris.get('data')\n",
        "print(type(data), data.shape)\n",
        "# Get Target\n",
        "target = dataset_scelto['target']\n",
        "print(type(target), target.shape)\n",
        "\n",
        "# Print data\n",
        "#print(data)\n",
        "#print(target)"
      ],
      "execution_count": 34,
      "outputs": [
        {
          "output_type": "stream",
          "text": [
            "<class 'numpy.ndarray'> (150, 4)\n",
            "<class 'numpy.ndarray'> (150,)\n"
          ],
          "name": "stdout"
        }
      ]
    },
    {
      "cell_type": "code",
      "metadata": {
        "id": "GhkYQ4CYpCXb",
        "colab_type": "code",
        "colab": {}
      },
      "source": [
        "import pandas as pd\n",
        "# visualize machine laerning data https://machinelearningmastery.com/visualize-machine-learning-data-python-pandas/\n",
        "# might be cool: https://towardsdatascience.com/data-visualization-for-machine-learning-and-data-science-a45178970be7\n",
        "\n",
        "# Create csv file\n",
        "df = pd.DataFrame(data=dataset_scelto['data'], columns = dataset_scelto['feature_names'])\n",
        "df.to_csv('dataset_scelto.csv', sep = ',', index = False)\n",
        "df"
      ],
      "execution_count": 0,
      "outputs": []
    },
    {
      "cell_type": "code",
      "metadata": {
        "id": "Ss4tzny4ulWY",
        "colab_type": "code",
        "colab": {}
      },
      "source": [
        "df.describe()"
      ],
      "execution_count": 0,
      "outputs": []
    },
    {
      "cell_type": "code",
      "metadata": {
        "id": "ZLmclNWUuapE",
        "colab_type": "code",
        "colab": {}
      },
      "source": [
        "import matplotlib.pyplot as plt\n",
        "plt.rcParams['figure.figsize'] = [20, 15]\n",
        "# Plot input data\n",
        "df.plot(kind='hist', subplots=True, layout=(4,3))\n",
        "plt.show()"
      ],
      "execution_count": 0,
      "outputs": []
    },
    {
      "cell_type": "code",
      "metadata": {
        "id": "qQHsRqGQv0NP",
        "colab_type": "code",
        "colab": {
          "base_uri": "https://localhost:8080/",
          "height": 675
        },
        "outputId": "df81a3a0-530b-42e3-8f4e-baab6bd9404b"
      },
      "source": [
        "# Creiamo il regressore lineare\n",
        "# Esempio interessante: https://scikit-learn.org/stable/auto_examples/linear_model/plot_ols.html\n",
        "# Implementazione Intercept FALSE , see Extra Advance for Intercept True\n",
        "class LinearRegressor:\n",
        "    def __init__(self):\n",
        "      # Inizializzazione\n",
        "      self.reg = linear_model.LinearRegression(fit_intercept=False, normalize=False)\n",
        "    def train(self,X,Y):\n",
        "      # Estimate w0, w1 .. wN\n",
        "      self.reg.fit(X,Y)\n",
        "      return self.reg.coef_\n",
        "    def predict(self,X_test,coef_):\n",
        "      Y_pred = self.reg.predict(X_test)\n",
        "      #Y_pred = np.dot(coef_, X_test.T) \n",
        "      return Y_pred\n",
        "\n",
        "# Creiamoil dataset\n",
        "data = dataset_scelto['data'] \n",
        "target = dataset_scelto['target']\n",
        "x_train = data[:-20]\n",
        "\n",
        "X_train = np.vstack([np.ones(len(x_train)), x_train.T]).T\n",
        "Y_train = target[:-20]\n",
        "x_test = data[-20:]\n",
        "X_test = np.vstack([np.ones(len(x_test)), x_test.T]).T\n",
        "Y_test = target[-20:]\n",
        "\n",
        "print(\" X Train shape: \",X_train.shape)\n",
        "print(\"Y Train shape: \", Y_train.shape)\n",
        "\n",
        "# Creiamo Regressore Lineare\n",
        "myLinearRegressor = LinearRegressor()\n",
        "coef_ = myLinearRegressor.train(X_train,Y_train)\n",
        "# Cosa vogliamo predirre\n",
        "Y_pred = myLinearRegressor.predict(X_test, coef_)\n",
        "\n",
        "# Plot\n",
        "print(Y_test.shape)\n",
        "print(Y_pred.shape)\n",
        "length = Y_pred.shape[0] # 20\n",
        "index_bar = np.linspace(0,length,length)\n",
        "plt.plot(index_bar, Y_test, label='Test')\n",
        "plt.plot(index_bar, Y_pred, label='Prediction')\n",
        "plt.legend()\n"
      ],
      "execution_count": 88,
      "outputs": [
        {
          "output_type": "stream",
          "text": [
            " X Train shape:  (422, 11)\n",
            "Y Train shape:  (422,)\n",
            "(20,)\n",
            "(20,)\n"
          ],
          "name": "stdout"
        },
        {
          "output_type": "execute_result",
          "data": {
            "text/plain": [
              "<matplotlib.legend.Legend at 0x7f219fcdd940>"
            ]
          },
          "metadata": {
            "tags": []
          },
          "execution_count": 88
        },
        {
          "output_type": "display_data",
          "data": {
            "image/png": "[encoded data removed]",
            "text/plain": [
              "<Figure size 720x720 with 1 Axes>"
            ]
          },
          "metadata": {
            "tags": []
          }
        }
      ]
    },
    {
      "cell_type": "markdown",
      "metadata": {
        "id": "sc1f3O7uTJbS",
        "colab_type": "text"
      },
      "source": [
        "# Extra Informazioni (Avanzate)"
      ]
    },
    {
      "cell_type": "code",
      "metadata": {
        "id": "eAu9d9f5V27H",
        "colab_type": "code",
        "outputId": "fb46d82e-ed85-48fb-ffff-dcc081d3902e",
        "colab": {
          "base_uri": "https://localhost:8080/",
          "height": 68
        }
      },
      "source": [
        "#---------------------------------------------------------------------\n",
        "#--------------------   SCIKIT-LEARN REGRESSORE LINEARE  -------------\n",
        "#---------------------------------------------------------------------\n",
        "#--------------- Implementazione usando fit_intercept=True\n",
        "# Implementazione piú semplice da scrivere ma meno vicina alla logica matematica\n",
        "\n",
        "from sklearn import linear_model\n",
        "import numpy as np\n",
        "\n",
        "# Linear Model Regression Description https://scikit-learn.org/stable/modules/linear_model.html\n",
        "# Scikit Documentazione https://scikit-learn.org/stable/modules/generated/sklearn.linear_model.LinearRegression.html\n",
        "\n",
        "# Appraoch Linear model: Y=b+aX \n",
        "# fit_intercept = True significa che il parametro b è automaticamente settato a 1 e la sua stima sarà inserita in intercept_\n",
        "reg = linear_model.LinearRegression(fit_intercept=True, normalize=False)\n",
        "\n",
        "# Y e X\n",
        "x = np.array([19,21,22,23,26,33,29])\n",
        "#X = np.vstack([np.ones(len(x)),x]).T\n",
        "X= np.array([[19],[21], [22], [23], [26], [33],[29]])\n",
        "Y_train= np.array([1100,1150,1155,1170,1200,1750,1640])\n",
        "#print(X)\n",
        "#print(Y)\n",
        "\n",
        "reg.fit(X, Y)\n",
        "\n",
        "# Get w0 and w1\n",
        "w0 = reg.intercept_\n",
        "w1 = reg.coef_\n",
        "\n",
        "print('w0: ', reg.coef_)\n",
        "print('w1: ', reg.intercept_)\n",
        "\n",
        "X_test = np.array([[25]]) # giada ha 25 anni\n",
        "Y_pred = reg.predict(X_test)\n",
        "Y_pred_ = w0 + w1*X_test \n",
        "print('Giada gudagnerà al mese: ', Y_pred, Y_pred_)"
      ],
      "execution_count": 0,
      "outputs": [
        {
          "output_type": "stream",
          "text": [
            "w0:  [[50.70235756]]\n",
            "w1:  [56.21316306]\n",
            "Giada gudagnerà al mese:  [[1323.77210216]] [[1323.77210216]]\n"
          ],
          "name": "stdout"
        }
      ]
    },
    {
      "cell_type": "code",
      "metadata": {
        "id": "vjnBmjBhc_7l",
        "colab_type": "code",
        "outputId": "9315ccc5-24cd-4e5f-a039-a1de4ecf8a10",
        "colab": {
          "base_uri": "https://localhost:8080/",
          "height": 68
        }
      },
      "source": [
        "#---------------------------------------------------------------------\n",
        "#---------------- CLASSE SCIKIT-LEARN REGRESSORE LINEARE -------------\n",
        "#---------------------------------------------------------------------\n",
        "#--------------- Implementazione usando fit_intercept=True\n",
        "# Implementazione piú semplice da scrivere ma meno vicina alla logica matematica\n",
        "\n",
        "from sklearn import linear_model\n",
        "import numpy as np\n",
        "\n",
        "class Dataset:\n",
        "    def create(self):\n",
        "      X= np.array([[19],[21], [22], [23], [26], [33],[29]])\n",
        "      Y= np.array([[1100],[1150],[1155],[1170],[1200],[1750],[1640]])\n",
        "      return X,Y\n",
        "\n",
        "class LinearRegressor:\n",
        "    def __init__(self):\n",
        "      # Inizializzazione\n",
        "      self.reg = linear_model.LinearRegression(fit_intercept=True, normalize=False)\n",
        "    def train(self,X,Y):\n",
        "      # Estimate w0, w1 .. wN\n",
        "      self.reg.fit(X,Y)\n",
        "      print(self.reg.intercept_) # Questo deve essere diverso da 0 se fit_intercept=True\n",
        "      return self.reg.coef_, self.reg.intercept_\n",
        "    def predict(self,X_test,coef_, intercept_):\n",
        "      Y_pred = self.reg.predict(X_test)\n",
        "      #Y_pred = np.dot(coef_, X_test.T) + intercept_\n",
        "      return Y_pred\n",
        "\n",
        "myDataset=Dataset()\n",
        "X,Y = myDataset.create()\n",
        "myLinearRegressor = LinearRegressor()\n",
        "# coef_ rappresenta w1,w2, ... wN , intercept_ rappresenta w0\n",
        "coef_, intercept_ = myLinearRegressor.train(X,Y)\n",
        "print(coef_, intercept_)\n",
        "# Set input Giada 25 anni Y=w0*1 + w1*X1 --> 1 X1=25 \n",
        "X_test = np.array([[25]])  \n",
        "Y_pred = myLinearRegressor.predict(X_test,coef_, intercept_)\n",
        "print(Y_pred)\n",
        "\n"
      ],
      "execution_count": 0,
      "outputs": [
        {
          "output_type": "stream",
          "text": [
            "[56.21316306]\n",
            "[[50.70235756]] [56.21316306]\n",
            "[[1323.77210216]]\n"
          ],
          "name": "stdout"
        }
      ]
    },
    {
      "cell_type": "code",
      "metadata": {
        "id": "qHh83zaKUo48",
        "colab_type": "code",
        "outputId": "63f5589b-ebf7-4840-b33a-18968f786f01",
        "colab": {
          "base_uri": "https://localhost:8080/",
          "height": 51
        }
      },
      "source": [
        "# Implementazione regressore lineare usando solo numpy\n",
        "#---------------------------------------------------------------------\n",
        "#---------------- IMPLEMENTAZIONE REGRESSORE LINEARE NUMPY -----------\n",
        "#---------------------------------------------------------------------\n",
        "# Link Utile Least square with numpy: https://mmas.github.io/least-squares-fitting-numpy-scipy\n",
        "\n",
        "'''\n",
        "[Y1]       [1 X1]\n",
        "[Y2]       [1 X2]   [w0]\n",
        "[Y3]   =   [1 X3]   [w1] \n",
        "...        ......\n",
        "[YN]       [1 XN]\n",
        "\n",
        "Y = Xbeta\n",
        "Nx1 = Nx2 x 2x 1\n",
        "beta = ( (XT*X)∧-1 )*XT*Y  (Least square)\n",
        "'''\n",
        "import numpy as np\n",
        "\n",
        "# Construct Input Matrices\n",
        "x = np.array([19,21,22,23,26,33,29])\n",
        "X = np.vstack([np.ones(len(x)), x]).T\n",
        "Y = np.vstack(np.array([1100,1150,1155,1170,1200,1750,1640]))\n",
        "#print(X)\n",
        "#print(Y)\n",
        "\n",
        "# Solve Least square Matematicall (Matrix product)\n",
        "# beta = ( (XT*X)∧-1 )*XT*Y  (Least square)\n",
        "coeff = np.dot(np.linalg.inv(np.dot(X.T, X)), np.dot(X.T, Y))\n",
        "print(\"Coefficienti: \", coeff.T)\n",
        "w0 = coeff[0]\n",
        "w1  = coeff[1]\n",
        "\n",
        "# Different approach Using Numpy Functions\n",
        "#coeff_2 = np.linalg.lstsq(X, Y)[0]\n",
        "#print(\"Coefficient caso 2: \", coeff_2)\n",
        "#a  = coeff_2[0]\n",
        "#b = coeff_2[1]\n",
        "\n",
        "X_test = 25\n",
        "Y_pred = w0 + w1*X_test \n",
        "print('Giada (25 anni) gudagnerà al mese: ', Y_pred)"
      ],
      "execution_count": 0,
      "outputs": [
        {
          "output_type": "stream",
          "text": [
            "Coefficient caso 1:  [[56.21316306 50.70235756]]\n",
            "Giada (25 anni) gudagnerà al mese:  [1323.77210216]\n"
          ],
          "name": "stdout"
        }
      ]
    },
    {
      "cell_type": "code",
      "metadata": {
        "id": "MINUt7HkrTF5",
        "colab_type": "code",
        "colab": {
          "base_uri": "https://localhost:8080/",
          "height": 533
        },
        "outputId": "f3d8d4ca-97d8-469b-894a-d697d5206b33"
      },
      "source": [
        "#---------------------------------------------------------------------\n",
        "#---------------- Trasformare dizionari in Array --------- -----------\n",
        "#---------------------------------------------------------------------\n",
        "# Usiamo Le funzioni\n",
        "# Importare i datasets\n",
        "\n",
        "from sklearn import datasets\n",
        "\n",
        "iris = datasets.load_iris() # Load iris dataset\n",
        "digits = datasets.load_digits() # Load digits dataset\n",
        "boston = datasets.load_boston() # Load boston dataset\n",
        "diabetes = datasets.load_diabetes() # Load diabetes dataset\n",
        "linnerud = datasets.load_linnerud() # Load linnerud dataset\n",
        "wine = datasets.load_wine() # Load wine dataset\n",
        "breast_cancer = datasets.load_breast_cancer() # Load breast_cancer dataset\n",
        "\n",
        "dataset_scelto = iris\n",
        "\n",
        "def approccio_1(dataset_scelto):\n",
        "  # --------------------- Approccio 1\n",
        "  # Get dictionar keys, value\n",
        "  print(dataset_scelto.keys())\n",
        "  list_keys = []\n",
        "  list_values = []\n",
        "  for key in dataset_scelto:\n",
        "    list_keys.append(key)\n",
        "    print(key)\n",
        "    value = dataset_scelto[key]\n",
        "    list_values.append(value)\n",
        "  print(\"All keys inside array \", list_keys) \n",
        "  #print(\"All values inside array \", list_values) \n",
        "\n",
        "  # Convert list to numpy array\n",
        "  print(\"----------------------------------\")\n",
        "  array_keys = np.asarray(list_keys)\n",
        "  array_values = np.array(list_values)\n",
        "  print(type(array_keys), array_keys.shape, array_keys[0].shape)\n",
        "  print(type(array_values), array_values.shape,array_values[0].shape)\n",
        "\n",
        "  # Going deeper inside data shape\n",
        "  print(\"----------------------------------\")\n",
        "  for i in range(0,len(array_keys)):\n",
        "    if isinstance(array_values[i],np.ndarray):\n",
        "      print(array_keys[i], type(array_values[i]), array_values[i].shape )\n",
        "    else:\n",
        "      print(array_keys[i], type(array_values[i]))\n",
        "    \n",
        "  # Other Useful Solutions\n",
        "  '''\n",
        "  for value in diabetes.values():\n",
        "    print(value) \n",
        "\n",
        "  for key, value in diabetes.items():\n",
        "    print(key, value)\n",
        "  '''\n",
        "\n",
        "def approccio_2(dataset_scelto):\n",
        "  #--------------------- Approccio 2\n",
        "  # Convert a dictionary to an array of string\n",
        "  list_keys = list(dataset_scelto.keys())\n",
        "  list_values = list(dataset_scelto.values())\n",
        "  #print(list_keys)\n",
        "  print(type(list_keys))\n",
        "  #print(list_values)\n",
        "  print(type(list_values))\n",
        "  # Convert list as numpy narray\n",
        "  array_keys = np.asarray(list_keys)\n",
        "  array_values = np.array(list_values)\n",
        "  print(type(array_keys))\n",
        "  print(type(array_values))\n",
        "  # Covert back numpy ndarray to list\n",
        "  new_list_keys = array_keys.tolist()\n",
        "  new_list_values = array_values.tolist()\n",
        "  print(type(new_list_keys))\n",
        "  print(type(new_list_values))\n",
        "  # Check if the list are equal\n",
        "  if list_keys == new_list_keys and list_values==new_list_values: \n",
        "    print (\"The lists are identical\") \n",
        "  else : \n",
        "    print (\"The lists are not identical\")\n",
        "\n",
        "print(\"-----------------------------\")\n",
        "print(\"-------- Approach 1 ---------\")\n",
        "print(\"-----------------------------\")\n",
        "approccio_1(dataset_scelto)\n",
        "print(\"-----------------------------\")\n",
        "print(\"-------- Approach 2 ---------\")\n",
        "print(\"-----------------------------\")\n",
        "approccio_2(dataset_scelto)\n"
      ],
      "execution_count": 42,
      "outputs": [
        {
          "output_type": "stream",
          "text": [
            "-----------------------------\n",
            "-------- Approach 1 ---------\n",
            "-----------------------------\n",
            "dict_keys(['data', 'target', 'target_names', 'DESCR', 'feature_names', 'filename'])\n",
            "data\n",
            "target\n",
            "target_names\n",
            "DESCR\n",
            "feature_names\n",
            "filename\n",
            "All keys inside array  ['data', 'target', 'target_names', 'DESCR', 'feature_names', 'filename']\n",
            "----------------------------------\n",
            "<class 'numpy.ndarray'> (6,) ()\n",
            "<class 'numpy.ndarray'> (6,) (150, 4)\n",
            "----------------------------------\n",
            "data <class 'numpy.ndarray'> (150, 4)\n",
            "target <class 'numpy.ndarray'> (150,)\n",
            "target_names <class 'numpy.ndarray'> (3,)\n",
            "DESCR <class 'str'>\n",
            "feature_names <class 'list'>\n",
            "filename <class 'str'>\n",
            "-----------------------------\n",
            "-------- Approach 2 ---------\n",
            "-----------------------------\n",
            "<class 'list'>\n",
            "<class 'list'>\n",
            "<class 'numpy.ndarray'>\n",
            "<class 'numpy.ndarray'>\n",
            "<class 'list'>\n",
            "<class 'list'>\n",
            "The lists are identical\n"
          ],
          "name": "stdout"
        }
      ]
    },
    {
      "cell_type": "code",
      "metadata": {
        "id": "CoNNXTSG1HPT",
        "colab_type": "code",
        "colab": {
          "base_uri": "https://localhost:8080/",
          "height": 692
        },
        "outputId": "cd933e7c-8228-40a6-9ca7-5afd526721a1"
      },
      "source": [
        "#-----------------------------------------------------------------------------------------------\n",
        "#----------------SCIKIT-LEARN REGRESSORE LINEARE APPLICATA A UN DATASET (DIABETES) -------------\n",
        "#-----------------------------------------------------------------------------------------------\n",
        "#--------------- Implementazione usando fit_intercept=True\n",
        "# Implementazione piú semplice da scrivere ma meno vicina alla logica matematica\n",
        "\n",
        "# Importare i datasets\n",
        "from sklearn import datasets\n",
        "import matplotlib.pyplot as plt\n",
        "plt.rcParams['figure.figsize'] = [10, 10]\n",
        "\n",
        "iris = datasets.load_iris() # Load iris dataset\n",
        "digits = datasets.load_digits() # Load digits dataset\n",
        "boston = datasets.load_boston() # Load boston dataset\n",
        "diabetes = datasets.load_diabetes() # Load diabetes dataset\n",
        "linnerud = datasets.load_linnerud() # Load linnerud dataset\n",
        "wine = datasets.load_wine() # Load wine dataset\n",
        "breast_cancer = datasets.load_breast_cancer() # Load breast_cancer dataset\n",
        "\n",
        "dataset_scelto = diabetes\n",
        "\n",
        "# Check the dataset diabetes\n",
        "#print(dataset_scelto)\n",
        "parametri = dataset_scelto.keys()\n",
        "valore = dataset_scelto.values()\n",
        "print(parametri)\n",
        "\n",
        "\n",
        "# Creiamo il regressore lineare\n",
        "# Esempio interessante: https://scikit-learn.org/stable/auto_examples/linear_model/plot_ols.html\n",
        "class LinearRegressor:\n",
        "    def __init__(self):\n",
        "      # Inizializzazione\n",
        "      self.reg = linear_model.LinearRegression(fit_intercept=True, normalize=False)\n",
        "    def train(self,X,Y):\n",
        "      # Estimate w0, w1 .. wN\n",
        "      self.reg.fit(X,Y)\n",
        "      return self.reg.coef_, self.reg.intercept_\n",
        "    def predict(self,X_test,coef_, intercept_):\n",
        "      Y_pred = self.reg.predict(X_test)\n",
        "      #Y_pred = np.dot(coef_, X_test.T) + intercept_\n",
        "      return Y_pred\n",
        "\n",
        "# Creiamoil dataset\n",
        "data = dataset_scelto['data'] \n",
        "target = dataset_scelto['target']\n",
        "X_train = data[:-20]\n",
        "Y_train = target[:-20]\n",
        "X_test = data[-20:]\n",
        "Y_test = target[-20:]\n",
        "\n",
        "print(\" X Train shape: \",X_train.shape)\n",
        "print(\"Y Train shape: \", Y_train.shape)\n",
        "\n",
        "# Creiamo Regressore Lineare\n",
        "myLinearRegressor = LinearRegressor()\n",
        "coef_, intercept_ = myLinearRegressor.train(X_train,Y_train)\n",
        "# Cosa vogliamo predirre\n",
        "Y_pred = myLinearRegressor.predict(X_test, coef_, intercept_)\n",
        "\n",
        "# Plot\n",
        "print(Y_test.shape)\n",
        "print(Y_pred.shape)\n",
        "length = Y_pred.shape[0] # 20\n",
        "index_bar = np.linspace(0,length,length)\n",
        "plt.plot(index_bar, Y_test, label='Test')\n",
        "plt.plot(index_bar, Y_pred, label='Prediction')\n",
        "plt.legend()"
      ],
      "execution_count": 79,
      "outputs": [
        {
          "output_type": "stream",
          "text": [
            "dict_keys(['data', 'target', 'DESCR', 'feature_names', 'data_filename', 'target_filename'])\n",
            " X Train shape:  (422, 10)\n",
            "Y Train shape:  (422,)\n",
            "(20,)\n",
            "(20,)\n"
          ],
          "name": "stdout"
        },
        {
          "output_type": "execute_result",
          "data": {
            "text/plain": [
              "<matplotlib.legend.Legend at 0x7f219fefd6d8>"
            ]
          },
          "metadata": {
            "tags": []
          },
          "execution_count": 79
        },
        {
          "output_type": "display_data",
          "data": {
            "image/png": "[encoded data removed]",
            "text/plain": [
              "<Figure size 720x720 with 1 Axes>"
            ]
          },
          "metadata": {
            "tags": []
          }
        }
      ]
    }
  ]
}