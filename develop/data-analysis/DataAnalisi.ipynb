{
  "nbformat": 4,
  "nbformat_minor": 0,
  "metadata": {
    "colab": {
      "name": "DataAnalisi.ipynb",
      "provenance": [],
      "collapsed_sections": [],
      "include_colab_link": true
    },
    "kernelspec": {
      "name": "python3",
      "display_name": "Python 3"
    }
  },
  "cells": [
    {
      "cell_type": "markdown",
      "metadata": {
        "id": "view-in-github",
        "colab_type": "text"
      },
      "source": [
        "<a href=\"https://colab.research.google.com/github/visiont3lab/machine_learning/blob/master/DataAnalisi.ipynb\" target=\"_parent\"><img src=\"https://colab.research.google.com/assets/colab-badge.svg\" alt=\"Open In Colab\"/></a>"
      ]
    },
    {
      "cell_type": "markdown",
      "metadata": {
        "id": "Yn_sFk2N8C9f",
        "colab_type": "text"
      },
      "source": [
        "# Cosa andremo a fare oggi?\n",
        "1. Teorica/Pratica: Analisi e Creazione dei dataset:\n",
        "  * Introduzione alla libreria scikit-learn\n",
        "  * Regressione vs Classificazione \n",
        "  * Scikit-Learn datasets (regressione: diabetes, classificazione: iris)\n",
        "  * Pandas library (strumenti di visualizzazione dei dataset)\n",
        "  * (Incominceremo a creare un dataset custom che definisca un problema )\n",
        "2. Affronteremo problemi software (installazione, configurazione librerie etc) e dubbi (esercitazioni, dubbi di programmazzione etc)"
      ]
    },
    {
      "cell_type": "markdown",
      "metadata": {
        "id": "u1uyDVNR-ZYS",
        "colab_type": "text"
      },
      "source": [
        "# Scikit-Learn Introduzione\n",
        "[Scikit-learn](https://scikit-learn.org/stable/) è una libreria di machine learning.\n",
        "\n",
        "* [Sklearn Installation page](https://scikit-learn.org/stable/install.html)  \n",
        "```\n",
        "# Pip packet manager\n",
        "pip install -U scikit-learn\n",
        "# Conda packet manager \n",
        "conda install scikit-learn\n",
        "```"
      ]
    },
    {
      "cell_type": "markdown",
      "metadata": {
        "id": "cAFpH3LgE2ni",
        "colab_type": "text"
      },
      "source": [
        "# Classificazione vs Regressione\n",
        "Appartengono entrambi alla cateria di \"Supervised Learning\" (Apprendimento Supervisionato). Con ciò intendiamo quella situazione in cui io mi creo un dataset (quindi racconto una serie di dati) e con questi dati cerco di risolvere un problema. Posso risolvere due tipi di problema:\n",
        "\n",
        "## Regressione\n",
        "\n",
        "Significato:\n",
        "\n",
        "* dato una serie di dati misurati vogliamo trovare una relazione matematica tra i dati misurati e l'output desirato. <br>\n",
        "Vogliamo predirre qualcosa.\n",
        "\n",
        "### Esempio \n",
        "\n",
        "Vogliamo predirre il salario di un lavoratore mensile in euro basandoci sulla sua età.\n",
        "\n",
        "Definiamo il problema matematicamente (caso lineare):\n",
        "\n",
        "<h2><center>$Y = aX +b$</center></h2>\n",
        "\n",
        "  * Y: salario che voglio predire\n",
        "  * X: età del lavoratore esempio X=25 anni \n",
        "  * a e b sono i due parametri da stimare (Sconosciuti)\n",
        "\n",
        "Il problema di regressione consiste nel determinare le variabili sconosciute (a, b) utilizzando un dataset (insieme dei dati raccolti). Una volta indiviudati i parametri a e b saremo in grado di stimare quanto guandagna una persona a noi sconosciuta semplicemente basandoci sulla sue età.\n",
        "\n",
        "* Step 1) Dato un insieme di dati raccolti ( Y e X) vogliamo stimare i parametri sconosciuti a e b (sono due numeri)\n",
        "\n",
        "```\n",
        "Dati Raccolti:\n",
        "Y = Salario al mese in euro\n",
        "X = Età del lavoratore\n",
        "1) Marco:    Y=1100   X=19\n",
        "2) Daniele:  Y=1150   X=21\n",
        "3) Davide:   Y=1155   X=22\n",
        "4) Marta:    Y=1170   X=23\n",
        "6) Alessia:  Y=1200   X=26\n",
        "9) Stella:   Y=1750   X=33\n",
        "10) Chiara   Y=1640   X=29  \n",
        "```\n",
        "\n",
        "* Step 2) Vogliamo rispondere alla seguente domanda: \n",
        "  <h2><center>Quanto guadagna Giada che ha 25 anni?</center>\n",
        "\n",
        "  Vediamo chiaramente che all'aumentare dell'età aumenta il guadagno e ad occhio possiamo dire che Giada guadagnerà intorno ai 1180 euro. Matematicamente ci stiamo chiedendo il valore di Y (salario di giada) conoscendo la sua età (X=25 anni) e i due parametri a e b (ottenuti nello step 1)\n",
        "\n",
        "\n",
        "\n",
        "\n",
        "\n",
        "\n",
        "\n",
        "\n",
        "* [Sklearn dataset page](https://scikit-learn.org/stable/datasets/index.html#datasets)\n",
        "\n",
        "Datasets forniti da scikit-leran di esempio per tutorial:\n",
        "\n",
        "  * [Iris plant dataset](https://scikit-learn.org/stable/modules/generated/sklearn.datasets.load_iris.html#sklearn.datasets.load_iris)\n",
        "  * [Optical recognition of handwritten digits dataset](https://scikit-learn.org/stable/modules/generated/sklearn.datasets.load_digits.html#sklearn.datasets.load_digits)\n",
        "  * [Boston houses price dataset](https://scikit-learn.org/stable/modules/generated/sklearn.datasets.load_boston.html#sklearn.datasets.load_boston)\n",
        "  * [Diabetes dataset](https://scikit-learn.org/stable/modules/generated/sklearn.datasets.load_diabetes.html#sklearn.datasets.load_diabetes)\n",
        "  * [Wine Recognition dataset](https://scikit-learn.org/stable/modules/generated/sklearn.datasets.load_wine.html#sklearn.datasets.load_wine)\n",
        "  * [Breast cancer wisconsin (diagnostic) dataset](https://scikit-learn.org/stable/modules/generated/sklearn.datasets.load_breast_cancer.html#sklearn.datasets.load_breast_cancer)\n",
        "  * [Linnerrud Dataset](https://scikit-learn.org/stable/modules/generated/sklearn.datasets.load_linnerud.html#sklearn.datasets.load_linnerud)\n"
      ]
    },
    {
      "cell_type": "code",
      "metadata": {
        "id": "OPrvcg8r-YmU",
        "colab_type": "code",
        "colab": {
          "base_uri": "https://localhost:8080/",
          "height": 50
        },
        "outputId": "3b122e6a-308e-4e22-8e6b-d8bc2a73a042"
      },
      "source": [
        "from sklearn import linear_model\n",
        "import numpy as np\n",
        "\n",
        "# Linear Model Regression Description https://scikit-learn.org/stable/modules/linear_model.html\n",
        "# Scikit Documentazione https://scikit-learn.org/stable/modules/generated/sklearn.linear_model.LinearRegression.html\n",
        "\n",
        "# Appraoch Linear model: Y=b+aX \n",
        "# fit_intercept = False significa che dovremmo manualmente inseririe 1 se vogliamo estrarre il parametro b\n",
        "reg = linear_model.LinearRegression(fit_intercept=False, normalize=False)\n",
        "\n",
        "# Y e X\n",
        "x = np.array([19,21,22,23,26,33,29])\n",
        "#X = np.vstack([np.ones(len(x)),x]).T\n",
        "X_train= np.array([[1,19],[1,21], [1,22], [1,23], [1,26], [1,33],[1,29]])\n",
        "#print(X)\n",
        "#print(X_train)\n",
        "Y_train= np.array([1100,1150,1155,1170,1200,1750,1640])\n",
        "\n",
        "reg.fit(X_train, Y_train)\n",
        "\n",
        "# a e b\n",
        "print('a and b ', reg.coef_)\n",
        "\n",
        "X_pred = np.array([[1,25]]) # giada ha 25 anni\n",
        "y_pred = reg.predict(X_pred)\n",
        "print('Giada gudagnerà al mese: ', y_pred)\n",
        "\n"
      ],
      "execution_count": 75,
      "outputs": [
        {
          "output_type": "stream",
          "text": [
            "a and b  [56.21316306 50.70235756]\n",
            "Giada gudagnerà al mese:  [1323.77210216]\n"
          ],
          "name": "stdout"
        }
      ]
    },
    {
      "cell_type": "code",
      "metadata": {
        "id": "vy-gWJe0gC4o",
        "colab_type": "code",
        "colab": {
          "base_uri": "https://localhost:8080/",
          "height": 66
        },
        "outputId": "c73a9ad2-15f4-47f2-92d0-e157c4159549"
      },
      "source": [
        "from sklearn import linear_model\n",
        "import numpy as np\n",
        "\n",
        "# Linear Model Regression Description https://scikit-learn.org/stable/modules/linear_model.html\n",
        "# Scikit Documentazione https://scikit-learn.org/stable/modules/generated/sklearn.linear_model.LinearRegression.html\n",
        "\n",
        "# Appraoch Linear model: Y=b+aX \n",
        "# fit_intercept = True significa che il parametro b è automaticamente settato a 1 e la sua stima sarà inserita in intercept_\n",
        "reg = linear_model.LinearRegression(fit_intercept=True, normalize=False)\n",
        "\n",
        "# Y e X\n",
        "x = np.array([19,21,22,23,26,33,29])\n",
        "#X = np.vstack([np.ones(len(x)),x]).T\n",
        "X_train= np.array([[19],[21], [22], [23], [26], [33],[29]])\n",
        "#print(X)\n",
        "#print(X_train)\n",
        "Y_train= np.array([1100,1150,1155,1170,1200,1750,1640])\n",
        "\n",
        "reg.fit(X_train, Y_train)\n",
        "\n",
        "# a e b\n",
        "a = reg.coef_\n",
        "b = reg.intercept_\n",
        "print('a: ', reg.coef_)\n",
        "print('b: ', reg.intercept_)\n",
        "\n",
        "\n",
        "X_test = np.array([[25]]) # giada ha 25 anni\n",
        "y_pred = reg.predict(X_test)\n",
        "Y_pred = a*X_test + b\n",
        "print('Giada gudagnerà al mese: ', y_pred, Y_pred)\n"
      ],
      "execution_count": 81,
      "outputs": [
        {
          "output_type": "stream",
          "text": [
            "a:  [50.70235756]\n",
            "b:  56.21316306483277\n",
            "Giada gudagnerà al mese:  [1323.77210216] [[1323.77210216]]\n"
          ],
          "name": "stdout"
        }
      ]
    },
    {
      "cell_type": "code",
      "metadata": {
        "id": "xNvb-MqFTjvn",
        "colab_type": "code",
        "colab": {
          "base_uri": "https://localhost:8080/",
          "height": 50
        },
        "outputId": "b7c41e0e-a657-4eed-983f-9f96e55faa71"
      },
      "source": [
        "# Link Utile Least square with numpy: https://mmas.github.io/least-squares-fitting-numpy-scipy\n",
        "'''\n",
        "[Y1]       [X1 1]\n",
        "[Y2]       [X2 1]   [a]\n",
        "[Y3]   =   [X3 1]   [b] \n",
        "...        ......\n",
        "[YN]       [XN 1]\n",
        "\n",
        "Y = Xbeta\n",
        "Nx1 = Nx2 x 2x 1\n",
        "beta = ( (XT*X)∧-1 )*XT*Y  (Least square)\n",
        "'''\n",
        "\n",
        "# Construct Matrices\n",
        "x = np.array([19,21,22,23,26,33,29])\n",
        "X = np.vstack([x, np.ones(len(x))]).T\n",
        "Y = np.vstack(np.array([1100,1150,1155,1170,1200,1750,1640]))\n",
        "#print(X)\n",
        "#print(Y)\n",
        "\n",
        "# Solve Least square Matematicall (Matrix product)\n",
        "# beta = ( (XT*X)∧-1 )*XT*Y  (Least square)\n",
        "coeff = np.dot(np.linalg.inv(np.dot(X.T, X)), np.dot(X.T, Y))\n",
        "print(\"Coefficient caso 1: \", coeff.T)\n",
        "a = coeff[0]\n",
        "b  = coeff[1]\n",
        "\n",
        "# Different approach Using Numpy Functions\n",
        "#coeff_2 = np.linalg.lstsq(X, Y)[0]\n",
        "#print(\"Coefficient caso 2: \", coeff_2)\n",
        "#a  = coeff_2[0]\n",
        "#b = coeff_2[1]\n",
        "\n",
        "X_test = 25\n",
        "Y_pred = a*X_test + b\n",
        "print('Giada gudagnerà al mese: ', Y_pred)"
      ],
      "execution_count": 76,
      "outputs": [
        {
          "output_type": "stream",
          "text": [
            "Coefficient caso 1:  [[50.70235756 56.21316306]]\n",
            "Giada gudagnerà al mese:  [1323.77210216]\n"
          ],
          "name": "stdout"
        }
      ]
    },
    {
      "cell_type": "code",
      "metadata": {
        "id": "vjnBmjBhc_7l",
        "colab_type": "code",
        "colab": {}
      },
      "source": [
        ""
      ],
      "execution_count": 0,
      "outputs": []
    }
  ]
}