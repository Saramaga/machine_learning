{
  "nbformat": 4,
  "nbformat_minor": 0,
  "metadata": {
    "colab": {
      "name": "dataset_analysis_with_pandas.ipynb",
      "provenance": [],
      "collapsed_sections": [],
      "toc_visible": true
    },
    "kernelspec": {
      "name": "python3",
      "display_name": "Python 3"
    }
  },
  "cells": [
    {
      "cell_type": "markdown",
      "metadata": {
        "id": "yIAWor5J4GEh",
        "colab_type": "text"
      },
      "source": [
        "## Data visualization with Pandas Library\n",
        "Andremo ad analazzire e visualizzare il contenuto dei dati usando la libreria pandas.\n",
        "I principali componenti della libreria pandas sono:\n",
        "  * Series : È una colonna, ha una sola dimensione.\n",
        "  * Dataframe: È una tabella o un array multidimensionale. Un dataframe è formato da più Series.\n",
        "\n",
        "Creremo un dataset di esempio che andremo a riprendere in seguito.\n"
      ]
    },
    {
      "cell_type": "code",
      "metadata": {
        "id": "NkEv28tU4JEp",
        "colab_type": "code",
        "colab": {}
      },
      "source": [
        "# Creiamo un dataset usando lo stile  dizionario (key-value style)\n",
        "# 4 campioni di esempio\n",
        "# Proviamo a predirre il numero di studenti che passeranno questo corso. Proviamo\n",
        "# a farlo analizzando i dati degli ultimi 4 anni.\n",
        "data = {\n",
        "    'se': [0.6, 0.8, 0.4, 0.9], # 0.78, 0.24, 0.65, 0.71, 0.9, 0.97, 0.86, 0.4, 0.82, 0.46, 0.69],  \n",
        "    'pi': [0.6, 0.7, 0.3, 0.9],  \n",
        "    'nc': [12, 26, 15, 30],\n",
        "    'bm': [0.4, 0.7, 0.2, 0.9], \n",
        "    'bp': [0.1, 0.05, 0.2, 0.3], \n",
        "    'as': [0.1, 0.3, 0.1, 0.6], \n",
        "    'cf': [0.78, 0.45, 0.23, 0.8], \n",
        "    'qc': [0.45, 1, 0.93, 0.7], \n",
        "    'qcs': [0.4, 0.8, 0.7, 0.3],\n",
        "    'qcg': [0.78, 0.67, 0.86, 0.9],\n",
        "    'lg': [8, 6, 9, 12],\n",
        "    'ne': [6, 5, 5, 5],\n",
        "    'mte': [0.8, 0.9, 0.9, 1]  \n",
        "}"
      ],
      "execution_count": 0,
      "outputs": []
    },
    {
      "cell_type": "markdown",
      "metadata": {
        "id": "XJGmygjL4LzO",
        "colab_type": "text"
      },
      "source": [
        "# Spiegazione dataset:\n",
        "\n",
        "* se: studenti_che_hanno_superato_l_esame: percentuale di studenti che negli  ultimi 4 anni hanno superato l'esame\n",
        "* pi: preparazione_insegnati: quanto gli insegnanti ogni anno erano preparati da 0 a 1\n",
        "* nc: numero_di_ore_del_corso: numero di ore del corso che i ragazzi hanno seguito\n",
        "* bm: background_matematico_studenti: qual'era da 0 a 1 \n",
        "il background matematico che gli studenti avevano\n",
        "* bp: background_python_studenti: quanto il gruppo di ragazzi conosceva python da 0 a 1\n",
        "* as: attività_degli_studenti_in_classe: quanto gli studenti durante il corso sono stati attivi (facevamo domande ) ad 0 a 1.\n",
        "* cf: compiti_fatti: in totale nel corso dell'anno in che percentuale gli studenti hanno svolto i compiti. Cioè su un totale di x compiti quanti sono stati svolti.\n",
        "* qc: qualità_compiti_fatti: valutiamo la qualità dei compiti fatti dagli studenti da 0 1\n",
        "* qcs: qualità_compiti_fatti_singolarmente: sul totale dei compiti fatti valutiamo la qualità dei compiti dei compiti fatti singolarmente\n",
        "* qcg: qualità_compiti_fatti_in_gruppo: sul totale dei compiti fatti valutiamo la qualità dei compiti dei compiti fatti in gruppo\n",
        "*lg:  lavoro_di_gruppo: numero di ore di lavoro di gruppo in classe\n",
        "*ne: numero_esercitazioni: numero di esercitazioni svolte in classe\n",
        "* mte: mid_term_esame: percentuale di studenti che hanno supero l'esame intermedio\n",
        "\n",
        "## Obbiettivo\n",
        "Vogliamo sapere il numero di stundenti che quest'anno passeranno l'esame.\n"
      ]
    },
    {
      "cell_type": "code",
      "metadata": {
        "id": "GD_SR3S74Olf",
        "colab_type": "code",
        "outputId": "109dd1f3-ad7d-48b6-f2d4-15f087dd8031",
        "colab": {
          "base_uri": "https://localhost:8080/",
          "height": 162
        }
      },
      "source": [
        "import pandas as pd\n",
        "my_data = pd.DataFrame(data, index=['2013', '2015','2016','2018'])\n",
        "my_data\n",
        "# Each (key, value) item in data corresponds to a column in the resulting DataFrame."
      ],
      "execution_count": 27,
      "outputs": [
        {
          "output_type": "execute_result",
          "data": {
            "text/html": [
              "<div>\n",
              "<style scoped>\n",
              "    .dataframe tbody tr th:only-of-type {\n",
              "        vertical-align: middle;\n",
              "    }\n",
              "\n",
              "    .dataframe tbody tr th {\n",
              "        vertical-align: top;\n",
              "    }\n",
              "\n",
              "    .dataframe thead th {\n",
              "        text-align: right;\n",
              "    }\n",
              "</style>\n",
              "<table border=\"1\" class=\"dataframe\">\n",
              "  <thead>\n",
              "    <tr style=\"text-align: right;\">\n",
              "      <th></th>\n",
              "      <th>se</th>\n",
              "      <th>pi</th>\n",
              "      <th>nc</th>\n",
              "      <th>bm</th>\n",
              "      <th>bp</th>\n",
              "      <th>as</th>\n",
              "      <th>cf</th>\n",
              "      <th>qc</th>\n",
              "      <th>qcs</th>\n",
              "      <th>qcg</th>\n",
              "      <th>lg</th>\n",
              "      <th>ne</th>\n",
              "      <th>mte</th>\n",
              "    </tr>\n",
              "  </thead>\n",
              "  <tbody>\n",
              "    <tr>\n",
              "      <th>2013</th>\n",
              "      <td>0.6</td>\n",
              "      <td>0.6</td>\n",
              "      <td>12</td>\n",
              "      <td>0.4</td>\n",
              "      <td>0.10</td>\n",
              "      <td>0.1</td>\n",
              "      <td>0.78</td>\n",
              "      <td>0.45</td>\n",
              "      <td>0.4</td>\n",
              "      <td>0.78</td>\n",
              "      <td>8</td>\n",
              "      <td>6</td>\n",
              "      <td>0.8</td>\n",
              "    </tr>\n",
              "    <tr>\n",
              "      <th>2015</th>\n",
              "      <td>0.8</td>\n",
              "      <td>0.7</td>\n",
              "      <td>26</td>\n",
              "      <td>0.7</td>\n",
              "      <td>0.05</td>\n",
              "      <td>0.3</td>\n",
              "      <td>0.45</td>\n",
              "      <td>1.00</td>\n",
              "      <td>0.8</td>\n",
              "      <td>0.67</td>\n",
              "      <td>6</td>\n",
              "      <td>5</td>\n",
              "      <td>0.9</td>\n",
              "    </tr>\n",
              "    <tr>\n",
              "      <th>2016</th>\n",
              "      <td>0.4</td>\n",
              "      <td>0.3</td>\n",
              "      <td>15</td>\n",
              "      <td>0.2</td>\n",
              "      <td>0.20</td>\n",
              "      <td>0.1</td>\n",
              "      <td>0.23</td>\n",
              "      <td>0.93</td>\n",
              "      <td>0.7</td>\n",
              "      <td>0.86</td>\n",
              "      <td>9</td>\n",
              "      <td>5</td>\n",
              "      <td>0.9</td>\n",
              "    </tr>\n",
              "    <tr>\n",
              "      <th>2018</th>\n",
              "      <td>0.9</td>\n",
              "      <td>0.9</td>\n",
              "      <td>30</td>\n",
              "      <td>0.9</td>\n",
              "      <td>0.30</td>\n",
              "      <td>0.6</td>\n",
              "      <td>0.80</td>\n",
              "      <td>0.70</td>\n",
              "      <td>0.3</td>\n",
              "      <td>0.90</td>\n",
              "      <td>12</td>\n",
              "      <td>5</td>\n",
              "      <td>1.0</td>\n",
              "    </tr>\n",
              "  </tbody>\n",
              "</table>\n",
              "</div>"
            ],
            "text/plain": [
              "       se   pi  nc   bm    bp   as    cf    qc  qcs   qcg  lg  ne  mte\n",
              "2013  0.6  0.6  12  0.4  0.10  0.1  0.78  0.45  0.4  0.78   8   6  0.8\n",
              "2015  0.8  0.7  26  0.7  0.05  0.3  0.45  1.00  0.8  0.67   6   5  0.9\n",
              "2016  0.4  0.3  15  0.2  0.20  0.1  0.23  0.93  0.7  0.86   9   5  0.9\n",
              "2018  0.9  0.9  30  0.9  0.30  0.6  0.80  0.70  0.3  0.90  12   5  1.0"
            ]
          },
          "metadata": {
            "tags": []
          },
          "execution_count": 27
        }
      ]
    },
    {
      "cell_type": "code",
      "metadata": {
        "id": "KPp78YRE4RKl",
        "colab_type": "code",
        "outputId": "2ff4a105-022c-40fa-92d8-4966773151fc",
        "colab": {
          "base_uri": "https://localhost:8080/",
          "height": 105
        }
      },
      "source": [
        "# Useful function studenti_che_hanno_superato_l_esame\n",
        "my_data['se']"
      ],
      "execution_count": 28,
      "outputs": [
        {
          "output_type": "execute_result",
          "data": {
            "text/plain": [
              "2013    0.6\n",
              "2015    0.8\n",
              "2016    0.4\n",
              "2018    0.9\n",
              "Name: se, dtype: float64"
            ]
          },
          "metadata": {
            "tags": []
          },
          "execution_count": 28
        }
      ]
    },
    {
      "cell_type": "code",
      "metadata": {
        "id": "CCEn-SQI4SkH",
        "colab_type": "code",
        "outputId": "9c3fb568-3c4a-459a-b96f-d0261e8378ac",
        "colab": {
          "base_uri": "https://localhost:8080/",
          "height": 35
        }
      },
      "source": [
        "# Percentuale di studenti_che_hanno_superato_l_esame nel 2013\n",
        "my_data['se']['2013']"
      ],
      "execution_count": 29,
      "outputs": [
        {
          "output_type": "execute_result",
          "data": {
            "text/plain": [
              "0.6"
            ]
          },
          "metadata": {
            "tags": []
          },
          "execution_count": 29
        }
      ]
    },
    {
      "cell_type": "code",
      "metadata": {
        "id": "0zBRG7oS4T1z",
        "colab_type": "code",
        "outputId": "c21c5e87-3792-43f4-ef48-e26c5834627c",
        "colab": {
          "base_uri": "https://localhost:8080/",
          "height": 212
        }
      },
      "source": [
        "# Modifichiamo la percentuale di studenti_che_hanno_superato_l_esame nel 2013\n",
        "my_data['se']['2013']= 0.7\n",
        "my_data['se']"
      ],
      "execution_count": 0,
      "outputs": [
        {
          "output_type": "stream",
          "text": [
            "/usr/local/lib/python3.6/dist-packages/ipykernel_launcher.py:1: SettingWithCopyWarning: \n",
            "A value is trying to be set on a copy of a slice from a DataFrame\n",
            "\n",
            "See the caveats in the documentation: http://pandas.pydata.org/pandas-docs/stable/user_guide/indexing.html#returning-a-view-versus-a-copy\n",
            "  \"\"\"Entry point for launching an IPython kernel.\n"
          ],
          "name": "stderr"
        },
        {
          "output_type": "execute_result",
          "data": {
            "text/plain": [
              "2013    0.7\n",
              "2015    0.8\n",
              "2016    0.4\n",
              "2018    0.9\n",
              "Name: se, dtype: float64"
            ]
          },
          "metadata": {
            "tags": []
          },
          "execution_count": 7
        }
      ]
    },
    {
      "cell_type": "code",
      "metadata": {
        "id": "HEFu_uCF4VQ-",
        "colab_type": "code",
        "colab": {}
      },
      "source": [
        "# Write data \n",
        "my_data.to_csv('dt_studenti.csv')    # To csv\n",
        "#my_data.to_json('dt_studenti.json') # To json\n",
        "#my_data.to_sql('dt_studenti', con)  # To sql"
      ],
      "execution_count": 0,
      "outputs": []
    },
    {
      "cell_type": "code",
      "metadata": {
        "id": "PRl4jGAi4W_i",
        "colab_type": "code",
        "outputId": "f5767d59-1911-4461-f780-b9f7f1d84ded",
        "colab": {
          "base_uri": "https://localhost:8080/",
          "height": 162
        }
      },
      "source": [
        "# Read data\n",
        "my_new_data = pd.read_csv(\"dt_studenti.csv\")\n",
        "my_new_data\n",
        "#CSVs don't have indexes like our DataFrames, so all we need to do is just designate the index_col when reading:"
      ],
      "execution_count": 0,
      "outputs": [
        {
          "output_type": "execute_result",
          "data": {
            "text/html": [
              "<div>\n",
              "<style scoped>\n",
              "    .dataframe tbody tr th:only-of-type {\n",
              "        vertical-align: middle;\n",
              "    }\n",
              "\n",
              "    .dataframe tbody tr th {\n",
              "        vertical-align: top;\n",
              "    }\n",
              "\n",
              "    .dataframe thead th {\n",
              "        text-align: right;\n",
              "    }\n",
              "</style>\n",
              "<table border=\"1\" class=\"dataframe\">\n",
              "  <thead>\n",
              "    <tr style=\"text-align: right;\">\n",
              "      <th></th>\n",
              "      <th>Unnamed: 0</th>\n",
              "      <th>se</th>\n",
              "      <th>pi</th>\n",
              "      <th>nc</th>\n",
              "      <th>bm</th>\n",
              "      <th>bp</th>\n",
              "      <th>as</th>\n",
              "      <th>cf</th>\n",
              "      <th>qc</th>\n",
              "      <th>qcs</th>\n",
              "      <th>qcg</th>\n",
              "      <th>lg</th>\n",
              "      <th>ne</th>\n",
              "      <th>mte</th>\n",
              "    </tr>\n",
              "  </thead>\n",
              "  <tbody>\n",
              "    <tr>\n",
              "      <th>0</th>\n",
              "      <td>2013</td>\n",
              "      <td>0.7</td>\n",
              "      <td>0.6</td>\n",
              "      <td>12</td>\n",
              "      <td>0.4</td>\n",
              "      <td>0.10</td>\n",
              "      <td>0.1</td>\n",
              "      <td>0.78</td>\n",
              "      <td>0.45</td>\n",
              "      <td>0.4</td>\n",
              "      <td>0.78</td>\n",
              "      <td>8</td>\n",
              "      <td>6</td>\n",
              "      <td>0.8</td>\n",
              "    </tr>\n",
              "    <tr>\n",
              "      <th>1</th>\n",
              "      <td>2015</td>\n",
              "      <td>0.8</td>\n",
              "      <td>0.7</td>\n",
              "      <td>26</td>\n",
              "      <td>0.7</td>\n",
              "      <td>0.05</td>\n",
              "      <td>0.3</td>\n",
              "      <td>0.45</td>\n",
              "      <td>1.00</td>\n",
              "      <td>0.8</td>\n",
              "      <td>0.67</td>\n",
              "      <td>6</td>\n",
              "      <td>5</td>\n",
              "      <td>0.9</td>\n",
              "    </tr>\n",
              "    <tr>\n",
              "      <th>2</th>\n",
              "      <td>2016</td>\n",
              "      <td>0.4</td>\n",
              "      <td>0.3</td>\n",
              "      <td>15</td>\n",
              "      <td>0.2</td>\n",
              "      <td>0.20</td>\n",
              "      <td>0.1</td>\n",
              "      <td>0.23</td>\n",
              "      <td>0.93</td>\n",
              "      <td>0.7</td>\n",
              "      <td>0.86</td>\n",
              "      <td>9</td>\n",
              "      <td>5</td>\n",
              "      <td>0.9</td>\n",
              "    </tr>\n",
              "    <tr>\n",
              "      <th>3</th>\n",
              "      <td>2018</td>\n",
              "      <td>0.9</td>\n",
              "      <td>0.9</td>\n",
              "      <td>30</td>\n",
              "      <td>0.9</td>\n",
              "      <td>0.30</td>\n",
              "      <td>0.6</td>\n",
              "      <td>0.80</td>\n",
              "      <td>0.70</td>\n",
              "      <td>0.3</td>\n",
              "      <td>0.90</td>\n",
              "      <td>12</td>\n",
              "      <td>5</td>\n",
              "      <td>1.0</td>\n",
              "    </tr>\n",
              "  </tbody>\n",
              "</table>\n",
              "</div>"
            ],
            "text/plain": [
              "   Unnamed: 0   se   pi  nc   bm    bp   as    cf    qc  qcs   qcg  lg  ne  mte\n",
              "0        2013  0.7  0.6  12  0.4  0.10  0.1  0.78  0.45  0.4  0.78   8   6  0.8\n",
              "1        2015  0.8  0.7  26  0.7  0.05  0.3  0.45  1.00  0.8  0.67   6   5  0.9\n",
              "2        2016  0.4  0.3  15  0.2  0.20  0.1  0.23  0.93  0.7  0.86   9   5  0.9\n",
              "3        2018  0.9  0.9  30  0.9  0.30  0.6  0.80  0.70  0.3  0.90  12   5  1.0"
            ]
          },
          "metadata": {
            "tags": []
          },
          "execution_count": 9
        }
      ]
    },
    {
      "cell_type": "code",
      "metadata": {
        "id": "Oc9VRbQO4Y7n",
        "colab_type": "code",
        "outputId": "607d728b-7fda-462c-886e-01f5cec83d74",
        "colab": {
          "base_uri": "https://localhost:8080/",
          "height": 162
        }
      },
      "source": [
        "my_new_data = pd.read_csv(\"dt_studenti.csv\", index_col=0)\n",
        "my_new_data"
      ],
      "execution_count": 0,
      "outputs": [
        {
          "output_type": "execute_result",
          "data": {
            "text/html": [
              "<div>\n",
              "<style scoped>\n",
              "    .dataframe tbody tr th:only-of-type {\n",
              "        vertical-align: middle;\n",
              "    }\n",
              "\n",
              "    .dataframe tbody tr th {\n",
              "        vertical-align: top;\n",
              "    }\n",
              "\n",
              "    .dataframe thead th {\n",
              "        text-align: right;\n",
              "    }\n",
              "</style>\n",
              "<table border=\"1\" class=\"dataframe\">\n",
              "  <thead>\n",
              "    <tr style=\"text-align: right;\">\n",
              "      <th></th>\n",
              "      <th>se</th>\n",
              "      <th>pi</th>\n",
              "      <th>nc</th>\n",
              "      <th>bm</th>\n",
              "      <th>bp</th>\n",
              "      <th>as</th>\n",
              "      <th>cf</th>\n",
              "      <th>qc</th>\n",
              "      <th>qcs</th>\n",
              "      <th>qcg</th>\n",
              "      <th>lg</th>\n",
              "      <th>ne</th>\n",
              "      <th>mte</th>\n",
              "    </tr>\n",
              "  </thead>\n",
              "  <tbody>\n",
              "    <tr>\n",
              "      <th>2013</th>\n",
              "      <td>0.7</td>\n",
              "      <td>0.6</td>\n",
              "      <td>12</td>\n",
              "      <td>0.4</td>\n",
              "      <td>0.10</td>\n",
              "      <td>0.1</td>\n",
              "      <td>0.78</td>\n",
              "      <td>0.45</td>\n",
              "      <td>0.4</td>\n",
              "      <td>0.78</td>\n",
              "      <td>8</td>\n",
              "      <td>6</td>\n",
              "      <td>0.8</td>\n",
              "    </tr>\n",
              "    <tr>\n",
              "      <th>2015</th>\n",
              "      <td>0.8</td>\n",
              "      <td>0.7</td>\n",
              "      <td>26</td>\n",
              "      <td>0.7</td>\n",
              "      <td>0.05</td>\n",
              "      <td>0.3</td>\n",
              "      <td>0.45</td>\n",
              "      <td>1.00</td>\n",
              "      <td>0.8</td>\n",
              "      <td>0.67</td>\n",
              "      <td>6</td>\n",
              "      <td>5</td>\n",
              "      <td>0.9</td>\n",
              "    </tr>\n",
              "    <tr>\n",
              "      <th>2016</th>\n",
              "      <td>0.4</td>\n",
              "      <td>0.3</td>\n",
              "      <td>15</td>\n",
              "      <td>0.2</td>\n",
              "      <td>0.20</td>\n",
              "      <td>0.1</td>\n",
              "      <td>0.23</td>\n",
              "      <td>0.93</td>\n",
              "      <td>0.7</td>\n",
              "      <td>0.86</td>\n",
              "      <td>9</td>\n",
              "      <td>5</td>\n",
              "      <td>0.9</td>\n",
              "    </tr>\n",
              "    <tr>\n",
              "      <th>2018</th>\n",
              "      <td>0.9</td>\n",
              "      <td>0.9</td>\n",
              "      <td>30</td>\n",
              "      <td>0.9</td>\n",
              "      <td>0.30</td>\n",
              "      <td>0.6</td>\n",
              "      <td>0.80</td>\n",
              "      <td>0.70</td>\n",
              "      <td>0.3</td>\n",
              "      <td>0.90</td>\n",
              "      <td>12</td>\n",
              "      <td>5</td>\n",
              "      <td>1.0</td>\n",
              "    </tr>\n",
              "  </tbody>\n",
              "</table>\n",
              "</div>"
            ],
            "text/plain": [
              "       se   pi  nc   bm    bp   as    cf    qc  qcs   qcg  lg  ne  mte\n",
              "2013  0.7  0.6  12  0.4  0.10  0.1  0.78  0.45  0.4  0.78   8   6  0.8\n",
              "2015  0.8  0.7  26  0.7  0.05  0.3  0.45  1.00  0.8  0.67   6   5  0.9\n",
              "2016  0.4  0.3  15  0.2  0.20  0.1  0.23  0.93  0.7  0.86   9   5  0.9\n",
              "2018  0.9  0.9  30  0.9  0.30  0.6  0.80  0.70  0.3  0.90  12   5  1.0"
            ]
          },
          "metadata": {
            "tags": []
          },
          "execution_count": 10
        }
      ]
    },
    {
      "cell_type": "code",
      "metadata": {
        "id": "CbFdArSG4amn",
        "colab_type": "code",
        "outputId": "c6b54d70-7de4-40d8-e711-e1699e7106e9",
        "colab": {
          "base_uri": "https://localhost:8080/",
          "height": 105
        }
      },
      "source": [
        "# Get last 2 row of the table\n",
        "my_new_data.tail(2)\n",
        "# print n rows\n",
        "n=2\n",
        "my_new_data[:n] "
      ],
      "execution_count": 0,
      "outputs": [
        {
          "output_type": "execute_result",
          "data": {
            "text/html": [
              "<div>\n",
              "<style scoped>\n",
              "    .dataframe tbody tr th:only-of-type {\n",
              "        vertical-align: middle;\n",
              "    }\n",
              "\n",
              "    .dataframe tbody tr th {\n",
              "        vertical-align: top;\n",
              "    }\n",
              "\n",
              "    .dataframe thead th {\n",
              "        text-align: right;\n",
              "    }\n",
              "</style>\n",
              "<table border=\"1\" class=\"dataframe\">\n",
              "  <thead>\n",
              "    <tr style=\"text-align: right;\">\n",
              "      <th></th>\n",
              "      <th>se</th>\n",
              "      <th>pi</th>\n",
              "      <th>nc</th>\n",
              "      <th>bm</th>\n",
              "      <th>bp</th>\n",
              "      <th>as</th>\n",
              "      <th>cf</th>\n",
              "      <th>qc</th>\n",
              "      <th>qcs</th>\n",
              "      <th>qcg</th>\n",
              "      <th>lg</th>\n",
              "      <th>ne</th>\n",
              "      <th>mte</th>\n",
              "    </tr>\n",
              "  </thead>\n",
              "  <tbody>\n",
              "    <tr>\n",
              "      <th>2013</th>\n",
              "      <td>0.7</td>\n",
              "      <td>0.6</td>\n",
              "      <td>12</td>\n",
              "      <td>0.4</td>\n",
              "      <td>0.10</td>\n",
              "      <td>0.1</td>\n",
              "      <td>0.78</td>\n",
              "      <td>0.45</td>\n",
              "      <td>0.4</td>\n",
              "      <td>0.78</td>\n",
              "      <td>8</td>\n",
              "      <td>6</td>\n",
              "      <td>0.8</td>\n",
              "    </tr>\n",
              "    <tr>\n",
              "      <th>2015</th>\n",
              "      <td>0.8</td>\n",
              "      <td>0.7</td>\n",
              "      <td>26</td>\n",
              "      <td>0.7</td>\n",
              "      <td>0.05</td>\n",
              "      <td>0.3</td>\n",
              "      <td>0.45</td>\n",
              "      <td>1.00</td>\n",
              "      <td>0.8</td>\n",
              "      <td>0.67</td>\n",
              "      <td>6</td>\n",
              "      <td>5</td>\n",
              "      <td>0.9</td>\n",
              "    </tr>\n",
              "  </tbody>\n",
              "</table>\n",
              "</div>"
            ],
            "text/plain": [
              "       se   pi  nc   bm    bp   as    cf    qc  qcs   qcg  lg  ne  mte\n",
              "2013  0.7  0.6  12  0.4  0.10  0.1  0.78  0.45  0.4  0.78   8   6  0.8\n",
              "2015  0.8  0.7  26  0.7  0.05  0.3  0.45  1.00  0.8  0.67   6   5  0.9"
            ]
          },
          "metadata": {
            "tags": []
          },
          "execution_count": 11
        }
      ]
    },
    {
      "cell_type": "code",
      "metadata": {
        "id": "epCk86mS4cHY",
        "colab_type": "code",
        "outputId": "26e414a4-339c-45f6-ba78-b33776c7bf0d",
        "colab": {
          "base_uri": "https://localhost:8080/",
          "height": 350
        }
      },
      "source": [
        "my_new_data.info()\n",
        "my_new_data.shape"
      ],
      "execution_count": 0,
      "outputs": [
        {
          "output_type": "stream",
          "text": [
            "<class 'pandas.core.frame.DataFrame'>\n",
            "Int64Index: 4 entries, 2013 to 2018\n",
            "Data columns (total 13 columns):\n",
            "se     4 non-null float64\n",
            "pi     4 non-null float64\n",
            "nc     4 non-null int64\n",
            "bm     4 non-null float64\n",
            "bp     4 non-null float64\n",
            "as     4 non-null float64\n",
            "cf     4 non-null float64\n",
            "qc     4 non-null float64\n",
            "qcs    4 non-null float64\n",
            "qcg    4 non-null float64\n",
            "lg     4 non-null int64\n",
            "ne     4 non-null int64\n",
            "mte    4 non-null float64\n",
            "dtypes: float64(10), int64(3)\n",
            "memory usage: 448.0 bytes\n"
          ],
          "name": "stdout"
        },
        {
          "output_type": "execute_result",
          "data": {
            "text/plain": [
              "(4, 13)"
            ]
          },
          "metadata": {
            "tags": []
          },
          "execution_count": 12
        }
      ]
    },
    {
      "cell_type": "code",
      "metadata": {
        "id": "NfGeDurM4dsF",
        "colab_type": "code",
        "outputId": "cec80dde-056a-4cff-f40e-4b6661bce102",
        "colab": {
          "base_uri": "https://localhost:8080/",
          "height": 277
        }
      },
      "source": [
        "# Using describe() on an entire DataFrame we can get a summary of the distribution of continuous variables:\n",
        "my_new_data.describe()"
      ],
      "execution_count": 0,
      "outputs": [
        {
          "output_type": "execute_result",
          "data": {
            "text/html": [
              "<div>\n",
              "<style scoped>\n",
              "    .dataframe tbody tr th:only-of-type {\n",
              "        vertical-align: middle;\n",
              "    }\n",
              "\n",
              "    .dataframe tbody tr th {\n",
              "        vertical-align: top;\n",
              "    }\n",
              "\n",
              "    .dataframe thead th {\n",
              "        text-align: right;\n",
              "    }\n",
              "</style>\n",
              "<table border=\"1\" class=\"dataframe\">\n",
              "  <thead>\n",
              "    <tr style=\"text-align: right;\">\n",
              "      <th></th>\n",
              "      <th>se</th>\n",
              "      <th>pi</th>\n",
              "      <th>nc</th>\n",
              "      <th>bm</th>\n",
              "      <th>bp</th>\n",
              "      <th>as</th>\n",
              "      <th>cf</th>\n",
              "      <th>qc</th>\n",
              "      <th>qcs</th>\n",
              "      <th>qcg</th>\n",
              "      <th>lg</th>\n",
              "      <th>ne</th>\n",
              "      <th>mte</th>\n",
              "    </tr>\n",
              "  </thead>\n",
              "  <tbody>\n",
              "    <tr>\n",
              "      <th>count</th>\n",
              "      <td>4.000000</td>\n",
              "      <td>4.000</td>\n",
              "      <td>4.000000</td>\n",
              "      <td>4.000000</td>\n",
              "      <td>4.000000</td>\n",
              "      <td>4.000000</td>\n",
              "      <td>4.000000</td>\n",
              "      <td>4.000000</td>\n",
              "      <td>4.000000</td>\n",
              "      <td>4.000000</td>\n",
              "      <td>4.00</td>\n",
              "      <td>4.00</td>\n",
              "      <td>4.00000</td>\n",
              "    </tr>\n",
              "    <tr>\n",
              "      <th>mean</th>\n",
              "      <td>0.700000</td>\n",
              "      <td>0.625</td>\n",
              "      <td>20.750000</td>\n",
              "      <td>0.550000</td>\n",
              "      <td>0.162500</td>\n",
              "      <td>0.275000</td>\n",
              "      <td>0.565000</td>\n",
              "      <td>0.770000</td>\n",
              "      <td>0.550000</td>\n",
              "      <td>0.802500</td>\n",
              "      <td>8.75</td>\n",
              "      <td>5.25</td>\n",
              "      <td>0.90000</td>\n",
              "    </tr>\n",
              "    <tr>\n",
              "      <th>std</th>\n",
              "      <td>0.216025</td>\n",
              "      <td>0.250</td>\n",
              "      <td>8.616844</td>\n",
              "      <td>0.310913</td>\n",
              "      <td>0.110868</td>\n",
              "      <td>0.236291</td>\n",
              "      <td>0.275015</td>\n",
              "      <td>0.248864</td>\n",
              "      <td>0.238048</td>\n",
              "      <td>0.101448</td>\n",
              "      <td>2.50</td>\n",
              "      <td>0.50</td>\n",
              "      <td>0.08165</td>\n",
              "    </tr>\n",
              "    <tr>\n",
              "      <th>min</th>\n",
              "      <td>0.400000</td>\n",
              "      <td>0.300</td>\n",
              "      <td>12.000000</td>\n",
              "      <td>0.200000</td>\n",
              "      <td>0.050000</td>\n",
              "      <td>0.100000</td>\n",
              "      <td>0.230000</td>\n",
              "      <td>0.450000</td>\n",
              "      <td>0.300000</td>\n",
              "      <td>0.670000</td>\n",
              "      <td>6.00</td>\n",
              "      <td>5.00</td>\n",
              "      <td>0.80000</td>\n",
              "    </tr>\n",
              "    <tr>\n",
              "      <th>25%</th>\n",
              "      <td>0.625000</td>\n",
              "      <td>0.525</td>\n",
              "      <td>14.250000</td>\n",
              "      <td>0.350000</td>\n",
              "      <td>0.087500</td>\n",
              "      <td>0.100000</td>\n",
              "      <td>0.395000</td>\n",
              "      <td>0.637500</td>\n",
              "      <td>0.375000</td>\n",
              "      <td>0.752500</td>\n",
              "      <td>7.50</td>\n",
              "      <td>5.00</td>\n",
              "      <td>0.87500</td>\n",
              "    </tr>\n",
              "    <tr>\n",
              "      <th>50%</th>\n",
              "      <td>0.750000</td>\n",
              "      <td>0.650</td>\n",
              "      <td>20.500000</td>\n",
              "      <td>0.550000</td>\n",
              "      <td>0.150000</td>\n",
              "      <td>0.200000</td>\n",
              "      <td>0.615000</td>\n",
              "      <td>0.815000</td>\n",
              "      <td>0.550000</td>\n",
              "      <td>0.820000</td>\n",
              "      <td>8.50</td>\n",
              "      <td>5.00</td>\n",
              "      <td>0.90000</td>\n",
              "    </tr>\n",
              "    <tr>\n",
              "      <th>75%</th>\n",
              "      <td>0.825000</td>\n",
              "      <td>0.750</td>\n",
              "      <td>27.000000</td>\n",
              "      <td>0.750000</td>\n",
              "      <td>0.225000</td>\n",
              "      <td>0.375000</td>\n",
              "      <td>0.785000</td>\n",
              "      <td>0.947500</td>\n",
              "      <td>0.725000</td>\n",
              "      <td>0.870000</td>\n",
              "      <td>9.75</td>\n",
              "      <td>5.25</td>\n",
              "      <td>0.92500</td>\n",
              "    </tr>\n",
              "    <tr>\n",
              "      <th>max</th>\n",
              "      <td>0.900000</td>\n",
              "      <td>0.900</td>\n",
              "      <td>30.000000</td>\n",
              "      <td>0.900000</td>\n",
              "      <td>0.300000</td>\n",
              "      <td>0.600000</td>\n",
              "      <td>0.800000</td>\n",
              "      <td>1.000000</td>\n",
              "      <td>0.800000</td>\n",
              "      <td>0.900000</td>\n",
              "      <td>12.00</td>\n",
              "      <td>6.00</td>\n",
              "      <td>1.00000</td>\n",
              "    </tr>\n",
              "  </tbody>\n",
              "</table>\n",
              "</div>"
            ],
            "text/plain": [
              "             se     pi         nc        bm  ...       qcg     lg    ne      mte\n",
              "count  4.000000  4.000   4.000000  4.000000  ...  4.000000   4.00  4.00  4.00000\n",
              "mean   0.700000  0.625  20.750000  0.550000  ...  0.802500   8.75  5.25  0.90000\n",
              "std    0.216025  0.250   8.616844  0.310913  ...  0.101448   2.50  0.50  0.08165\n",
              "min    0.400000  0.300  12.000000  0.200000  ...  0.670000   6.00  5.00  0.80000\n",
              "25%    0.625000  0.525  14.250000  0.350000  ...  0.752500   7.50  5.00  0.87500\n",
              "50%    0.750000  0.650  20.500000  0.550000  ...  0.820000   8.50  5.00  0.90000\n",
              "75%    0.825000  0.750  27.000000  0.750000  ...  0.870000   9.75  5.25  0.92500\n",
              "max    0.900000  0.900  30.000000  0.900000  ...  0.900000  12.00  6.00  1.00000\n",
              "\n",
              "[8 rows x 13 columns]"
            ]
          },
          "metadata": {
            "tags": []
          },
          "execution_count": 13
        }
      ]
    },
    {
      "cell_type": "code",
      "metadata": {
        "id": "Bc-RmwW-4e0i",
        "colab_type": "code",
        "outputId": "3b01015b-175d-4c42-9679-1ef40658ff8a",
        "colab": {
          "base_uri": "https://localhost:8080/",
          "height": 441
        }
      },
      "source": [
        "# By using the correlation method .corr() we can generate the relationship between each continuous variable:\n",
        "my_new_data.corr()"
      ],
      "execution_count": 0,
      "outputs": [
        {
          "output_type": "execute_result",
          "data": {
            "text/html": [
              "<div>\n",
              "<style scoped>\n",
              "    .dataframe tbody tr th:only-of-type {\n",
              "        vertical-align: middle;\n",
              "    }\n",
              "\n",
              "    .dataframe tbody tr th {\n",
              "        vertical-align: top;\n",
              "    }\n",
              "\n",
              "    .dataframe thead th {\n",
              "        text-align: right;\n",
              "    }\n",
              "</style>\n",
              "<table border=\"1\" class=\"dataframe\">\n",
              "  <thead>\n",
              "    <tr style=\"text-align: right;\">\n",
              "      <th></th>\n",
              "      <th>se</th>\n",
              "      <th>pi</th>\n",
              "      <th>nc</th>\n",
              "      <th>bm</th>\n",
              "      <th>bp</th>\n",
              "      <th>as</th>\n",
              "      <th>cf</th>\n",
              "      <th>qc</th>\n",
              "      <th>qcs</th>\n",
              "      <th>qcg</th>\n",
              "      <th>lg</th>\n",
              "      <th>ne</th>\n",
              "      <th>mte</th>\n",
              "    </tr>\n",
              "  </thead>\n",
              "  <tbody>\n",
              "    <tr>\n",
              "      <th>se</th>\n",
              "      <td>1.000000e+00</td>\n",
              "      <td>0.987541</td>\n",
              "      <td>0.734194</td>\n",
              "      <td>0.942954</td>\n",
              "      <td>0.069589</td>\n",
              "      <td>0.783628</td>\n",
              "      <td>0.763058</td>\n",
              "      <td>-0.241812</td>\n",
              "      <td>-0.453743</td>\n",
              "      <td>-0.167311</td>\n",
              "      <td>0.185164</td>\n",
              "      <td>-1.713111e-16</td>\n",
              "      <td>0.377964</td>\n",
              "    </tr>\n",
              "    <tr>\n",
              "      <th>pi</th>\n",
              "      <td>9.875414e-01</td>\n",
              "      <td>1.000000</td>\n",
              "      <td>0.777547</td>\n",
              "      <td>0.964901</td>\n",
              "      <td>0.225494</td>\n",
              "      <td>0.860522</td>\n",
              "      <td>0.773291</td>\n",
              "      <td>-0.246453</td>\n",
              "      <td>-0.532106</td>\n",
              "      <td>-0.016429</td>\n",
              "      <td>0.333333</td>\n",
              "      <td>-6.666667e-02</td>\n",
              "      <td>0.489898</td>\n",
              "    </tr>\n",
              "    <tr>\n",
              "      <th>nc</th>\n",
              "      <td>7.341943e-01</td>\n",
              "      <td>0.777547</td>\n",
              "      <td>1.000000</td>\n",
              "      <td>0.914491</td>\n",
              "      <td>0.353281</td>\n",
              "      <td>0.929072</td>\n",
              "      <td>0.227168</td>\n",
              "      <td>0.379278</td>\n",
              "      <td>-0.089378</td>\n",
              "      <td>0.027646</td>\n",
              "      <td>0.321077</td>\n",
              "      <td>-6.769687e-01</td>\n",
              "      <td>0.852803</td>\n",
              "    </tr>\n",
              "    <tr>\n",
              "      <th>bm</th>\n",
              "      <td>9.429542e-01</td>\n",
              "      <td>0.964901</td>\n",
              "      <td>0.914491</td>\n",
              "      <td>1.000000</td>\n",
              "      <td>0.265930</td>\n",
              "      <td>0.930138</td>\n",
              "      <td>0.584756</td>\n",
              "      <td>0.008616</td>\n",
              "      <td>-0.360302</td>\n",
              "      <td>-0.026420</td>\n",
              "      <td>0.321634</td>\n",
              "      <td>-3.216338e-01</td>\n",
              "      <td>0.656532</td>\n",
              "    </tr>\n",
              "    <tr>\n",
              "      <th>bp</th>\n",
              "      <td>6.958890e-02</td>\n",
              "      <td>0.225494</td>\n",
              "      <td>0.353281</td>\n",
              "      <td>0.265930</td>\n",
              "      <td>1.000000</td>\n",
              "      <td>0.588489</td>\n",
              "      <td>0.210449</td>\n",
              "      <td>-0.114772</td>\n",
              "      <td>-0.599934</td>\n",
              "      <td>0.944671</td>\n",
              "      <td>0.977140</td>\n",
              "      <td>-3.758230e-01</td>\n",
              "      <td>0.736460</td>\n",
              "    </tr>\n",
              "    <tr>\n",
              "      <th>as</th>\n",
              "      <td>7.836278e-01</td>\n",
              "      <td>0.860522</td>\n",
              "      <td>0.929072</td>\n",
              "      <td>0.930138</td>\n",
              "      <td>0.588489</td>\n",
              "      <td>1.000000</td>\n",
              "      <td>0.484738</td>\n",
              "      <td>0.062354</td>\n",
              "      <td>-0.444457</td>\n",
              "      <td>0.309399</td>\n",
              "      <td>0.606597</td>\n",
              "      <td>-4.937419e-01</td>\n",
              "      <td>0.863868</td>\n",
              "    </tr>\n",
              "    <tr>\n",
              "      <th>cf</th>\n",
              "      <td>7.630582e-01</td>\n",
              "      <td>0.773291</td>\n",
              "      <td>0.227168</td>\n",
              "      <td>0.584756</td>\n",
              "      <td>0.210449</td>\n",
              "      <td>0.484738</td>\n",
              "      <td>1.000000</td>\n",
              "      <td>-0.805068</td>\n",
              "      <td>-0.865580</td>\n",
              "      <td>0.167863</td>\n",
              "      <td>0.404826</td>\n",
              "      <td>5.211834e-01</td>\n",
              "      <td>0.029689</td>\n",
              "    </tr>\n",
              "    <tr>\n",
              "      <th>qc</th>\n",
              "      <td>-2.418119e-01</td>\n",
              "      <td>-0.246453</td>\n",
              "      <td>0.379278</td>\n",
              "      <td>0.008616</td>\n",
              "      <td>-0.114772</td>\n",
              "      <td>0.062354</td>\n",
              "      <td>-0.805068</td>\n",
              "      <td>1.000000</td>\n",
              "      <td>0.827123</td>\n",
              "      <td>-0.275943</td>\n",
              "      <td>-0.310745</td>\n",
              "      <td>-8.572283e-01</td>\n",
              "      <td>0.410112</td>\n",
              "    </tr>\n",
              "    <tr>\n",
              "      <th>qcs</th>\n",
              "      <td>-4.537426e-01</td>\n",
              "      <td>-0.532106</td>\n",
              "      <td>-0.089378</td>\n",
              "      <td>-0.360302</td>\n",
              "      <td>-0.599934</td>\n",
              "      <td>-0.444457</td>\n",
              "      <td>-0.865580</td>\n",
              "      <td>0.827123</td>\n",
              "      <td>1.000000</td>\n",
              "      <td>-0.628034</td>\n",
              "      <td>-0.756151</td>\n",
              "      <td>-4.200840e-01</td>\n",
              "      <td>-0.171499</td>\n",
              "    </tr>\n",
              "    <tr>\n",
              "      <th>qcg</th>\n",
              "      <td>-1.673113e-01</td>\n",
              "      <td>-0.016429</td>\n",
              "      <td>0.027646</td>\n",
              "      <td>-0.026420</td>\n",
              "      <td>0.944671</td>\n",
              "      <td>0.309399</td>\n",
              "      <td>0.167863</td>\n",
              "      <td>-0.275943</td>\n",
              "      <td>-0.628034</td>\n",
              "      <td>1.000000</td>\n",
              "      <td>0.936442</td>\n",
              "      <td>-1.478592e-01</td>\n",
              "      <td>0.482906</td>\n",
              "    </tr>\n",
              "    <tr>\n",
              "      <th>lg</th>\n",
              "      <td>1.851640e-01</td>\n",
              "      <td>0.333333</td>\n",
              "      <td>0.321077</td>\n",
              "      <td>0.321634</td>\n",
              "      <td>0.977140</td>\n",
              "      <td>0.606597</td>\n",
              "      <td>0.404826</td>\n",
              "      <td>-0.310745</td>\n",
              "      <td>-0.756151</td>\n",
              "      <td>0.936442</td>\n",
              "      <td>1.000000</td>\n",
              "      <td>-2.000000e-01</td>\n",
              "      <td>0.653197</td>\n",
              "    </tr>\n",
              "    <tr>\n",
              "      <th>ne</th>\n",
              "      <td>-1.713111e-16</td>\n",
              "      <td>-0.066667</td>\n",
              "      <td>-0.676969</td>\n",
              "      <td>-0.321634</td>\n",
              "      <td>-0.375823</td>\n",
              "      <td>-0.493742</td>\n",
              "      <td>0.521183</td>\n",
              "      <td>-0.857228</td>\n",
              "      <td>-0.420084</td>\n",
              "      <td>-0.147859</td>\n",
              "      <td>-0.200000</td>\n",
              "      <td>1.000000e+00</td>\n",
              "      <td>-0.816497</td>\n",
              "    </tr>\n",
              "    <tr>\n",
              "      <th>mte</th>\n",
              "      <td>3.779645e-01</td>\n",
              "      <td>0.489898</td>\n",
              "      <td>0.852803</td>\n",
              "      <td>0.656532</td>\n",
              "      <td>0.736460</td>\n",
              "      <td>0.863868</td>\n",
              "      <td>0.029689</td>\n",
              "      <td>0.410112</td>\n",
              "      <td>-0.171499</td>\n",
              "      <td>0.482906</td>\n",
              "      <td>0.653197</td>\n",
              "      <td>-8.164966e-01</td>\n",
              "      <td>1.000000</td>\n",
              "    </tr>\n",
              "  </tbody>\n",
              "</table>\n",
              "</div>"
            ],
            "text/plain": [
              "               se        pi        nc  ...        lg            ne       mte\n",
              "se   1.000000e+00  0.987541  0.734194  ...  0.185164 -1.713111e-16  0.377964\n",
              "pi   9.875414e-01  1.000000  0.777547  ...  0.333333 -6.666667e-02  0.489898\n",
              "nc   7.341943e-01  0.777547  1.000000  ...  0.321077 -6.769687e-01  0.852803\n",
              "bm   9.429542e-01  0.964901  0.914491  ...  0.321634 -3.216338e-01  0.656532\n",
              "bp   6.958890e-02  0.225494  0.353281  ...  0.977140 -3.758230e-01  0.736460\n",
              "as   7.836278e-01  0.860522  0.929072  ...  0.606597 -4.937419e-01  0.863868\n",
              "cf   7.630582e-01  0.773291  0.227168  ...  0.404826  5.211834e-01  0.029689\n",
              "qc  -2.418119e-01 -0.246453  0.379278  ... -0.310745 -8.572283e-01  0.410112\n",
              "qcs -4.537426e-01 -0.532106 -0.089378  ... -0.756151 -4.200840e-01 -0.171499\n",
              "qcg -1.673113e-01 -0.016429  0.027646  ...  0.936442 -1.478592e-01  0.482906\n",
              "lg   1.851640e-01  0.333333  0.321077  ...  1.000000 -2.000000e-01  0.653197\n",
              "ne  -1.713111e-16 -0.066667 -0.676969  ... -0.200000  1.000000e+00 -0.816497\n",
              "mte  3.779645e-01  0.489898  0.852803  ...  0.653197 -8.164966e-01  1.000000\n",
              "\n",
              "[13 rows x 13 columns]"
            ]
          },
          "metadata": {
            "tags": []
          },
          "execution_count": 14
        }
      ]
    },
    {
      "cell_type": "code",
      "metadata": {
        "id": "EresUhqA4h4S",
        "colab_type": "code",
        "outputId": "d9363585-2eb5-4404-c0f8-e871097c4475",
        "colab": {
          "base_uri": "https://localhost:8080/",
          "height": 607
        }
      },
      "source": [
        "# Plot data\n",
        "import matplotlib.pyplot as plt\n",
        "fig, axes = plt.subplots(nrows=3, ncols=1, figsize=(10,10))\n",
        "my_new_data.plot(ax=axes[0],kind='scatter', x='se', y='cf', title='studenti_che_hanno_superato_l_esame vs compiti_fatti');\n",
        "my_new_data.plot(ax=axes[1],kind='box',x='se', y='cf')\n",
        "my_new_data['lg'].plot(ax=axes[2], kind='hist', title='lavoro_di_gruppo');"
      ],
      "execution_count": 0,
      "outputs": [
        {
          "output_type": "display_data",
          "data": {
            "image/png": "[encoded data removed]",
            "text/plain": [
              "<Figure size 720x720 with 3 Axes>"
            ]
          },
          "metadata": {
            "tags": []
          }
        }
      ]
    },
    {
      "cell_type": "markdown",
      "metadata": {
        "id": "kd9GL72Y43g-",
        "colab_type": "text"
      },
      "source": [
        "## Normalizazzione\n",
        "Ê necesserio effuttuare una normalizzazzione per avere i dati tutti sulla medesima scale 0-1. Questo approccio è definito con il nome di [\"feature_scaling\"](https://en.wikipedia.org/wiki/Feature_scaling) ed è fondamentale utilizzarlo nel preprocessamento dei dati. Nel caso non venisso utilizzato si corre il rischio che l'algoritmo di machine learning fornisca un risultato non bilanciato. In poche parole se tutti i dati hanno range 0-1 è un dato nel range 0-10000, sarà molto probabile che l'algorithmo sia molto influenzato da quest'ultimo. Se pensiamo al gradient descent come algorithmo di ottimizzazione vediamo che l'errore che esso calcola è quello quadratico medio e pertanto sarà molto alto nel caso dell'ultimo dato e molto meno negli altri. \n",
        "\n",
        "### Conclusione\n",
        "È necessario normalizzare tuti i dati nel range 0-1."
      ]
    },
    {
      "cell_type": "code",
      "metadata": {
        "id": "bK9fgcD14sY0",
        "colab_type": "code",
        "outputId": "bc65e6f3-9f68-4c1a-e75f-74133f6667cd",
        "colab": {
          "base_uri": "https://localhost:8080/",
          "height": 162
        }
      },
      "source": [
        "# lg = lavor_di_gruppo numero di ore\n",
        "# ne = numero_di_esercitazioni\n",
        "new_data = my_new_data[['nc','lg','ne']]\n",
        "new_data"
      ],
      "execution_count": 0,
      "outputs": [
        {
          "output_type": "execute_result",
          "data": {
            "text/html": [
              "<div>\n",
              "<style scoped>\n",
              "    .dataframe tbody tr th:only-of-type {\n",
              "        vertical-align: middle;\n",
              "    }\n",
              "\n",
              "    .dataframe tbody tr th {\n",
              "        vertical-align: top;\n",
              "    }\n",
              "\n",
              "    .dataframe thead th {\n",
              "        text-align: right;\n",
              "    }\n",
              "</style>\n",
              "<table border=\"1\" class=\"dataframe\">\n",
              "  <thead>\n",
              "    <tr style=\"text-align: right;\">\n",
              "      <th></th>\n",
              "      <th>nc</th>\n",
              "      <th>lg</th>\n",
              "      <th>ne</th>\n",
              "    </tr>\n",
              "  </thead>\n",
              "  <tbody>\n",
              "    <tr>\n",
              "      <th>2013</th>\n",
              "      <td>12</td>\n",
              "      <td>8</td>\n",
              "      <td>6</td>\n",
              "    </tr>\n",
              "    <tr>\n",
              "      <th>2015</th>\n",
              "      <td>26</td>\n",
              "      <td>6</td>\n",
              "      <td>5</td>\n",
              "    </tr>\n",
              "    <tr>\n",
              "      <th>2016</th>\n",
              "      <td>15</td>\n",
              "      <td>9</td>\n",
              "      <td>5</td>\n",
              "    </tr>\n",
              "    <tr>\n",
              "      <th>2018</th>\n",
              "      <td>30</td>\n",
              "      <td>12</td>\n",
              "      <td>5</td>\n",
              "    </tr>\n",
              "  </tbody>\n",
              "</table>\n",
              "</div>"
            ],
            "text/plain": [
              "      nc  lg  ne\n",
              "2013  12   8   6\n",
              "2015  26   6   5\n",
              "2016  15   9   5\n",
              "2018  30  12   5"
            ]
          },
          "metadata": {
            "tags": []
          },
          "execution_count": 16
        }
      ]
    },
    {
      "cell_type": "markdown",
      "metadata": {
        "id": "KHVa7U2V6Zmu",
        "colab_type": "text"
      },
      "source": [
        "La normalizzazzione deve avvenire in modo coerente. È molto importante calcolarsi il minimo e il massimo dei dati che vogliamo normalizzare. Nel caso per esempio di dato che rappresenti le ore, esse sono definite nel range 0-24, pertanto avremo minimo=0 e massimo=24. Quindi useremo questa scala per normalizzare.\n",
        "\n",
        "### Errore Normalizzazzione\n",
        "La scelta del minimo e del massimo non è corretta"
      ]
    },
    {
      "cell_type": "code",
      "metadata": {
        "id": "EPPPF7nt4uUF",
        "colab_type": "code",
        "outputId": "ddd2baa5-a0a0-42c9-bc2d-f6032056ffff",
        "colab": {
          "base_uri": "https://localhost:8080/",
          "height": 287
        }
      },
      "source": [
        "# Normalize one single column (from 0 to max value)\n",
        "new_data = my_new_data[['nc','lg','ne']]\n",
        "range_val = 1 # significa da 0 a 1\n",
        "min_value = new_data[\"nc\"].min()\n",
        "max_value = new_data[\"nc\"].max()\n",
        "new_data[\"nc\"]=((new_data[\"nc\"]-min_value)/(max_value-min_value))*range_val\n",
        "new_data"
      ],
      "execution_count": 0,
      "outputs": [
        {
          "output_type": "stream",
          "text": [
            "/usr/local/lib/python3.6/dist-packages/ipykernel_launcher.py:5: SettingWithCopyWarning: \n",
            "A value is trying to be set on a copy of a slice from a DataFrame.\n",
            "Try using .loc[row_indexer,col_indexer] = value instead\n",
            "\n",
            "See the caveats in the documentation: http://pandas.pydata.org/pandas-docs/stable/user_guide/indexing.html#returning-a-view-versus-a-copy\n",
            "  \"\"\"\n"
          ],
          "name": "stderr"
        },
        {
          "output_type": "execute_result",
          "data": {
            "text/html": [
              "<div>\n",
              "<style scoped>\n",
              "    .dataframe tbody tr th:only-of-type {\n",
              "        vertical-align: middle;\n",
              "    }\n",
              "\n",
              "    .dataframe tbody tr th {\n",
              "        vertical-align: top;\n",
              "    }\n",
              "\n",
              "    .dataframe thead th {\n",
              "        text-align: right;\n",
              "    }\n",
              "</style>\n",
              "<table border=\"1\" class=\"dataframe\">\n",
              "  <thead>\n",
              "    <tr style=\"text-align: right;\">\n",
              "      <th></th>\n",
              "      <th>nc</th>\n",
              "      <th>lg</th>\n",
              "      <th>ne</th>\n",
              "    </tr>\n",
              "  </thead>\n",
              "  <tbody>\n",
              "    <tr>\n",
              "      <th>2013</th>\n",
              "      <td>0.000000</td>\n",
              "      <td>8</td>\n",
              "      <td>6</td>\n",
              "    </tr>\n",
              "    <tr>\n",
              "      <th>2015</th>\n",
              "      <td>0.777778</td>\n",
              "      <td>6</td>\n",
              "      <td>5</td>\n",
              "    </tr>\n",
              "    <tr>\n",
              "      <th>2016</th>\n",
              "      <td>0.166667</td>\n",
              "      <td>9</td>\n",
              "      <td>5</td>\n",
              "    </tr>\n",
              "    <tr>\n",
              "      <th>2018</th>\n",
              "      <td>1.000000</td>\n",
              "      <td>12</td>\n",
              "      <td>5</td>\n",
              "    </tr>\n",
              "  </tbody>\n",
              "</table>\n",
              "</div>"
            ],
            "text/plain": [
              "            nc  lg  ne\n",
              "2013  0.000000   8   6\n",
              "2015  0.777778   6   5\n",
              "2016  0.166667   9   5\n",
              "2018  1.000000  12   5"
            ]
          },
          "metadata": {
            "tags": []
          },
          "execution_count": 17
        }
      ]
    },
    {
      "cell_type": "markdown",
      "metadata": {
        "id": "iqLgReaV7MHz",
        "colab_type": "text"
      },
      "source": [
        "### Corretta Normalizzazione"
      ]
    },
    {
      "cell_type": "code",
      "metadata": {
        "id": "-MZ7MFNK4wEN",
        "colab_type": "code",
        "outputId": "8ca4921e-09cf-4430-e49d-603581ef0ad2",
        "colab": {
          "base_uri": "https://localhost:8080/",
          "height": 287
        }
      },
      "source": [
        "# nc = numero_di_ore_del_corso le ore vanno da 0 30\n",
        "# Normalize one single column (from 0 to max value)\n",
        "new_data = my_new_data[['nc','lg','ne']]\n",
        "range_val = 1 # significa da 0 a 1\n",
        "min_value = 0 # numero minimo di ore 0\n",
        "max_value = 30 # numero massimo di ore\n",
        "new_data[\"nc\"]=((new_data[\"nc\"]-min_value)/(max_value-min_value))*range_val\n",
        "new_data"
      ],
      "execution_count": 0,
      "outputs": [
        {
          "output_type": "stream",
          "text": [
            "/usr/local/lib/python3.6/dist-packages/ipykernel_launcher.py:5: SettingWithCopyWarning: \n",
            "A value is trying to be set on a copy of a slice from a DataFrame.\n",
            "Try using .loc[row_indexer,col_indexer] = value instead\n",
            "\n",
            "See the caveats in the documentation: http://pandas.pydata.org/pandas-docs/stable/user_guide/indexing.html#returning-a-view-versus-a-copy\n",
            "  \"\"\"\n"
          ],
          "name": "stderr"
        },
        {
          "output_type": "execute_result",
          "data": {
            "text/html": [
              "<div>\n",
              "<style scoped>\n",
              "    .dataframe tbody tr th:only-of-type {\n",
              "        vertical-align: middle;\n",
              "    }\n",
              "\n",
              "    .dataframe tbody tr th {\n",
              "        vertical-align: top;\n",
              "    }\n",
              "\n",
              "    .dataframe thead th {\n",
              "        text-align: right;\n",
              "    }\n",
              "</style>\n",
              "<table border=\"1\" class=\"dataframe\">\n",
              "  <thead>\n",
              "    <tr style=\"text-align: right;\">\n",
              "      <th></th>\n",
              "      <th>nc</th>\n",
              "      <th>lg</th>\n",
              "      <th>ne</th>\n",
              "    </tr>\n",
              "  </thead>\n",
              "  <tbody>\n",
              "    <tr>\n",
              "      <th>2013</th>\n",
              "      <td>0.400000</td>\n",
              "      <td>8</td>\n",
              "      <td>6</td>\n",
              "    </tr>\n",
              "    <tr>\n",
              "      <th>2015</th>\n",
              "      <td>0.866667</td>\n",
              "      <td>6</td>\n",
              "      <td>5</td>\n",
              "    </tr>\n",
              "    <tr>\n",
              "      <th>2016</th>\n",
              "      <td>0.500000</td>\n",
              "      <td>9</td>\n",
              "      <td>5</td>\n",
              "    </tr>\n",
              "    <tr>\n",
              "      <th>2018</th>\n",
              "      <td>1.000000</td>\n",
              "      <td>12</td>\n",
              "      <td>5</td>\n",
              "    </tr>\n",
              "  </tbody>\n",
              "</table>\n",
              "</div>"
            ],
            "text/plain": [
              "            nc  lg  ne\n",
              "2013  0.400000   8   6\n",
              "2015  0.866667   6   5\n",
              "2016  0.500000   9   5\n",
              "2018  1.000000  12   5"
            ]
          },
          "metadata": {
            "tags": []
          },
          "execution_count": 18
        }
      ]
    },
    {
      "cell_type": "code",
      "metadata": {
        "id": "tYKdJgSj4yFH",
        "colab_type": "code",
        "outputId": "715935e3-7abe-4fc9-cfe7-67182e7f12c3",
        "colab": {
          "base_uri": "https://localhost:8080/",
          "height": 162
        }
      },
      "source": [
        "def normalize(dataset):\n",
        "    range_val =1 # da zero a 1\n",
        "    max_value = dataset.max() # numero massimo di ore\n",
        "    min_value = 0 # numero minimo di ore\n",
        "    dataNorm=((dataset-min_value)/(max_value-min_value))*range_val\n",
        "    return dataNorm\n",
        "normalize_dataset = normalize(my_new_data)\n",
        "normalize_dataset"
      ],
      "execution_count": 0,
      "outputs": [
        {
          "output_type": "execute_result",
          "data": {
            "text/html": [
              "<div>\n",
              "<style scoped>\n",
              "    .dataframe tbody tr th:only-of-type {\n",
              "        vertical-align: middle;\n",
              "    }\n",
              "\n",
              "    .dataframe tbody tr th {\n",
              "        vertical-align: top;\n",
              "    }\n",
              "\n",
              "    .dataframe thead th {\n",
              "        text-align: right;\n",
              "    }\n",
              "</style>\n",
              "<table border=\"1\" class=\"dataframe\">\n",
              "  <thead>\n",
              "    <tr style=\"text-align: right;\">\n",
              "      <th></th>\n",
              "      <th>se</th>\n",
              "      <th>pi</th>\n",
              "      <th>nc</th>\n",
              "      <th>bm</th>\n",
              "      <th>bp</th>\n",
              "      <th>as</th>\n",
              "      <th>cf</th>\n",
              "      <th>qc</th>\n",
              "      <th>qcs</th>\n",
              "      <th>qcg</th>\n",
              "      <th>lg</th>\n",
              "      <th>ne</th>\n",
              "      <th>mte</th>\n",
              "    </tr>\n",
              "  </thead>\n",
              "  <tbody>\n",
              "    <tr>\n",
              "      <th>2013</th>\n",
              "      <td>0.777778</td>\n",
              "      <td>0.666667</td>\n",
              "      <td>0.400000</td>\n",
              "      <td>0.444444</td>\n",
              "      <td>0.333333</td>\n",
              "      <td>0.166667</td>\n",
              "      <td>0.9750</td>\n",
              "      <td>0.45</td>\n",
              "      <td>0.500</td>\n",
              "      <td>0.866667</td>\n",
              "      <td>0.666667</td>\n",
              "      <td>1.000000</td>\n",
              "      <td>0.8</td>\n",
              "    </tr>\n",
              "    <tr>\n",
              "      <th>2015</th>\n",
              "      <td>0.888889</td>\n",
              "      <td>0.777778</td>\n",
              "      <td>0.866667</td>\n",
              "      <td>0.777778</td>\n",
              "      <td>0.166667</td>\n",
              "      <td>0.500000</td>\n",
              "      <td>0.5625</td>\n",
              "      <td>1.00</td>\n",
              "      <td>1.000</td>\n",
              "      <td>0.744444</td>\n",
              "      <td>0.500000</td>\n",
              "      <td>0.833333</td>\n",
              "      <td>0.9</td>\n",
              "    </tr>\n",
              "    <tr>\n",
              "      <th>2016</th>\n",
              "      <td>0.444444</td>\n",
              "      <td>0.333333</td>\n",
              "      <td>0.500000</td>\n",
              "      <td>0.222222</td>\n",
              "      <td>0.666667</td>\n",
              "      <td>0.166667</td>\n",
              "      <td>0.2875</td>\n",
              "      <td>0.93</td>\n",
              "      <td>0.875</td>\n",
              "      <td>0.955556</td>\n",
              "      <td>0.750000</td>\n",
              "      <td>0.833333</td>\n",
              "      <td>0.9</td>\n",
              "    </tr>\n",
              "    <tr>\n",
              "      <th>2018</th>\n",
              "      <td>1.000000</td>\n",
              "      <td>1.000000</td>\n",
              "      <td>1.000000</td>\n",
              "      <td>1.000000</td>\n",
              "      <td>1.000000</td>\n",
              "      <td>1.000000</td>\n",
              "      <td>1.0000</td>\n",
              "      <td>0.70</td>\n",
              "      <td>0.375</td>\n",
              "      <td>1.000000</td>\n",
              "      <td>1.000000</td>\n",
              "      <td>0.833333</td>\n",
              "      <td>1.0</td>\n",
              "    </tr>\n",
              "  </tbody>\n",
              "</table>\n",
              "</div>"
            ],
            "text/plain": [
              "            se        pi        nc        bm  ...       qcg        lg        ne  mte\n",
              "2013  0.777778  0.666667  0.400000  0.444444  ...  0.866667  0.666667  1.000000  0.8\n",
              "2015  0.888889  0.777778  0.866667  0.777778  ...  0.744444  0.500000  0.833333  0.9\n",
              "2016  0.444444  0.333333  0.500000  0.222222  ...  0.955556  0.750000  0.833333  0.9\n",
              "2018  1.000000  1.000000  1.000000  1.000000  ...  1.000000  1.000000  0.833333  1.0\n",
              "\n",
              "[4 rows x 13 columns]"
            ]
          },
          "metadata": {
            "tags": []
          },
          "execution_count": 19
        }
      ]
    },
    {
      "cell_type": "markdown",
      "metadata": {
        "id": "4CBKsJM47rGp",
        "colab_type": "text"
      },
      "source": [
        "## Approfondiamo la visualizzazione dei dati\n",
        "Andremo a vedere  i seguenti tipi di grafici.\n",
        "* Histogram : Ci aiterà a capire come i dati sono distribuiti. L'asse delle x rappresenta le osservazioni che nel nostro caso saranno 4 (i 4 anni). Mentre sull'asse delle y avremo il valore dei dati.\n",
        "*\n"
      ]
    },
    {
      "cell_type": "markdown",
      "metadata": {
        "id": "I9X4H4kA8jcD",
        "colab_type": "text"
      },
      "source": [
        "### Histogram\n",
        "\n",
        "[Histogram Explaination](https://www.datacamp.com/community/tutorials/histograms-matplotlib)\n",
        "\n",
        "L'istogramma ci aiuterà a capire come i dati sono distribuiti rispetto al numero di campioni.  L'istogramma definisce il numero di volte che un dato appare. Non è molto utile visualizzare l'istogramma di tutte le feature in quanto anche se sono ordinata con la medesima scala i dati rappresentano cose diverse. L'Istogramma è molto utili quando il numero di dati è molto elevato per avere un rapido valore di come essi si distribuiscono. Per esempio se abbiamo aumentiamo il nostro dataset fino a 100 anni. Sarà molto interessante vedere l'istogramma di questi tre parametri:\n",
        "\n",
        "* nc (numero di ore del corso) \n",
        "* lg ( numero di ore di lavoro di gruppo in classe)\n",
        "* ne (numero di esercitazioni svolte in classe)\n",
        "\n"
      ]
    },
    {
      "cell_type": "code",
      "metadata": {
        "id": "zlUK7e4d4zhV",
        "colab_type": "code",
        "outputId": "2485ec91-3db6-4c86-b574-6836638a143a",
        "colab": {
          "base_uri": "https://localhost:8080/",
          "height": 863
        }
      },
      "source": [
        "# Histogram Plot\n",
        "plt.rcParams['figure.figsize'] = [15, 15]\n",
        "normalize_dataset.plot(kind='hist', subplots=False, layout=(4,4))\n",
        "#normalize_dataset.plot.hist(bins=12,alpha=0.3)\n",
        "plt.show()"
      ],
      "execution_count": 0,
      "outputs": [
        {
          "output_type": "display_data",
          "data": {
            "image/png": "[encoded data removed]",
            "text/plain": [
              "<Figure size 1080x1080 with 1 Axes>"
            ]
          },
          "metadata": {
            "tags": []
          }
        }
      ]
    },
    {
      "cell_type": "code",
      "metadata": {
        "id": "FitbgY_g41Af",
        "colab_type": "code",
        "outputId": "a66fd4d9-99f1-424e-d8b1-2d86a54bc867",
        "colab": {
          "base_uri": "https://localhost:8080/",
          "height": 593
        }
      },
      "source": [
        "# Density plots\n",
        "plt.rcParams['figure.figsize'] = [13, 10]\n",
        "normalize_dataset.plot(kind='density', subplots=False, layout=(4,4), sharex=False)\n",
        "plt.show()"
      ],
      "execution_count": 0,
      "outputs": [
        {
          "output_type": "display_data",
          "data": {
            "image/png": "[encoded data removed]",
            "text/plain": [
              "<Figure size 936x720 with 1 Axes>"
            ]
          },
          "metadata": {
            "tags": []
          }
        }
      ]
    },
    {
      "cell_type": "code",
      "metadata": {
        "id": "IN6LoN_C42Tq",
        "colab_type": "code",
        "outputId": "4eaadf2c-b61a-409b-f564-20a3a3062d28",
        "colab": {
          "base_uri": "https://localhost:8080/",
          "height": 592
        }
      },
      "source": [
        "# Box and Whisker Plots\n",
        "normalize_dataset.plot(kind='box', subplots=False, layout=(4,4), sharex=False, sharey=False)\n",
        "plt.show()"
      ],
      "execution_count": 0,
      "outputs": [
        {
          "output_type": "display_data",
          "data": {
            "image/png": "[encoded data removed]",
            "text/plain": [
              "<Figure size 936x720 with 1 Axes>"
            ]
          },
          "metadata": {
            "tags": []
          }
        }
      ]
    },
    {
      "cell_type": "code",
      "metadata": {
        "id": "lWWJCQmd44KL",
        "colab_type": "code",
        "outputId": "884e906b-0a25-44dc-ba91-5d5b0efdf10a",
        "colab": {
          "base_uri": "https://localhost:8080/",
          "height": 595
        }
      },
      "source": [
        "import numpy as np\n",
        "correlations = normalize_dataset.corr()\n",
        "# plot correlation matrix\n",
        "fig = plt.figure()\n",
        "ax = fig.add_subplot(111)\n",
        "cax = ax.matshow(correlations, vmin=-1, vmax=1)\n",
        "fig.colorbar(cax)\n",
        "ticks = np.arange(0,len(normalize_dataset.keys()),1)\n",
        "ax.set_xticks(ticks)\n",
        "ax.set_yticks(ticks)\n",
        "ax.set_xticklabels(normalize_dataset.keys())\n",
        "ax.set_yticklabels(normalize_dataset.keys())\n",
        "plt.show()"
      ],
      "execution_count": 0,
      "outputs": [
        {
          "output_type": "display_data",
          "data": {
            "image/png": "[encoded data removed]",
            "text/plain": [
              "<Figure size 936x720 with 2 Axes>"
            ]
          },
          "metadata": {
            "tags": []
          }
        }
      ]
    },
    {
      "cell_type": "code",
      "metadata": {
        "id": "e6IrmbTI5Bgw",
        "colab_type": "code",
        "outputId": "00b61406-3f01-4f75-f497-54d1e7b0a4a7",
        "colab": {
          "base_uri": "https://localhost:8080/",
          "height": 882
        }
      },
      "source": [
        "# Scatter plot#\n",
        "plt.rcParams['figure.figsize'] = [15, 15] \n",
        "from pandas.plotting import scatter_matrix\n",
        "scatter_matrix(normalize_dataset)\n",
        "plt.show()"
      ],
      "execution_count": 0,
      "outputs": [
        {
          "output_type": "display_data",
          "data": {
            "image/png": "[encoded data removed]",
            "text/plain": [
              "<Figure size 1080x1080 with 169 Axes>"
            ]
          },
          "metadata": {
            "tags": []
          }
        }
      ]
    },
    {
      "cell_type": "markdown",
      "metadata": {
        "id": "GV2TA67L5Hjq",
        "colab_type": "text"
      },
      "source": [
        "Di seguito vi sono alcuni link utili per approfondire:\n",
        "* [pandas for beginners tutorial](https://www.learndatasci.com/tutorials/python-pandas-tutorial-complete-introduction-for-beginners/)\n",
        "* [Plot Tutorial Matplotlib](https://matplotlib.org/3.1.1/api/_as_gen/matplotlib.pyplot.subplot.html)\n",
        "* [Normalize pandas dataframe](https://www.kaggle.com/parasjindal96/how-to-normalize-dataframe-pandas)\n"
      ]
    }
  ]
}