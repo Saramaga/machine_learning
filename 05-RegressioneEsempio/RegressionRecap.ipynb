{
  "nbformat": 4,
  "nbformat_minor": 0,
  "metadata": {
    "colab": {
      "name": "RegressionRecap.ipynb",
      "provenance": [],
      "collapsed_sections": [],
      "toc_visible": true,
      "include_colab_link": true
    },
    "kernelspec": {
      "name": "python3",
      "display_name": "Python 3"
    }
  },
  "cells": [
    {
      "cell_type": "markdown",
      "metadata": {
        "id": "view-in-github",
        "colab_type": "text"
      },
      "source": [
        "<a href=\"https://colab.research.google.com/github/visiont3lab/machine_learning/blob/master/05-RegressioneEsempio/RegressionRecap.ipynb\" target=\"_parent\"><img src=\"https://colab.research.google.com/assets/colab-badge.svg\" alt=\"Open In Colab\"/></a>"
      ]
    },
    {
      "cell_type": "markdown",
      "metadata": {
        "id": "6JRbw_XGAm3i",
        "colab_type": "text"
      },
      "source": [
        "# Cosa facciamo oggi? \n",
        "<center><h1> Ripasso Regressione  usando il California Housing Dataset! </h1></center>\n",
        "\n",
        "* Regression Lineare\n",
        "* Regressione polinomiale\n",
        "* Decision Tree "
      ]
    },
    {
      "cell_type": "markdown",
      "metadata": {
        "id": "fJ_ZgUAKCj5e",
        "colab_type": "text"
      },
      "source": [
        "# Dove troviamo i dataset? \n",
        "L'obbiettivo di oggi è quello di applicare gli algoritmi studiati sia di Regressione che di Classificazione a dei dataset un po' più corposi. L'idea è quella di cominciare ad affrontare problemi il più possibile vicini alla realtà. Per face ciò ci servono due dataset uno di regressione e uno di classificazione.\n",
        "<center><h3> Dove troviamo i datasets? </h3></center>\n",
        "\n",
        "* [Scikit-Learn Toy datasets](https://scikit-learn.org/stable/datasets/index.html#toy-datasets) \n",
        "* [Scikit-Learn Real World Dataset](https://scikit-learn.org/stable/datasets/index.html#real-world-datasets)\n",
        "* [Altri dataset importabili usando Scikit-Learn](https://scikit-learn.org/stable/datasets/index.html#loading-other-datasets)\n",
        "  * [OpenML Dataset](https://www.openml.org/search?type=data)\n",
        "  * [LIBSVM Regression Dataset](https://www.csie.ntu.edu.tw/~cjlin/libsvmtools/datasets/)\n",
        "\n",
        "[Datasets Scikit Learn Main Page](https://scikit-learn.org/stable/datasets/index.html)"
      ]
    },
    {
      "cell_type": "markdown",
      "metadata": {
        "id": "TcIEUbc8Ippc",
        "colab_type": "text"
      },
      "source": [
        "* Classificazione: The Labeled Faces in the Wild face recognition dataset ([esempio](https://scikit-learn.org/stable/auto_examples/applications/plot_face_recognition.html#sphx-glr-auto-examples-applications-plot-face-recognition-py))\n",
        "* Regressione:  California Housing dataset ([esempio](https://scikit-learn.org/stable/auto_examples/inspection/plot_partial_dependence.html#sphx-glr-auto-examples-inspection-plot-partial-dependence-py))\n"
      ]
    },
    {
      "cell_type": "markdown",
      "metadata": {
        "id": "F8rpBBWHJ3wR",
        "colab_type": "text"
      },
      "source": [
        "## Regressione: California Housing dataset\n",
        "\n",
        "\n"
      ]
    },
    {
      "cell_type": "markdown",
      "metadata": {
        "id": "356XIeRaqTLJ",
        "colab_type": "text"
      },
      "source": [
        "### 0) Raccolta Informazioni e Link utili\n",
        "* [Esempio Utile Regressione](https://scikit-learn.org/stable/auto_examples/inspection/plot_partial_dependence.html#sphx-glr-auto-examples-inspection-plot-partial-dependence-py)\n",
        "* [Stesso dataset leggermente aggiornato Kaggle](https://www.kaggle.com/camnugent/california-housing-prices)\n",
        "* [Spiegazione dataset](https://scikit-learn.org/stable/datasets/index.html#real-world-datasets)"
      ]
    },
    {
      "cell_type": "markdown",
      "metadata": {
        "id": "N9MowU_vVBMO",
        "colab_type": "text"
      },
      "source": [
        "### 1) Comprensione del dataset\n",
        "\n",
        "\n"
      ]
    },
    {
      "cell_type": "code",
      "metadata": {
        "id": "oISAaWiRJmCZ",
        "colab_type": "code",
        "outputId": "f84af5d7-eebd-4f40-d807-de912be3ef62",
        "colab": {
          "base_uri": "https://localhost:8080/",
          "height": 709
        }
      },
      "source": [
        "from sklearn.datasets import fetch_california_housing\n",
        "from sklearn.model_selection import train_test_split\n",
        "import pandas as pd\n",
        "\n",
        "# Download dataset \n",
        "cal_housing = fetch_california_housing()\n",
        "\n",
        "print(cal_housing.keys())\n",
        "print(cal_housing.DESCR)"
      ],
      "execution_count": 62,
      "outputs": [
        {
          "output_type": "stream",
          "text": [
            "dict_keys(['data', 'target', 'feature_names', 'DESCR'])\n",
            ".. _california_housing_dataset:\n",
            "\n",
            "California Housing dataset\n",
            "--------------------------\n",
            "\n",
            "**Data Set Characteristics:**\n",
            "\n",
            "    :Number of Instances: 20640\n",
            "\n",
            "    :Number of Attributes: 8 numeric, predictive attributes and the target\n",
            "\n",
            "    :Attribute Information:\n",
            "        - MedInc        median income in block\n",
            "        - HouseAge      median house age in block\n",
            "        - AveRooms      average number of rooms\n",
            "        - AveBedrms     average number of bedrooms\n",
            "        - Population    block population\n",
            "        - AveOccup      average house occupancy\n",
            "        - Latitude      house block latitude\n",
            "        - Longitude     house block longitude\n",
            "\n",
            "    :Missing Attribute Values: None\n",
            "\n",
            "This dataset was obtained from the StatLib repository.\n",
            "http://lib.stat.cmu.edu/datasets/\n",
            "\n",
            "The target variable is the median house value for California districts.\n",
            "\n",
            "This dataset was derived from the 1990 U.S. census, using one row per census\n",
            "block group. A block group is the smallest geographical unit for which the U.S.\n",
            "Census Bureau publishes sample data (a block group typically has a population\n",
            "of 600 to 3,000 people).\n",
            "\n",
            "It can be downloaded/loaded using the\n",
            ":func:`sklearn.datasets.fetch_california_housing` function.\n",
            "\n",
            ".. topic:: References\n",
            "\n",
            "    - Pace, R. Kelley and Ronald Barry, Sparse Spatial Autoregressions,\n",
            "      Statistics and Probability Letters, 33 (1997) 291-297\n",
            "\n"
          ],
          "name": "stdout"
        }
      ]
    },
    {
      "cell_type": "markdown",
      "metadata": {
        "id": "c01f7lQqUa4R",
        "colab_type": "text"
      },
      "source": [
        "\n",
        "* Obbiettivo: Stimare qual'è il valore medio delle case in California.\n",
        "* Dati: Input o Attribute Information:\n",
        "    * MedInc:        media degli stipendi (annuale) delle persone che vivono nel quartiere in dollari per casa (unità di misura: decine di migliaia di dollari of US Dollars esempio: 8.3252 = 83252 dollari). Date N case in un quartiere, per ogni casa mi calcolo lo stipendio medio annuale e faccio la media.\n",
        "    * HouseAge:      media dell'età delle persone che vivono nella casa. Un numero basso significa che l'edificio è nuovo. \n",
        "    * AveRooms:      numero medio camere per casa\n",
        "    * AveBedrms:     numero medio di camere da letto per casa\n",
        "    * Population:    numero di persone medio che vivono nel quartiere (block)\n",
        "    * AveOccup:      numero mddio di persone che vivono in ogni casa \n",
        "    * Latitude:      latitudine della casa.Una misura che mi dice quanto una casa è a nord\n",
        "    * Longitude:     longitudine della casa. Una misura che mi dice quanto una casa è ad ovest\n",
        "* Target:\n",
        "    * HousePrice:    valore della casa in centinaia di migliaia di dollari (esempio: 4.526 => 4.526*100*1000 = 452600.0)"
      ]
    },
    {
      "cell_type": "markdown",
      "metadata": {
        "id": "dceAhRYTUh1f",
        "colab_type": "text"
      },
      "source": [
        "### 2) Estrazione dati dal dataset e conversione a dataframe (pandas)"
      ]
    },
    {
      "cell_type": "code",
      "metadata": {
        "id": "OmmXAz4POPpX",
        "colab_type": "code",
        "colab": {}
      },
      "source": [
        "X = cal_housing['data']                  # or cal_housing.data\n",
        "X_names = cal_housing['feature_names']   # or cal_housing.feature_names\n",
        "Y = cal_housing['target']                # or cal_houseing.target\n",
        "cal_housing.update([ ('target_names', ['HousePrice'])] )  # add missing names\n",
        "Y_names =  cal_housing['target_names']   # cal_houseing.target_names\n"
      ],
      "execution_count": 0,
      "outputs": []
    },
    {
      "cell_type": "code",
      "metadata": {
        "id": "w7BOE5gWOtxn",
        "colab_type": "code",
        "outputId": "06520afc-9b1a-487f-fae8-181ee463b3f6",
        "colab": {
          "base_uri": "https://localhost:8080/",
          "height": 760
        }
      },
      "source": [
        "df_X = pd.DataFrame(data=X, columns =X_names)\n",
        "df_Y = pd.DataFrame(data=Y, columns =Y_names)\n",
        "display(df_X)\n",
        "display(df_Y)"
      ],
      "execution_count": 119,
      "outputs": [
        {
          "output_type": "display_data",
          "data": {
            "text/html": [
              "<div>\n",
              "<style scoped>\n",
              "    .dataframe tbody tr th:only-of-type {\n",
              "        vertical-align: middle;\n",
              "    }\n",
              "\n",
              "    .dataframe tbody tr th {\n",
              "        vertical-align: top;\n",
              "    }\n",
              "\n",
              "    .dataframe thead th {\n",
              "        text-align: right;\n",
              "    }\n",
              "</style>\n",
              "<table border=\"1\" class=\"dataframe\">\n",
              "  <thead>\n",
              "    <tr style=\"text-align: right;\">\n",
              "      <th></th>\n",
              "      <th>MedInc</th>\n",
              "      <th>HouseAge</th>\n",
              "      <th>AveRooms</th>\n",
              "      <th>AveBedrms</th>\n",
              "      <th>Population</th>\n",
              "      <th>AveOccup</th>\n",
              "      <th>Latitude</th>\n",
              "      <th>Longitude</th>\n",
              "    </tr>\n",
              "  </thead>\n",
              "  <tbody>\n",
              "    <tr>\n",
              "      <th>0</th>\n",
              "      <td>8.3252</td>\n",
              "      <td>41.0</td>\n",
              "      <td>6.984127</td>\n",
              "      <td>1.023810</td>\n",
              "      <td>322.0</td>\n",
              "      <td>2.555556</td>\n",
              "      <td>37.88</td>\n",
              "      <td>-122.23</td>\n",
              "    </tr>\n",
              "    <tr>\n",
              "      <th>1</th>\n",
              "      <td>8.3014</td>\n",
              "      <td>21.0</td>\n",
              "      <td>6.238137</td>\n",
              "      <td>0.971880</td>\n",
              "      <td>2401.0</td>\n",
              "      <td>2.109842</td>\n",
              "      <td>37.86</td>\n",
              "      <td>-122.22</td>\n",
              "    </tr>\n",
              "    <tr>\n",
              "      <th>2</th>\n",
              "      <td>7.2574</td>\n",
              "      <td>52.0</td>\n",
              "      <td>8.288136</td>\n",
              "      <td>1.073446</td>\n",
              "      <td>496.0</td>\n",
              "      <td>2.802260</td>\n",
              "      <td>37.85</td>\n",
              "      <td>-122.24</td>\n",
              "    </tr>\n",
              "    <tr>\n",
              "      <th>3</th>\n",
              "      <td>5.6431</td>\n",
              "      <td>52.0</td>\n",
              "      <td>5.817352</td>\n",
              "      <td>1.073059</td>\n",
              "      <td>558.0</td>\n",
              "      <td>2.547945</td>\n",
              "      <td>37.85</td>\n",
              "      <td>-122.25</td>\n",
              "    </tr>\n",
              "    <tr>\n",
              "      <th>4</th>\n",
              "      <td>3.8462</td>\n",
              "      <td>52.0</td>\n",
              "      <td>6.281853</td>\n",
              "      <td>1.081081</td>\n",
              "      <td>565.0</td>\n",
              "      <td>2.181467</td>\n",
              "      <td>37.85</td>\n",
              "      <td>-122.25</td>\n",
              "    </tr>\n",
              "    <tr>\n",
              "      <th>...</th>\n",
              "      <td>...</td>\n",
              "      <td>...</td>\n",
              "      <td>...</td>\n",
              "      <td>...</td>\n",
              "      <td>...</td>\n",
              "      <td>...</td>\n",
              "      <td>...</td>\n",
              "      <td>...</td>\n",
              "    </tr>\n",
              "    <tr>\n",
              "      <th>20635</th>\n",
              "      <td>1.5603</td>\n",
              "      <td>25.0</td>\n",
              "      <td>5.045455</td>\n",
              "      <td>1.133333</td>\n",
              "      <td>845.0</td>\n",
              "      <td>2.560606</td>\n",
              "      <td>39.48</td>\n",
              "      <td>-121.09</td>\n",
              "    </tr>\n",
              "    <tr>\n",
              "      <th>20636</th>\n",
              "      <td>2.5568</td>\n",
              "      <td>18.0</td>\n",
              "      <td>6.114035</td>\n",
              "      <td>1.315789</td>\n",
              "      <td>356.0</td>\n",
              "      <td>3.122807</td>\n",
              "      <td>39.49</td>\n",
              "      <td>-121.21</td>\n",
              "    </tr>\n",
              "    <tr>\n",
              "      <th>20637</th>\n",
              "      <td>1.7000</td>\n",
              "      <td>17.0</td>\n",
              "      <td>5.205543</td>\n",
              "      <td>1.120092</td>\n",
              "      <td>1007.0</td>\n",
              "      <td>2.325635</td>\n",
              "      <td>39.43</td>\n",
              "      <td>-121.22</td>\n",
              "    </tr>\n",
              "    <tr>\n",
              "      <th>20638</th>\n",
              "      <td>1.8672</td>\n",
              "      <td>18.0</td>\n",
              "      <td>5.329513</td>\n",
              "      <td>1.171920</td>\n",
              "      <td>741.0</td>\n",
              "      <td>2.123209</td>\n",
              "      <td>39.43</td>\n",
              "      <td>-121.32</td>\n",
              "    </tr>\n",
              "    <tr>\n",
              "      <th>20639</th>\n",
              "      <td>2.3886</td>\n",
              "      <td>16.0</td>\n",
              "      <td>5.254717</td>\n",
              "      <td>1.162264</td>\n",
              "      <td>1387.0</td>\n",
              "      <td>2.616981</td>\n",
              "      <td>39.37</td>\n",
              "      <td>-121.24</td>\n",
              "    </tr>\n",
              "  </tbody>\n",
              "</table>\n",
              "<p>20640 rows × 8 columns</p>\n",
              "</div>"
            ],
            "text/plain": [
              "       MedInc  HouseAge  AveRooms  ...  AveOccup  Latitude  Longitude\n",
              "0      8.3252      41.0  6.984127  ...  2.555556     37.88    -122.23\n",
              "1      8.3014      21.0  6.238137  ...  2.109842     37.86    -122.22\n",
              "2      7.2574      52.0  8.288136  ...  2.802260     37.85    -122.24\n",
              "3      5.6431      52.0  5.817352  ...  2.547945     37.85    -122.25\n",
              "4      3.8462      52.0  6.281853  ...  2.181467     37.85    -122.25\n",
              "...       ...       ...       ...  ...       ...       ...        ...\n",
              "20635  1.5603      25.0  5.045455  ...  2.560606     39.48    -121.09\n",
              "20636  2.5568      18.0  6.114035  ...  3.122807     39.49    -121.21\n",
              "20637  1.7000      17.0  5.205543  ...  2.325635     39.43    -121.22\n",
              "20638  1.8672      18.0  5.329513  ...  2.123209     39.43    -121.32\n",
              "20639  2.3886      16.0  5.254717  ...  2.616981     39.37    -121.24\n",
              "\n",
              "[20640 rows x 8 columns]"
            ]
          },
          "metadata": {
            "tags": []
          }
        },
        {
          "output_type": "display_data",
          "data": {
            "text/html": [
              "<div>\n",
              "<style scoped>\n",
              "    .dataframe tbody tr th:only-of-type {\n",
              "        vertical-align: middle;\n",
              "    }\n",
              "\n",
              "    .dataframe tbody tr th {\n",
              "        vertical-align: top;\n",
              "    }\n",
              "\n",
              "    .dataframe thead th {\n",
              "        text-align: right;\n",
              "    }\n",
              "</style>\n",
              "<table border=\"1\" class=\"dataframe\">\n",
              "  <thead>\n",
              "    <tr style=\"text-align: right;\">\n",
              "      <th></th>\n",
              "      <th>HousePrice</th>\n",
              "    </tr>\n",
              "  </thead>\n",
              "  <tbody>\n",
              "    <tr>\n",
              "      <th>0</th>\n",
              "      <td>4.526</td>\n",
              "    </tr>\n",
              "    <tr>\n",
              "      <th>1</th>\n",
              "      <td>3.585</td>\n",
              "    </tr>\n",
              "    <tr>\n",
              "      <th>2</th>\n",
              "      <td>3.521</td>\n",
              "    </tr>\n",
              "    <tr>\n",
              "      <th>3</th>\n",
              "      <td>3.413</td>\n",
              "    </tr>\n",
              "    <tr>\n",
              "      <th>4</th>\n",
              "      <td>3.422</td>\n",
              "    </tr>\n",
              "    <tr>\n",
              "      <th>...</th>\n",
              "      <td>...</td>\n",
              "    </tr>\n",
              "    <tr>\n",
              "      <th>20635</th>\n",
              "      <td>0.781</td>\n",
              "    </tr>\n",
              "    <tr>\n",
              "      <th>20636</th>\n",
              "      <td>0.771</td>\n",
              "    </tr>\n",
              "    <tr>\n",
              "      <th>20637</th>\n",
              "      <td>0.923</td>\n",
              "    </tr>\n",
              "    <tr>\n",
              "      <th>20638</th>\n",
              "      <td>0.847</td>\n",
              "    </tr>\n",
              "    <tr>\n",
              "      <th>20639</th>\n",
              "      <td>0.894</td>\n",
              "    </tr>\n",
              "  </tbody>\n",
              "</table>\n",
              "<p>20640 rows × 1 columns</p>\n",
              "</div>"
            ],
            "text/plain": [
              "       HousePrice\n",
              "0           4.526\n",
              "1           3.585\n",
              "2           3.521\n",
              "3           3.413\n",
              "4           3.422\n",
              "...           ...\n",
              "20635       0.781\n",
              "20636       0.771\n",
              "20637       0.923\n",
              "20638       0.847\n",
              "20639       0.894\n",
              "\n",
              "[20640 rows x 1 columns]"
            ]
          },
          "metadata": {
            "tags": []
          }
        }
      ]
    },
    {
      "cell_type": "markdown",
      "metadata": {
        "id": "AKDCiJbhVpab",
        "colab_type": "text"
      },
      "source": [
        "### 3) Considerazioni e analisi dei dati"
      ]
    },
    {
      "cell_type": "markdown",
      "metadata": {
        "id": "7S2rGJRIWOQB",
        "colab_type": "text"
      },
      "source": [
        "#### Correlation Matrix: Quanto le variabili di input sono correlate? È utile applicare la PCA cioè ridurre il numero di input?\n",
        "Il contenuto di informazioni delle variabili di input è omogeneo oppure vi sono variabili inutili?"
      ]
    },
    {
      "cell_type": "code",
      "metadata": {
        "id": "Rolc4NEy5Xd5",
        "colab_type": "code",
        "colab": {
          "base_uri": "https://localhost:8080/",
          "height": 961
        },
        "outputId": "7d097796-e0ff-45b8-970f-a728525d65e2"
      },
      "source": [
        "import matplotlib.pyplot as plt\n",
        "plt.rcParams['figure.figsize'] = [15, 12]\n",
        "\n",
        "# Correlation Matrix\n",
        "plt.matshow(df_X.corr())\n",
        "plt.xticks(range(len(df_X.columns)), df_X.columns)\n",
        "plt.yticks(range(len(df_X.columns)), df_X.columns)\n",
        "plt.colorbar()\n",
        "plt.show()\n",
        "display(df_X.corr())"
      ],
      "execution_count": 129,
      "outputs": [
        {
          "output_type": "display_data",
          "data": {
            "image/png": "[encoded data removed]",
            "text/plain": [
              "<Figure size 864x864 with 2 Axes>"
            ]
          },
          "metadata": {
            "tags": []
          }
        },
        {
          "output_type": "display_data",
          "data": {
            "text/html": [
              "<div>\n",
              "<style scoped>\n",
              "    .dataframe tbody tr th:only-of-type {\n",
              "        vertical-align: middle;\n",
              "    }\n",
              "\n",
              "    .dataframe tbody tr th {\n",
              "        vertical-align: top;\n",
              "    }\n",
              "\n",
              "    .dataframe thead th {\n",
              "        text-align: right;\n",
              "    }\n",
              "</style>\n",
              "<table border=\"1\" class=\"dataframe\">\n",
              "  <thead>\n",
              "    <tr style=\"text-align: right;\">\n",
              "      <th></th>\n",
              "      <th>MedInc</th>\n",
              "      <th>HouseAge</th>\n",
              "      <th>AveRooms</th>\n",
              "      <th>AveBedrms</th>\n",
              "      <th>Population</th>\n",
              "      <th>AveOccup</th>\n",
              "      <th>Latitude</th>\n",
              "      <th>Longitude</th>\n",
              "    </tr>\n",
              "  </thead>\n",
              "  <tbody>\n",
              "    <tr>\n",
              "      <th>MedInc</th>\n",
              "      <td>1.000000</td>\n",
              "      <td>-0.119034</td>\n",
              "      <td>0.326895</td>\n",
              "      <td>-0.062040</td>\n",
              "      <td>0.004834</td>\n",
              "      <td>0.018766</td>\n",
              "      <td>-0.079809</td>\n",
              "      <td>-0.015176</td>\n",
              "    </tr>\n",
              "    <tr>\n",
              "      <th>HouseAge</th>\n",
              "      <td>-0.119034</td>\n",
              "      <td>1.000000</td>\n",
              "      <td>-0.153277</td>\n",
              "      <td>-0.077747</td>\n",
              "      <td>-0.296244</td>\n",
              "      <td>0.013191</td>\n",
              "      <td>0.011173</td>\n",
              "      <td>-0.108197</td>\n",
              "    </tr>\n",
              "    <tr>\n",
              "      <th>AveRooms</th>\n",
              "      <td>0.326895</td>\n",
              "      <td>-0.153277</td>\n",
              "      <td>1.000000</td>\n",
              "      <td>0.847621</td>\n",
              "      <td>-0.072213</td>\n",
              "      <td>-0.004852</td>\n",
              "      <td>0.106389</td>\n",
              "      <td>-0.027540</td>\n",
              "    </tr>\n",
              "    <tr>\n",
              "      <th>AveBedrms</th>\n",
              "      <td>-0.062040</td>\n",
              "      <td>-0.077747</td>\n",
              "      <td>0.847621</td>\n",
              "      <td>1.000000</td>\n",
              "      <td>-0.066197</td>\n",
              "      <td>-0.006181</td>\n",
              "      <td>0.069721</td>\n",
              "      <td>0.013344</td>\n",
              "    </tr>\n",
              "    <tr>\n",
              "      <th>Population</th>\n",
              "      <td>0.004834</td>\n",
              "      <td>-0.296244</td>\n",
              "      <td>-0.072213</td>\n",
              "      <td>-0.066197</td>\n",
              "      <td>1.000000</td>\n",
              "      <td>0.069863</td>\n",
              "      <td>-0.108785</td>\n",
              "      <td>0.099773</td>\n",
              "    </tr>\n",
              "    <tr>\n",
              "      <th>AveOccup</th>\n",
              "      <td>0.018766</td>\n",
              "      <td>0.013191</td>\n",
              "      <td>-0.004852</td>\n",
              "      <td>-0.006181</td>\n",
              "      <td>0.069863</td>\n",
              "      <td>1.000000</td>\n",
              "      <td>0.002366</td>\n",
              "      <td>0.002476</td>\n",
              "    </tr>\n",
              "    <tr>\n",
              "      <th>Latitude</th>\n",
              "      <td>-0.079809</td>\n",
              "      <td>0.011173</td>\n",
              "      <td>0.106389</td>\n",
              "      <td>0.069721</td>\n",
              "      <td>-0.108785</td>\n",
              "      <td>0.002366</td>\n",
              "      <td>1.000000</td>\n",
              "      <td>-0.924664</td>\n",
              "    </tr>\n",
              "    <tr>\n",
              "      <th>Longitude</th>\n",
              "      <td>-0.015176</td>\n",
              "      <td>-0.108197</td>\n",
              "      <td>-0.027540</td>\n",
              "      <td>0.013344</td>\n",
              "      <td>0.099773</td>\n",
              "      <td>0.002476</td>\n",
              "      <td>-0.924664</td>\n",
              "      <td>1.000000</td>\n",
              "    </tr>\n",
              "  </tbody>\n",
              "</table>\n",
              "</div>"
            ],
            "text/plain": [
              "              MedInc  HouseAge  AveRooms  ...  AveOccup  Latitude  Longitude\n",
              "MedInc      1.000000 -0.119034  0.326895  ...  0.018766 -0.079809  -0.015176\n",
              "HouseAge   -0.119034  1.000000 -0.153277  ...  0.013191  0.011173  -0.108197\n",
              "AveRooms    0.326895 -0.153277  1.000000  ... -0.004852  0.106389  -0.027540\n",
              "AveBedrms  -0.062040 -0.077747  0.847621  ... -0.006181  0.069721   0.013344\n",
              "Population  0.004834 -0.296244 -0.072213  ...  0.069863 -0.108785   0.099773\n",
              "AveOccup    0.018766  0.013191 -0.004852  ...  1.000000  0.002366   0.002476\n",
              "Latitude   -0.079809  0.011173  0.106389  ...  0.002366  1.000000  -0.924664\n",
              "Longitude  -0.015176 -0.108197 -0.027540  ...  0.002476 -0.924664   1.000000\n",
              "\n",
              "[8 rows x 8 columns]"
            ]
          },
          "metadata": {
            "tags": []
          }
        }
      ]
    },
    {
      "cell_type": "markdown",
      "metadata": {
        "id": "Q92kyGafX1Qp",
        "colab_type": "text"
      },
      "source": [
        "### Grafici utili\n",
        "\n",
        "* [Libreria Bamboolib Demo](https://bamboolib.8080labs.com/)\n",
        "\n",
        "Non vi è ancora un integrazione con google-colab, in particolare vi è un errore di compatibilità, poichè Bamboolib richiede notebook>=5.3 mentre google-colab usa la versione 5.2.2.  \n",
        "\n",
        "Al fine di utilizzare la libreria è necessario visitare la pagina [Ufficiale]((https://bamboolib.8080labs.com/) e premere su \"Try the Live Demo\".\n",
        "\n",
        "Copiare nel notebook il seguente codice:\n",
        "  ```python\n",
        "  from sklearn.datasets import fetch_california_housing\n",
        "  from sklearn.model_selection import train_test_split\n",
        "  import pandas as pd\n",
        "\n",
        "  # Download dataset \n",
        "  cal_housing = fetch_california_housing()\n",
        "  cal_housing\n",
        "  ```\n",
        "Questo [Video Demo](https://www.youtube.com/watch?v=y5F4Brf7FBs) spiega come utilizzare graficamente la libreria. Inoltre c'è un un [interessante tutorial](https://towardsdatascience.com/bamboolib-learn-and-use-pandas-without-coding-23a7d3a94e1b)\n",
        "\n",
        "\n"
      ]
    },
    {
      "cell_type": "markdown",
      "metadata": {
        "id": "6hLo_4FNWTXc",
        "colab_type": "text"
      },
      "source": [
        "### Preprocessamento\n",
        "Non è sempre un buona idea normalizzare i dati perchè si perde l'informazione del massimo e del minimo. Tuttavia liner regression algoritmi come Support Vector Machine e Linear Regression convergono più velocemente su data normalizzati.\n",
        "\n",
        "* StandarScaler: input data con mean value (valore medio) uguale a zero e deviazione standard uguale ad 1. \n",
        "* MinMaxScaler: scaliamo i dati in un range minimo massimo. Di solito da 0 a 1\n",
        "\n",
        "La normalizzazione permetterà al nostro algoritmo di raggiungere la stima ottima in un tempo minore di quello che occorre se non normalizzaziamo.\n"
      ]
    },
    {
      "cell_type": "code",
      "metadata": {
        "id": "jp571SV8Yw1J",
        "colab_type": "code",
        "outputId": "92713e27-a2bb-4200-f11f-d27cd5902f88",
        "colab": {
          "base_uri": "https://localhost:8080/",
          "height": 790
        }
      },
      "source": [
        "from sklearn.preprocessing import StandardScaler\n",
        "from sklearn.preprocessing import MinMaxScaler\n",
        "\n",
        "# --------- Standard Scaler Mean=0, Variance=1\n",
        "data_X = StandardScaler().fit_transform(df_X.values)\n",
        "df_X_preprocessed_SC = pd.DataFrame(data = data_X , columns = X_names)\n",
        "\n",
        "# --------- Min Max Scaler Min=0, Max=1\n",
        "data_X = MinMaxScaler().fit_transform(df_X.values)\n",
        "df_X_preprocessed_MMS = pd.DataFrame(data = data_X , columns = X_names)\n",
        "\n",
        "display(df_X.describe())\n",
        "display(df_X_preprocessed_SC.describe())\n",
        "display(df_X_preprocessed_MMS.describe())\n"
      ],
      "execution_count": 65,
      "outputs": [
        {
          "output_type": "display_data",
          "data": {
            "text/html": [
              "<div>\n",
              "<style scoped>\n",
              "    .dataframe tbody tr th:only-of-type {\n",
              "        vertical-align: middle;\n",
              "    }\n",
              "\n",
              "    .dataframe tbody tr th {\n",
              "        vertical-align: top;\n",
              "    }\n",
              "\n",
              "    .dataframe thead th {\n",
              "        text-align: right;\n",
              "    }\n",
              "</style>\n",
              "<table border=\"1\" class=\"dataframe\">\n",
              "  <thead>\n",
              "    <tr style=\"text-align: right;\">\n",
              "      <th></th>\n",
              "      <th>MedInc</th>\n",
              "      <th>HouseAge</th>\n",
              "      <th>AveRooms</th>\n",
              "      <th>AveBedrms</th>\n",
              "      <th>Population</th>\n",
              "      <th>AveOccup</th>\n",
              "      <th>Latitude</th>\n",
              "      <th>Longitude</th>\n",
              "    </tr>\n",
              "  </thead>\n",
              "  <tbody>\n",
              "    <tr>\n",
              "      <th>count</th>\n",
              "      <td>20640.000000</td>\n",
              "      <td>20640.000000</td>\n",
              "      <td>20640.000000</td>\n",
              "      <td>20640.000000</td>\n",
              "      <td>20640.000000</td>\n",
              "      <td>20640.000000</td>\n",
              "      <td>20640.000000</td>\n",
              "      <td>20640.000000</td>\n",
              "    </tr>\n",
              "    <tr>\n",
              "      <th>mean</th>\n",
              "      <td>3.870671</td>\n",
              "      <td>28.639486</td>\n",
              "      <td>5.429000</td>\n",
              "      <td>1.096675</td>\n",
              "      <td>1425.476744</td>\n",
              "      <td>3.070655</td>\n",
              "      <td>35.631861</td>\n",
              "      <td>-119.569704</td>\n",
              "    </tr>\n",
              "    <tr>\n",
              "      <th>std</th>\n",
              "      <td>1.899822</td>\n",
              "      <td>12.585558</td>\n",
              "      <td>2.474173</td>\n",
              "      <td>0.473911</td>\n",
              "      <td>1132.462122</td>\n",
              "      <td>10.386050</td>\n",
              "      <td>2.135952</td>\n",
              "      <td>2.003532</td>\n",
              "    </tr>\n",
              "    <tr>\n",
              "      <th>min</th>\n",
              "      <td>0.499900</td>\n",
              "      <td>1.000000</td>\n",
              "      <td>0.846154</td>\n",
              "      <td>0.333333</td>\n",
              "      <td>3.000000</td>\n",
              "      <td>0.692308</td>\n",
              "      <td>32.540000</td>\n",
              "      <td>-124.350000</td>\n",
              "    </tr>\n",
              "    <tr>\n",
              "      <th>25%</th>\n",
              "      <td>2.563400</td>\n",
              "      <td>18.000000</td>\n",
              "      <td>4.440716</td>\n",
              "      <td>1.006079</td>\n",
              "      <td>787.000000</td>\n",
              "      <td>2.429741</td>\n",
              "      <td>33.930000</td>\n",
              "      <td>-121.800000</td>\n",
              "    </tr>\n",
              "    <tr>\n",
              "      <th>50%</th>\n",
              "      <td>3.534800</td>\n",
              "      <td>29.000000</td>\n",
              "      <td>5.229129</td>\n",
              "      <td>1.048780</td>\n",
              "      <td>1166.000000</td>\n",
              "      <td>2.818116</td>\n",
              "      <td>34.260000</td>\n",
              "      <td>-118.490000</td>\n",
              "    </tr>\n",
              "    <tr>\n",
              "      <th>75%</th>\n",
              "      <td>4.743250</td>\n",
              "      <td>37.000000</td>\n",
              "      <td>6.052381</td>\n",
              "      <td>1.099526</td>\n",
              "      <td>1725.000000</td>\n",
              "      <td>3.282261</td>\n",
              "      <td>37.710000</td>\n",
              "      <td>-118.010000</td>\n",
              "    </tr>\n",
              "    <tr>\n",
              "      <th>max</th>\n",
              "      <td>15.000100</td>\n",
              "      <td>52.000000</td>\n",
              "      <td>141.909091</td>\n",
              "      <td>34.066667</td>\n",
              "      <td>35682.000000</td>\n",
              "      <td>1243.333333</td>\n",
              "      <td>41.950000</td>\n",
              "      <td>-114.310000</td>\n",
              "    </tr>\n",
              "  </tbody>\n",
              "</table>\n",
              "</div>"
            ],
            "text/plain": [
              "             MedInc      HouseAge  ...      Latitude     Longitude\n",
              "count  20640.000000  20640.000000  ...  20640.000000  20640.000000\n",
              "mean       3.870671     28.639486  ...     35.631861   -119.569704\n",
              "std        1.899822     12.585558  ...      2.135952      2.003532\n",
              "min        0.499900      1.000000  ...     32.540000   -124.350000\n",
              "25%        2.563400     18.000000  ...     33.930000   -121.800000\n",
              "50%        3.534800     29.000000  ...     34.260000   -118.490000\n",
              "75%        4.743250     37.000000  ...     37.710000   -118.010000\n",
              "max       15.000100     52.000000  ...     41.950000   -114.310000\n",
              "\n",
              "[8 rows x 8 columns]"
            ]
          },
          "metadata": {
            "tags": []
          }
        },
        {
          "output_type": "display_data",
          "data": {
            "text/html": [
              "<div>\n",
              "<style scoped>\n",
              "    .dataframe tbody tr th:only-of-type {\n",
              "        vertical-align: middle;\n",
              "    }\n",
              "\n",
              "    .dataframe tbody tr th {\n",
              "        vertical-align: top;\n",
              "    }\n",
              "\n",
              "    .dataframe thead th {\n",
              "        text-align: right;\n",
              "    }\n",
              "</style>\n",
              "<table border=\"1\" class=\"dataframe\">\n",
              "  <thead>\n",
              "    <tr style=\"text-align: right;\">\n",
              "      <th></th>\n",
              "      <th>MedInc</th>\n",
              "      <th>HouseAge</th>\n",
              "      <th>AveRooms</th>\n",
              "      <th>AveBedrms</th>\n",
              "      <th>Population</th>\n",
              "      <th>AveOccup</th>\n",
              "      <th>Latitude</th>\n",
              "      <th>Longitude</th>\n",
              "    </tr>\n",
              "  </thead>\n",
              "  <tbody>\n",
              "    <tr>\n",
              "      <th>count</th>\n",
              "      <td>2.064000e+04</td>\n",
              "      <td>2.064000e+04</td>\n",
              "      <td>2.064000e+04</td>\n",
              "      <td>2.064000e+04</td>\n",
              "      <td>2.064000e+04</td>\n",
              "      <td>2.064000e+04</td>\n",
              "      <td>2.064000e+04</td>\n",
              "      <td>2.064000e+04</td>\n",
              "    </tr>\n",
              "    <tr>\n",
              "      <th>mean</th>\n",
              "      <td>3.734255e-16</td>\n",
              "      <td>8.557001e-16</td>\n",
              "      <td>2.704111e-16</td>\n",
              "      <td>-1.531384e-16</td>\n",
              "      <td>-6.465442e-17</td>\n",
              "      <td>6.064808e-19</td>\n",
              "      <td>1.256263e-15</td>\n",
              "      <td>-6.527810e-15</td>\n",
              "    </tr>\n",
              "    <tr>\n",
              "      <th>std</th>\n",
              "      <td>1.000024e+00</td>\n",
              "      <td>1.000024e+00</td>\n",
              "      <td>1.000024e+00</td>\n",
              "      <td>1.000024e+00</td>\n",
              "      <td>1.000024e+00</td>\n",
              "      <td>1.000024e+00</td>\n",
              "      <td>1.000024e+00</td>\n",
              "      <td>1.000024e+00</td>\n",
              "    </tr>\n",
              "    <tr>\n",
              "      <th>min</th>\n",
              "      <td>-1.774299e+00</td>\n",
              "      <td>-2.196180e+00</td>\n",
              "      <td>-1.852319e+00</td>\n",
              "      <td>-1.610768e+00</td>\n",
              "      <td>-1.256123e+00</td>\n",
              "      <td>-2.290000e-01</td>\n",
              "      <td>-1.447568e+00</td>\n",
              "      <td>-2.385992e+00</td>\n",
              "    </tr>\n",
              "    <tr>\n",
              "      <th>25%</th>\n",
              "      <td>-6.881186e-01</td>\n",
              "      <td>-8.453931e-01</td>\n",
              "      <td>-3.994496e-01</td>\n",
              "      <td>-1.911716e-01</td>\n",
              "      <td>-5.638089e-01</td>\n",
              "      <td>-6.171062e-02</td>\n",
              "      <td>-7.967887e-01</td>\n",
              "      <td>-1.113209e+00</td>\n",
              "    </tr>\n",
              "    <tr>\n",
              "      <th>50%</th>\n",
              "      <td>-1.767951e-01</td>\n",
              "      <td>2.864572e-02</td>\n",
              "      <td>-8.078489e-02</td>\n",
              "      <td>-1.010650e-01</td>\n",
              "      <td>-2.291318e-01</td>\n",
              "      <td>-2.431585e-02</td>\n",
              "      <td>-6.422871e-01</td>\n",
              "      <td>5.389137e-01</td>\n",
              "    </tr>\n",
              "    <tr>\n",
              "      <th>75%</th>\n",
              "      <td>4.593063e-01</td>\n",
              "      <td>6.643103e-01</td>\n",
              "      <td>2.519615e-01</td>\n",
              "      <td>6.015869e-03</td>\n",
              "      <td>2.644949e-01</td>\n",
              "      <td>2.037453e-02</td>\n",
              "      <td>9.729566e-01</td>\n",
              "      <td>7.784964e-01</td>\n",
              "    </tr>\n",
              "    <tr>\n",
              "      <th>max</th>\n",
              "      <td>5.858286e+00</td>\n",
              "      <td>1.856182e+00</td>\n",
              "      <td>5.516324e+01</td>\n",
              "      <td>6.957171e+01</td>\n",
              "      <td>3.025033e+01</td>\n",
              "      <td>1.194191e+02</td>\n",
              "      <td>2.958068e+00</td>\n",
              "      <td>2.625280e+00</td>\n",
              "    </tr>\n",
              "  </tbody>\n",
              "</table>\n",
              "</div>"
            ],
            "text/plain": [
              "             MedInc      HouseAge  ...      Latitude     Longitude\n",
              "count  2.064000e+04  2.064000e+04  ...  2.064000e+04  2.064000e+04\n",
              "mean   3.734255e-16  8.557001e-16  ...  1.256263e-15 -6.527810e-15\n",
              "std    1.000024e+00  1.000024e+00  ...  1.000024e+00  1.000024e+00\n",
              "min   -1.774299e+00 -2.196180e+00  ... -1.447568e+00 -2.385992e+00\n",
              "25%   -6.881186e-01 -8.453931e-01  ... -7.967887e-01 -1.113209e+00\n",
              "50%   -1.767951e-01  2.864572e-02  ... -6.422871e-01  5.389137e-01\n",
              "75%    4.593063e-01  6.643103e-01  ...  9.729566e-01  7.784964e-01\n",
              "max    5.858286e+00  1.856182e+00  ...  2.958068e+00  2.625280e+00\n",
              "\n",
              "[8 rows x 8 columns]"
            ]
          },
          "metadata": {
            "tags": []
          }
        },
        {
          "output_type": "display_data",
          "data": {
            "text/html": [
              "<div>\n",
              "<style scoped>\n",
              "    .dataframe tbody tr th:only-of-type {\n",
              "        vertical-align: middle;\n",
              "    }\n",
              "\n",
              "    .dataframe tbody tr th {\n",
              "        vertical-align: top;\n",
              "    }\n",
              "\n",
              "    .dataframe thead th {\n",
              "        text-align: right;\n",
              "    }\n",
              "</style>\n",
              "<table border=\"1\" class=\"dataframe\">\n",
              "  <thead>\n",
              "    <tr style=\"text-align: right;\">\n",
              "      <th></th>\n",
              "      <th>MedInc</th>\n",
              "      <th>HouseAge</th>\n",
              "      <th>AveRooms</th>\n",
              "      <th>AveBedrms</th>\n",
              "      <th>Population</th>\n",
              "      <th>AveOccup</th>\n",
              "      <th>Latitude</th>\n",
              "      <th>Longitude</th>\n",
              "    </tr>\n",
              "  </thead>\n",
              "  <tbody>\n",
              "    <tr>\n",
              "      <th>count</th>\n",
              "      <td>20640.000000</td>\n",
              "      <td>20640.000000</td>\n",
              "      <td>20640.000000</td>\n",
              "      <td>20640.000000</td>\n",
              "      <td>20640.000000</td>\n",
              "      <td>20640.000000</td>\n",
              "      <td>20640.000000</td>\n",
              "      <td>20640.000000</td>\n",
              "    </tr>\n",
              "    <tr>\n",
              "      <th>mean</th>\n",
              "      <td>0.232464</td>\n",
              "      <td>0.541951</td>\n",
              "      <td>0.032488</td>\n",
              "      <td>0.022629</td>\n",
              "      <td>0.039869</td>\n",
              "      <td>0.001914</td>\n",
              "      <td>0.328572</td>\n",
              "      <td>0.476125</td>\n",
              "    </tr>\n",
              "    <tr>\n",
              "      <th>std</th>\n",
              "      <td>0.131020</td>\n",
              "      <td>0.246776</td>\n",
              "      <td>0.017539</td>\n",
              "      <td>0.014049</td>\n",
              "      <td>0.031740</td>\n",
              "      <td>0.008358</td>\n",
              "      <td>0.226988</td>\n",
              "      <td>0.199555</td>\n",
              "    </tr>\n",
              "    <tr>\n",
              "      <th>min</th>\n",
              "      <td>0.000000</td>\n",
              "      <td>0.000000</td>\n",
              "      <td>0.000000</td>\n",
              "      <td>0.000000</td>\n",
              "      <td>0.000000</td>\n",
              "      <td>0.000000</td>\n",
              "      <td>0.000000</td>\n",
              "      <td>0.000000</td>\n",
              "    </tr>\n",
              "    <tr>\n",
              "      <th>25%</th>\n",
              "      <td>0.142308</td>\n",
              "      <td>0.333333</td>\n",
              "      <td>0.025482</td>\n",
              "      <td>0.019943</td>\n",
              "      <td>0.021974</td>\n",
              "      <td>0.001398</td>\n",
              "      <td>0.147715</td>\n",
              "      <td>0.253984</td>\n",
              "    </tr>\n",
              "    <tr>\n",
              "      <th>50%</th>\n",
              "      <td>0.209301</td>\n",
              "      <td>0.549020</td>\n",
              "      <td>0.031071</td>\n",
              "      <td>0.021209</td>\n",
              "      <td>0.032596</td>\n",
              "      <td>0.001711</td>\n",
              "      <td>0.182784</td>\n",
              "      <td>0.583665</td>\n",
              "    </tr>\n",
              "    <tr>\n",
              "      <th>75%</th>\n",
              "      <td>0.292641</td>\n",
              "      <td>0.705882</td>\n",
              "      <td>0.036907</td>\n",
              "      <td>0.022713</td>\n",
              "      <td>0.048264</td>\n",
              "      <td>0.002084</td>\n",
              "      <td>0.549416</td>\n",
              "      <td>0.631474</td>\n",
              "    </tr>\n",
              "    <tr>\n",
              "      <th>max</th>\n",
              "      <td>1.000000</td>\n",
              "      <td>1.000000</td>\n",
              "      <td>1.000000</td>\n",
              "      <td>1.000000</td>\n",
              "      <td>1.000000</td>\n",
              "      <td>1.000000</td>\n",
              "      <td>1.000000</td>\n",
              "      <td>1.000000</td>\n",
              "    </tr>\n",
              "  </tbody>\n",
              "</table>\n",
              "</div>"
            ],
            "text/plain": [
              "             MedInc      HouseAge  ...      Latitude     Longitude\n",
              "count  20640.000000  20640.000000  ...  20640.000000  20640.000000\n",
              "mean       0.232464      0.541951  ...      0.328572      0.476125\n",
              "std        0.131020      0.246776  ...      0.226988      0.199555\n",
              "min        0.000000      0.000000  ...      0.000000      0.000000\n",
              "25%        0.142308      0.333333  ...      0.147715      0.253984\n",
              "50%        0.209301      0.549020  ...      0.182784      0.583665\n",
              "75%        0.292641      0.705882  ...      0.549416      0.631474\n",
              "max        1.000000      1.000000  ...      1.000000      1.000000\n",
              "\n",
              "[8 rows x 8 columns]"
            ]
          },
          "metadata": {
            "tags": []
          }
        }
      ]
    },
    {
      "cell_type": "markdown",
      "metadata": {
        "id": "DcJj-gliVxDd",
        "colab_type": "text"
      },
      "source": [
        "### 4) Divisione del dataset in training e test"
      ]
    },
    {
      "cell_type": "code",
      "metadata": {
        "id": "czpbUO2rYBwi",
        "colab_type": "code",
        "outputId": "c9e882d1-f106-4cf8-e4a3-8fbb7c16eb35",
        "colab": {
          "base_uri": "https://localhost:8080/",
          "height": 82
        }
      },
      "source": [
        "X_train, X_test, Y_train, Y_test = train_test_split(df_X.values, df_Y.values, test_size=0.1, random_state=0) # data not normalized\n",
        "X_train_SC, X_test_SC, Y_train, Y_test = train_test_split(df_X_preprocessed_SC.values, df_Y.values, test_size=0.1, random_state=0) # normalize data standard scaler\n",
        "X_train_MMS, X_test_MMS, Y_train, Y_test = train_test_split(df_X_preprocessed_MMS.values, df_Y.values, test_size=0.1, random_state=0) # normalize data minmax scaler\n",
        "\n",
        "print(\"Training Input Dimensions: \", X_train.shape)\n",
        "print(\"Training Output Dimensions: \", Y_train.shape)\n",
        "print(\"Test Input Dimensions: \", X_test.shape)\n",
        "print(\"Test Output Dimensions: \", Y_test.shape)"
      ],
      "execution_count": 66,
      "outputs": [
        {
          "output_type": "stream",
          "text": [
            "Training Input Dimensions:  (18576, 8)\n",
            "Training Output Dimensions:  (18576, 1)\n",
            "Test Input Dimensions:  (2064, 8)\n",
            "Test Output Dimensions:  (2064, 1)\n"
          ],
          "name": "stdout"
        }
      ]
    },
    {
      "cell_type": "markdown",
      "metadata": {
        "id": "PdkHNmezV5G0",
        "colab_type": "text"
      },
      "source": [
        "## 5) Scelta e applicazione del algoritmo di stima (Training and Validation)\n",
        "* Esercizio scrivete l'mse\n",
        "* Differenza tra mse, rmse e mae"
      ]
    },
    {
      "cell_type": "markdown",
      "metadata": {
        "id": "YVwRlc3KosGs",
        "colab_type": "text"
      },
      "source": [
        "### Metriche di valutazione\n",
        "\n",
        "* [Spiegazione Sklearn](https://scikit-learn.org/stable/modules/model_evaluation.html#regression-metrics)\n",
        "\n",
        "Metriche di misura dell'errore:\n",
        "* Mean Squared Error: $MSE(Y,\\hat{Y})=\\frac{1}{n}{\\sum^{n-1}_{i=0}}(Y_i -\\hat{Y_i})^2 $ Sensibile agli outliers, derivabile\n",
        "* Mean Absolute Error: $MAE(Y,\\hat{Y})=\\frac{1}{n}{\\sum^{n-1}_{i=0}}|Y_i -\\hat{Y_i}|$ Non derivabile\n",
        "* Median Absolute Error: $MedAE(Y,\\hat{Y})=median(|Y_0 -\\hat{Y_0}|, ... , |Y_{n-1} -\\hat{Y}_{n-1}|)$ dove la mediana è il valore che occupa la posizione centrale in una serie di dati ordinati in modo crescente ([Ulteriori Informazioni](https://www.youmath.it/lezioni/algebra-elementare/lezioni-di-algebra-e-aritmetica-per-scuole-medie/2064-media-moda-mediana.html). Non derivabile \n",
        "\n",
        "Metriche per misurare lo score del modello (valutare quanto il modello è buono):\n",
        "  * Explained Variance Score: $EV(Y,\\hat{Y})=1 - \\frac{var(Y-\\hat{Y})}{var(Y)}$ dove $var$ è un varianza biased cioè $Var(\\hat{Y}−Y)=\\frac{1}{n}\\sum^{n-1}_{i=0}(e_i -e_m)^2$  dove $e_m$ rappresenta l errore medio calcolato su n campioni. [Ottima spiegazione](https://stats.stackexchange.com/questions/210168/what-is-the-difference-between-r2-and-variance-score-in-scikit-learn)\n",
        "  * [R2 Score](https://it.wikipedia.org/wiki/Coefficiente_di_determinazione), [Video R2 Score Spiegazione](https://www.youtube.com/watch?v=2AQKmw14mHM)\n",
        "  Quanta variazione in meno il nostro modello ottiene in percentuale (Res) rispetto al valore medio.  Quindi siamo in grado di coprire Res% della variazione del modello.\n",
        "Quindi se R2 score = 0.9 possiamo dire molto bene la relazione tra Y_pred e Y esprime il 90% della variazione dei dati.\n",
        "\n",
        "> **_IMPORTANTE:_** \n",
        "L'errore associato a un modello può essere decomposto in 3 elementi principali:\n",
        "* Bias: Parte dell'errore dovuta a assunzioni sbagliate. Un bias alto è spesso sinonimo di mancanza di informazioni nei dati di input, pertanto un modello con bias alto tenderà a underfitting. \n",
        "* Variance: La varianza ci fornisce un indicazione di quanto il modello ottenuto sia sensibile a variazini nel dataset di training. Un modello ottenuto usando polynomial reggression avrà una varianza alta se il grado è elevato, pertanto avere una varianza alta è sinonimo di overfitting. Stiamo cercando di essere perfetti nel dataset di training a scapito della robustezza dell'algoritmo.\n",
        "* Errore Irriducibile: Parte dell'errore dovuta alla rumorosità (noisiness) del dataset. L'unico mode per migliorare questa parte dell'errore è pulire i dati cercando di rimuove il più possibile gli outliers. (esempio errore dovuto a misure dei sensori sbagliate)\n"
      ]
    },
    {
      "cell_type": "code",
      "metadata": {
        "id": "FclrJ2ZuowiU",
        "colab_type": "code",
        "colab": {}
      },
      "source": [
        "def my_mse(Y_test, Y_pred):\n",
        "  num_samples = len(Y_test)\n",
        "  acc = 0\n",
        "  for i in range(0,num_samples):\n",
        "    temp = (Y_pred[i]-Y_test[i])**2\n",
        "    acc = temp + acc\n",
        "  mse = acc/num_samples\n",
        "  return mse\n"
      ],
      "execution_count": 0,
      "outputs": []
    },
    {
      "cell_type": "markdown",
      "metadata": {
        "id": "tekSG3eqAGe2",
        "colab_type": "text"
      },
      "source": [
        "### Regressione Lineare\n",
        "\n",
        "L'obbiettivo del regressore lineare è minimizzare la Residual Sum Square (RSS) che si esprime come $RSS =\\sum_{i=1}^{n}(Y_{i}-\\hat{Y}_{i})^{2}$"
      ]
    },
    {
      "cell_type": "code",
      "metadata": {
        "id": "iEtfqm_bYDyP",
        "colab_type": "code",
        "colab": {
          "base_uri": "https://localhost:8080/",
          "height": 756
        },
        "outputId": "53cd66e6-2cb5-4763-9e52-77ae82e8de6b"
      },
      "source": [
        "from sklearn import linear_model\n",
        "# Error metrics\n",
        "from sklearn.metrics import mean_squared_error  # MSE\n",
        "from sklearn.metrics import mean_absolute_error # MAE\n",
        "from sklearn.metrics import median_absolute_error # MedAE\n",
        "\n",
        "import numpy as np\n",
        "import matplotlib.pyplot as plt\n",
        "import time\n",
        "\n",
        "plt.rcParams['figure.figsize'] = [15, 10]\n",
        "\n",
        "def plot(Y_test,Y_pred):\n",
        "  length = Y_pred.shape[0] # 20\n",
        "  index_bar = np.linspace(0,length,length)\n",
        "  plt.plot(index_bar, Y_test, label='Test')\n",
        "  plt.plot(index_bar, Y_pred, label='Prediction')\n",
        "  plt.legend()\n",
        "  plt.show()\n",
        "\n",
        "def validate(Y_test,Y_pred,name):\n",
        "  mse = mean_squared_error(Y_test,Y_pred)\n",
        "  rmse = np.sqrt(mean_squared_error(Y_test,Y_pred))\n",
        "  mae = mean_absolute_error(Y_test,Y_pred)\n",
        "  medae = median_absolute_error(Y_test,Y_pred)\n",
        "  print( name, \": MSE: \", mse, \"RMSE: \", rmse, \"MAE: \", mae, \"MedAE: \", medae)\n",
        "\n",
        "# Init\n",
        "\n",
        "#odel = linear_model.LinearRegression(fit_intercept=True, normalize=False)\n",
        "#model = linear_model.TheilSenRegressor(random_state=42)\n",
        "#model = linear_model.RANSACRegressor(random_state=42)\n",
        "#model = linear_model.HuberRegressor()\n",
        "\n",
        "m_linear = linear_model.LinearRegression(fit_intercept=True, normalize=False)\n",
        "m_linear_SC = linear_model.LinearRegression(fit_intercept=True, normalize=False) \n",
        "m_linear_MMS = linear_model.LinearRegression(fit_intercept=True, normalize=False) \n",
        "\n",
        "# Train : Compare fitting time \n",
        "# Normalized data speed up regression \n",
        "print(\"Computation time: \")\n",
        "start_time = time.time()\n",
        "m_linear.fit(X_train,Y_train)\n",
        "print(\"--- %s seconds ---\" % (time.time() - start_time))\n",
        "start_time = time.time()\n",
        "m_linear_SC.fit(X_train_SC,Y_train)\n",
        "print(\"--- %s seconds ---\" % (time.time() - start_time))\n",
        "start_time = time.time()\n",
        "m_linear_MMS.fit(X_train_MMS,Y_train)\n",
        "print(\"--- %s seconds ---\" % (time.time() - start_time))\n",
        "\n",
        "# Predict and test\n",
        "# MSE fortemente influenzato dalgi outliers\n",
        "Y_pred = m_linear.predict(X_test)\n",
        "Y_pred_SC = m_linear_SC.predict(X_test_SC)\n",
        "Y_pred_MMS = m_linear_MMS.predict(X_test_MMS)\n",
        "\n",
        "print(\"TEST ERRORS: \")\n",
        "validate(Y_test,Y_pred,\"No Normalization\")\n",
        "validate(Y_test,Y_pred_SC, \"Standard Scaler\")\n",
        "validate(Y_test,Y_pred_MMS, \"Min Max Scaler\")\n",
        "\n",
        "print(\"Validation R2 Score\")\n",
        "R2 = m_linear.score(X_test, Y_test)\n",
        "R2_SC = m_linear_SC.score(X_test_SC, Y_test)\n",
        "R2_MMS = m_linear_MMS.score(X_test_MMS, Y_test) \n",
        "print(\"R2: \", R2, \"R2_SC: \", R2_SC, \"R2_MMS: \", R2_MMS)\n",
        "\n",
        "# Error Analiysis (guardo sia training che test set)\n",
        "#my_mse = my_mse(Y_test,Y_pred)\n",
        "#sklearn_mse = mean_squared_error(Y_test,Y_pred)\n",
        "#np_mse = np.sum( (Y_pred-Y_test)**2 ) / len(Y_test)\n",
        "plot(Y_test,Y_pred_MMS)"
      ],
      "execution_count": 109,
      "outputs": [
        {
          "output_type": "stream",
          "text": [
            "Computation time: \n",
            "--- 0.010934114456176758 seconds ---\n",
            "--- 0.006644487380981445 seconds ---\n",
            "--- 0.005028486251831055 seconds ---\n",
            "TEST ERRORS: \n",
            "No Normalization : MSE:  0.536251980727768 RMSE:  0.7322922782112127 MAE:  0.5349313287784955 MedAE:  0.414523530910204\n",
            "Standard Scaler : MSE:  0.5362519807277708 RMSE:  0.7322922782112146 MAE:  0.534931328778454 MedAE:  0.41452353090997196\n",
            "Min Max Scaler : MSE:  0.5362519807277709 RMSE:  0.7322922782112146 MAE:  0.5349313287784562 MedAE:  0.41452353090998906\n",
            "Validation R2 Score\n",
            "R2:  0.6098033978087867 R2_SC:  0.6098033978087847 R2_MMS:  0.6098033978087847\n"
          ],
          "name": "stdout"
        },
        {
          "output_type": "display_data",
          "data": {
            "image/png": "[encoded data removed]",
            "text/plain": [
              "<Figure size 1080x720 with 1 Axes>"
            ]
          },
          "metadata": {
            "tags": []
          }
        }
      ]
    },
    {
      "cell_type": "markdown",
      "metadata": {
        "id": "ActyohrrFC7X",
        "colab_type": "text"
      },
      "source": [
        "###  Regressione Polinomiale\n",
        "\n",
        "Con il termine Polynomial Features si vuole estendere il numero di input (X) con combinazini lineari di essi. Per esempio se abbiamo due input $X=[A,B]$ e scegliamo con grado polinomiale $degree=2$ avremo le seguenti combinazioni lineari: $X=[A, B, A^2, AB, B^2]$\n",
        "Per approfondimenti leggere [questo esempio (Polynomial Interpolation)](https://scikit-learn.org/stable/auto_examples/linear_model/plot_polynomial_interpolation.html#sphx-glr-auto-examples-linear-model-plot-polynomial-interpolation-py)\n",
        "\n",
        "> **_IMPORTANTE:_** Polynomial Features($degree=d$) transformano un array contenente $N$ elementi  ($X=[1,x_1, x_2, .. x_N]$) in  una array contenente $\\frac{(N+d)!}{d!N!}$ elementi, dove $N!$ è il fattoriale di $N$ cioè $1\\times2\\times3\\times4\\times ..\\times N$ e $d$ è i grado (degree) scelto.\n",
        "Esempio: Grado=2 e Numero di input = 8:  $if \\; d=2 \\; e \\; N=8 \\; New\\_Number = \\frac{(N+d)!}{d!N!}=\\frac{(8+2)!}{2!8!}=45$"
      ]
    },
    {
      "cell_type": "code",
      "metadata": {
        "id": "BR--CnY-FJ3G",
        "colab_type": "code",
        "colab": {
          "base_uri": "https://localhost:8080/",
          "height": 516
        },
        "outputId": "f631d2b7-bba6-44ad-b329-a1f4a07270b5"
      },
      "source": [
        "plt.rcParams['figure.figsize'] = [10, 8]\n",
        "def fattorial(n):\n",
        "    for i in range((n-1), 0, -1):        \n",
        "       n = n * i \n",
        "    return n\n",
        "\n",
        "d =3  # polynomial degree chosen\n",
        "N=8   # number of input of the dataset\n",
        "New_Number_Input = fattorial(d+N)/(fattorial(d)*fattorial(N))  # new number of inputs\n",
        "print(\"D =\",d,\"N =\",N,\"New_Number =\",New_Number_Input)\n",
        "\n",
        "vec = []\n",
        "N=8\n",
        "L = 20\n",
        "for i in range(1,L):\n",
        "  d=i\n",
        "  temp = fattorial(d+N)/(fattorial(d)*fattorial(N))\n",
        "  vec.append(temp)\n",
        "index_bar = np.linspace(1,L-1,L-1)\n",
        "plt.plot(index_bar,np.array(vec))"
      ],
      "execution_count": 117,
      "outputs": [
        {
          "output_type": "stream",
          "text": [
            "D = 3 N = 8 New_Number = 165.0\n"
          ],
          "name": "stdout"
        },
        {
          "output_type": "execute_result",
          "data": {
            "text/plain": [
              "[<matplotlib.lines.Line2D at 0x7fe702eb86a0>]"
            ]
          },
          "metadata": {
            "tags": []
          },
          "execution_count": 117
        },
        {
          "output_type": "display_data",
          "data": {
            "image/png": "[encoded data removed]",
            "text/plain": [
              "<Figure size 720x576 with 1 Axes>"
            ]
          },
          "metadata": {
            "tags": []
          }
        }
      ]
    },
    {
      "cell_type": "code",
      "metadata": {
        "id": "IxYu3eICFNUR",
        "colab_type": "code",
        "colab": {
          "base_uri": "https://localhost:8080/",
          "height": 765
        },
        "outputId": "118569c5-c32a-45c6-c8d4-2c3f3bc71e64"
      },
      "source": [
        "from sklearn import linear_model\n",
        "\n",
        "# Error metrics\n",
        "from sklearn.metrics import mean_squared_error  # MSE\n",
        "from sklearn.metrics import mean_absolute_error # MAE\n",
        "from sklearn.metrics import median_absolute_error # MedAE\n",
        "\n",
        "# Score metrics\n",
        "from sklearn.metrics import explained_variance_score  # explained_variance_score\n",
        "\n",
        "import numpy as np\n",
        "import matplotlib.pyplot as plt\n",
        "from sklearn.preprocessing import PolynomialFeatures\n",
        "import sys\n",
        "#plt.rcParams['figure.figsize'] = [15, 10]\n",
        "\n",
        "def plot(Y_test,Y_pred):\n",
        "  length = Y_pred.shape[0]\n",
        "  index_bar = np.linspace(0,length,length)\n",
        "  plt.plot(index_bar, Y_test, label='Test')\n",
        "  plt.plot(index_bar, Y_pred, label='Prediction')\n",
        "  plt.legend()\n",
        "  plt.show()\n",
        "\n",
        "def plot_learning_curves(model,X_train,Y_train):\n",
        "  train_mse, test_mse = [],[]\n",
        "  train_mae, test_mae = [],[]\n",
        "  train_medae, test_medae = [],[]\n",
        "  for m in range(1,len(X_train)):\n",
        "    model.fit(X_train[:m],Y_train[:m])\n",
        "    Y_train_predict = model.predict(X_train[:m])\n",
        "    Y_test_predict = model.predict(X_test)\n",
        "    # MSE: Mean Square Error\n",
        "    temp_train_mse = mean_squared_error(Y_train[:m],Y_train_predict)\n",
        "    temp_test_mse = mean_squared_error(Y_test,Y_test_predict)\n",
        "    train_mse.append(temp_train_mse)\n",
        "    test_mse.append(temp_test_mse)\n",
        "    # MAE: Maean Absolute Error\n",
        "    temp_train_mae = mean_absolute_error(Y_train[:m],Y_train_predict)\n",
        "    temp_test_mae  = mean_absolute_error(Y_test,Y_test_predict)\n",
        "    train_mae.append(temp_train_mae)\n",
        "    test_mae.append(temp_test_mae)\n",
        "    # MedAE: Median Absolaute Error\n",
        "    temp_train_medae = median_absolute_error(Y_train[:m],Y_train_predict)\n",
        "    temp_test_medae = median_absolute_error(Y_test,Y_test_predict)\n",
        "    train_medae.append(temp_train_medae)\n",
        "    test_medae.append(temp_test_medae)\n",
        "    #print(\"-----------------\")\n",
        "    #print(\"Train MSE\",np.round(temp_train_mse,2), \"MAE: \", np.round(temp_train_mae,2), \"MedAE: \",np.round(temp_train_medae,2))\n",
        "    #print(\"Testt MSE\",np.round(temp_test_mse,2),  \"MAE: \", np.round(temp_test_mae,2), \"MedAE: \", np.round(temp_test_medae,2))\n",
        "    #print(\"-----------------\")\n",
        "\n",
        "  plt.subplot(411)\n",
        "  plt.plot(train_mse, \"r\", linewidth=2, label='trainMSE')\n",
        "  plt.plot(test_mse, \"b\", linewidth=3, label='testMSE')\n",
        "  plt.legend()\n",
        "  plt.subplot(412)\n",
        "  plt.plot(np.sqrt(train_mse), \"r\", linewidth=2, label='trainRMSE')\n",
        "  plt.plot(np.sqrt(test_mse), \"b\", linewidth=3, label='testRMSE')\n",
        "  plt.legend()\n",
        "  plt.subplot(413)\n",
        "  plt.plot(train_mae, \"r\", linewidth=2, label='trainMAE')\n",
        "  plt.plot(test_mae, \"b\", linewidth=3, label='testMAE')\n",
        "  plt.legend()\n",
        "  plt.subplot(414)\n",
        "  plt.plot(train_medae, \"r\", linewidth=2, label='trainMedAE')\n",
        "  plt.plot(test_medae, \"b\", linewidth=3, label='testMedAE')\n",
        "  plt.legend()\n",
        "  \n",
        "# Init\n",
        "m_poly = linear_model.LinearRegression(fit_intercept=True, normalize=False)\n",
        "# Train using Polynomial features (linear combination of the features)\n",
        "poly_features = PolynomialFeatures(degree=2,include_bias=False)\n",
        "poly_features.fit(X_train)\n",
        "X_train_Poly = poly_features.transform(X_train)\n",
        "X_test_Poly = poly_features.transform(X_test)\n",
        "print(\"Shape X_train vs X_train_Poly \", X_train.shape, X_train_Poly.shape)\n",
        "print(\"Shape X_test vs X_test_Poly \",X_test.shape, X_test_Poly.shape)\n",
        "\n",
        "m_poly.fit(X_train_Poly,Y_train)\n",
        "\n",
        "# Predict\n",
        "Y_pred = m_poly.predict(X_test_Poly)\n",
        "\n",
        "# Error Analiysis\n",
        "mse = mean_squared_error(Y_test,Y_pred)\n",
        "rmse = np.sqrt(mean_squared_error(Y_test,Y_pred))\n",
        "mae = mean_absolute_error(Y_test,Y_pred)\n",
        "medae = median_absolute_error(Y_test,Y_pred)\n",
        "print(\"MSE: \", mse, \"RMSE: \", rmse, \"MAE: \", mae, \"MedAE: \", medae)\n",
        "\n",
        "# Score Analysis\n",
        "explained_variance = explained_variance_score(Y_test,Y_pred)\n",
        "R2_score = m_poly.score(X_test_Poly, Y_test)\n",
        "print(\"R2_score: \", R2_score)\n",
        "plot_learning_curves(m_poly,X_train,Y_train)\n",
        "\n",
        "\n",
        "# Error analisi\n",
        "#plot(Y_test,Y_pred)"
      ],
      "execution_count": 130,
      "outputs": [
        {
          "output_type": "stream",
          "text": [
            "Shape X_train vs X_train_Poly  (18576, 8) (18576, 44)\n",
            "Shape X_test vs X_test_Poly  (2064, 8) (2064, 44)\n",
            "MSE:  3.089024856355528 RMSE:  1.757562191319422 MAE:  0.49255883413194507 MedAE:  0.3342050319744629\n",
            "R2_score:  -1.2476877407489155\n"
          ],
          "name": "stdout"
        },
        {
          "output_type": "display_data",
          "data": {
            "image/png": "[encoded data removed]",
            "text/plain": [
              "<Figure size 1080x864 with 4 Axes>"
            ]
          },
          "metadata": {
            "tags": []
          }
        }
      ]
    },
    {
      "cell_type": "markdown",
      "metadata": {
        "colab_type": "text",
        "id": "WZF7Ch_h8lR_"
      },
      "source": [
        "### Extra: Robust Linear Estimator (RANSAC, HUBER, THEILSEN)\n",
        "[Esempio di referimento Robust Linear Estimation Fitting](https://scikit-learn.org/stable/auto_examples/linear_model/plot_robust_fit.html#sphx-glr-auto-examples-linear-model-plot-robust-fit-py)\n",
        "  * RANSAC Estimator (recommended) \n",
        "  * Huber Regressor\n",
        "  * TheilSenRegressor"
      ]
    },
    {
      "cell_type": "markdown",
      "metadata": {
        "id": "jtru2lxUiIXk",
        "colab_type": "text"
      },
      "source": [
        "## 6) Predizione nel mondo reale (Test Real World)\n",
        "Una volta creato il modello io devo saper rispondere alla domanda:\n",
        "Quanto sarà il valore di una casa ( unità di misura: centinaia di miglia di euro) nel distretto californiano se nel 2009:\n",
        "\n",
        "Al fine di predirre il costo medio delle case nel 2009 nel distretto californiamo dobbiamo prima di tutto raccimolare i seguenti dati:\n",
        "  * MedInc = 3.5000 (decine di migliaia di dollari o 35000$)\n",
        "   media degli stipendi (annuale) delle persone che vivono nel quartiere in dollari per casa (a famiglia)\n",
        "  * HouseAge = (55+26)/2 = 40.5\n",
        "  media dell'età delle persone che vivono nella casa. Un numero basso significa che l'edificio è nuovo. \n",
        "  * AveRooms = 3      \n",
        "  numero medio camere per casa (rispetto a tutto il distretto)\n",
        "  * AveBedrms = 2\n",
        "  numero medio di camere da letto per casa\n",
        "  * Population: 2100 abitanti \n",
        "  numero di persone medio che vivono nel quartiere (block)\n",
        "  * AveOccup = 2      \n",
        "  numero medio di persone che vivono in ogni casa \n",
        "  * Latitude = 10 leggermente fuori il centro     \n",
        "   latitudine della casa.Una misura che mi dice quanto una casa è a nord\n",
        "  * Longitude = -20\n",
        "  longitudine della casa. Una misura che mi dice quanto una casa è ad ovest"
      ]
    },
    {
      "cell_type": "code",
      "metadata": {
        "id": "79mIrgIglgHz",
        "colab_type": "code",
        "colab": {
          "base_uri": "https://localhost:8080/",
          "height": 33
        },
        "outputId": "8736e6d9-1ba2-4494-b85b-b3fb45e2be07"
      },
      "source": [
        "# Attenzione alla perdita di significato\n",
        "X_new_test = [[3.5,40.5,3,2,2100,2,37,-122]]\n",
        "Y_pred_new = m_linear.predict(X_new_test)\n",
        "print(\"Costo delal casa in centinai di miglia di dollari: \", Y_pred_new)"
      ],
      "execution_count": 116,
      "outputs": [
        {
          "output_type": "stream",
          "text": [
            "Costo delal casa in centinai di miglia di dollari:  [[3.31185486]]\n"
          ],
          "name": "stdout"
        }
      ]
    },
    {
      "cell_type": "markdown",
      "metadata": {
        "id": "PXyleZSIo1Jh",
        "colab_type": "text"
      },
      "source": [
        ""
      ]
    }
  ]
}